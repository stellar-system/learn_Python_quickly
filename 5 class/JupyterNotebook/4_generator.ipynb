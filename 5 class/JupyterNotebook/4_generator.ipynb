{
 "cells": [
  {
   "cell_type": "markdown",
   "metadata": {},
   "source": [
    "# 生成器(Generator)\n",
    "\n",
    "------------\n",
    "\n",
    "```生成器(generator)```是一个用于创建迭代器的简单而强大的工具。他们的写法类似于标准的函数，但是当他们要返回数据时会使用```yield```语句。每次在生成器上调用```next()```时，他会从上次离开的位置恢复执行（即它会记住上次执行语句时的所有数据值）。一个显示如何非常容易地创建生成器的示例如下："
   ]
  },
  {
   "cell_type": "code",
   "execution_count": 1,
   "metadata": {},
   "outputs": [
    {
     "name": "stdout",
     "output_type": "stream",
     "text": [
      "f\n",
      "l\n",
      "o\n",
      "g\n"
     ]
    }
   ],
   "source": [
    "def reverse(data):\n",
    "    for index in range(len(data)-1,-1,-1):\n",
    "        yield data[index]\n",
    "\n",
    "for char in reverse('golf'):\n",
    "    print(char)"
   ]
  },
  {
   "cell_type": "markdown",
   "metadata": {},
   "source": [
    "**可以用生成器完成的任何功能都可以用基于类的迭代器来完成**，但生成器的写法更为紧凑，因为它会自动创建```__iter__()```和```__next__()```方法。\n",
    "\n",
    "另一个关键特性在于```局部变量```和```执行状态```会在每次调用之间自动保存，这使得该函数相比使用```slef.index```和```self.data``` 这种实例变量的方式更易编写且更为清晰。\n",
    "\n",
    "除了会自动创建方法和保存程序状态，当生成器终结时，他们还会自动引发```StopIteration```，这些特性结合在一起，使得创建迭代器能与编写常规函数一样容易。"
   ]
  },
  {
   "cell_type": "markdown",
   "metadata": {},
   "source": [
    "**生成器表达式**\n",
    "\n",
    "某些简单的生成器可以写成简洁的表达式代码，语法类似列表推导式。但外层为圆括号而非方括号。这种表达式被设计用于生成器将立即被外层函数所使用的情况。生成器表达式相比完整的生成器更紧凑但较不灵活，相比等效的列表推导式则更节省内存。"
   ]
  },
  {
   "cell_type": "code",
   "execution_count": 2,
   "metadata": {},
   "outputs": [
    {
     "data": {
      "text/plain": [
       "285"
      ]
     },
     "execution_count": 2,
     "metadata": {},
     "output_type": "execute_result"
    }
   ],
   "source": [
    "sum(i*i for i in range(10))"
   ]
  },
  {
   "cell_type": "code",
   "execution_count": 3,
   "metadata": {},
   "outputs": [
    {
     "data": {
      "text/plain": [
       "260"
      ]
     },
     "execution_count": 3,
     "metadata": {},
     "output_type": "execute_result"
    }
   ],
   "source": [
    "x_vec = [10, 20, 30]\n",
    "y_vec = [7, 5, 3]\n",
    "sum(x*y for x,y in zip(x_vec,y_vec))"
   ]
  },
  {
   "cell_type": "code",
   "execution_count": null,
   "metadata": {},
   "outputs": [],
   "source": [
    "# 这段代码使用生成器表达式来创建一个包含唯一单词的集合，它遍历page中的每一行，然后对每一行使用split()方法将其拆分成发单词，并将这些单词添加到生成器中，最后，通过将生成器传递给set()函数，创建一个只包含唯一单词的集合。\n",
    "unique_words = set(word for line in page for word in line.split())\n",
    "valedictorian = max((student.gpa, student.name) for student in graduates)"
   ]
  },
  {
   "cell_type": "code",
   "execution_count": 4,
   "metadata": {},
   "outputs": [
    {
     "data": {
      "text/plain": [
       "['f', 'l', 'o', 'g']"
      ]
     },
     "execution_count": 4,
     "metadata": {},
     "output_type": "execute_result"
    }
   ],
   "source": [
    "data = 'golf'\n",
    "list(data[i] for i in range(len(data)-1, -1, -1))"
   ]
  }
 ],
 "metadata": {
  "kernelspec": {
   "display_name": "Python 3 (ipykernel)",
   "language": "python",
   "name": "python3"
  },
  "language_info": {
   "codemirror_mode": {
    "name": "ipython",
    "version": 3
   },
   "file_extension": ".py",
   "mimetype": "text/x-python",
   "name": "python",
   "nbconvert_exporter": "python",
   "pygments_lexer": "ipython3",
   "version": "3.11.4"
  }
 },
 "nbformat": 4,
 "nbformat_minor": 2
}
