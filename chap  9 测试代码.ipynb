{
 "cells": [
  {
   "cell_type": "markdown",
   "id": "811d54d7",
   "metadata": {},
   "source": [
    "# 1 测试函数\n",
    "\n",
    "Python标准库中的模块unittest提供了代码测试工具。\n",
    "\n",
    "**单元测试**用于核实函数的某个方面没有问题\n",
    "\n",
    "**测试用例**是一组单元测试，这些单元测试一起核实函数在各种情形下的行为都符合要求\n",
    "\n",
    "**全覆盖式测试**用例包含一整套单元测试，涵盖了各种可能的函数使用方式。"
   ]
  },
  {
   "cell_type": "markdown",
   "id": "ac99ecbf",
   "metadata": {},
   "source": [
    "# 1.1 一个可通过的测试"
   ]
  },
  {
   "cell_type": "code",
   "execution_count": 10,
   "id": "d02e8191",
   "metadata": {},
   "outputs": [
    {
     "name": "stderr",
     "output_type": "stream",
     "text": [
      "E\n",
      "======================================================================\n",
      "ERROR: C:\\Users\\ASUS\\AppData\\Roaming\\jupyter\\runtime\\kernel-f86f2719-7a74-40e1-9aec-0328eb7854b6 (unittest.loader._FailedTest.C:\\Users\\ASUS\\AppData\\Roaming\\jupyter\\runtime\\kernel-f86f2719-7a74-40e1-9aec-0328eb7854b6)\n",
      "----------------------------------------------------------------------\n",
      "AttributeError: module '__main__' has no attribute 'C:\\Users\\ASUS\\AppData\\Roaming\\jupyter\\runtime\\kernel-f86f2719-7a74-40e1-9aec-0328eb7854b6'\n",
      "\n",
      "----------------------------------------------------------------------\n",
      "Ran 1 test in 0.001s\n",
      "\n",
      "FAILED (errors=1)\n"
     ]
    },
    {
     "name": "stdout",
     "output_type": "stream",
     "text": [
      "Janis Joplin\n"
     ]
    },
    {
     "ename": "SystemExit",
     "evalue": "True",
     "output_type": "error",
     "traceback": [
      "An exception has occurred, use %tb to see the full traceback.\n",
      "\u001b[1;31mSystemExit\u001b[0m\u001b[1;31m:\u001b[0m True\n"
     ]
    },
    {
     "name": "stderr",
     "output_type": "stream",
     "text": [
      "D:\\anaconda\\anaconda\\Lib\\site-packages\\IPython\\core\\interactiveshell.py:3513: UserWarning: To exit: use 'exit', 'quit', or Ctrl-D.\n",
      "  warn(\"To exit: use 'exit', 'quit', or Ctrl-D.\", stacklevel=1)\n"
     ]
    }
   ],
   "source": [
    "# 一个只包含一个方法的测试用例\n",
    "import unittest\n",
    "\n",
    "def get_formatted_name(first, last):\n",
    "    \"\"\"Generate a neatly formatted full name\"\"\"\n",
    "    full_name = first + ' ' + last\n",
    "    return full_name.title()\n",
    "\n",
    "print(get_formatted_name('janis', 'joplin'))\n",
    "\n",
    "class NamesTestCase(unittest.TestCase):\n",
    "    \"\"\"测试get_formatted_name()\"\"\"\n",
    "    \n",
    "    def test_first_last_name(self):\n",
    "        \"\"\"能够正确的处理像Janis Joplin这样的姓名吗？\"\"\"\n",
    "        formatted_name = get_formatted_name('janis', 'joplin')\n",
    "        self.assertEqual(formatted_name, 'Janis Joplin')\n",
    "        \n",
    "unittest.main()"
   ]
  },
  {
   "cell_type": "markdown",
   "id": "9354f93e",
   "metadata": {},
   "source": [
    "这个代码无法正确运行的原因可能是因为 unittest.main() 在 Jupyter notebook 或者某些 IDE 中可能会出现问题。这是因为 unittest.main() 会查看系统的命令行参数，这在这些环境中可能会导致问题。\n"
   ]
  },
  {
   "cell_type": "markdown",
   "id": "8c7bd29a",
   "metadata": {},
   "source": [
    "尝试将 unittest.main() 替换为以下代码：\n",
    "\n",
    "if __name__ == '__main__':\n",
    "    unittest.main(argv=['first-arg-is-ignored'], exit=False)\n",
    "    \n",
    "这样可以避免查看系统的命令行参数，而且 exit=False 可以防止测试运行完毕后退出。"
   ]
  },
  {
   "cell_type": "code",
   "execution_count": 2,
   "id": "71f16891",
   "metadata": {},
   "outputs": [
    {
     "name": "stderr",
     "output_type": "stream",
     "text": [
      ".\n",
      "----------------------------------------------------------------------\n",
      "Ran 1 test in 0.001s\n",
      "\n",
      "OK\n"
     ]
    },
    {
     "name": "stdout",
     "output_type": "stream",
     "text": [
      "Janis Joplin\n"
     ]
    }
   ],
   "source": [
    "# 一个只包含一个方法的测试用例\n",
    "import unittest\n",
    "\n",
    "def get_formatted_name(first, last):\n",
    "    \"\"\"Generate a neatly formatted full name\"\"\"\n",
    "    full_name = first + ' ' + last\n",
    "    return full_name.title()\n",
    "\n",
    "print(get_formatted_name('janis', 'joplin'))\n",
    "\n",
    "class NamesTestCase(unittest.TestCase):\n",
    "    \"\"\"测试get_formatted_name()\"\"\"\n",
    "    \n",
    "    def test_first_last_name(self):\n",
    "        \"\"\"能够正确的处理像Janis Joplin这样的姓名吗？\"\"\"\n",
    "        formatted_name = get_formatted_name('janis', 'joplin')\n",
    "        self.assertEqual(formatted_name, 'Janis Joplin')\n",
    "        \n",
    "if __name__ == '__main__':\n",
    "    unittest.main(argv=['first-arg-is-ignored'], exit=False)"
   ]
  },
  {
   "cell_type": "markdown",
   "id": "eb06cd95",
   "metadata": {},
   "source": [
    "# 1.2 一个不可通过的测试"
   ]
  },
  {
   "cell_type": "code",
   "execution_count": 4,
   "id": "38086a1a",
   "metadata": {},
   "outputs": [
    {
     "name": "stderr",
     "output_type": "stream",
     "text": [
      "E\n",
      "======================================================================\n",
      "ERROR: test_first_last_name (__main__.NamesTestCase.test_first_last_name)\n",
      "能够正确的处理像Janis Joplin这样的姓名吗？\n",
      "----------------------------------------------------------------------\n",
      "Traceback (most recent call last):\n",
      "  File \"C:\\Users\\ASUS\\AppData\\Local\\Temp\\ipykernel_19320\\3346439097.py\", line 13, in test_first_last_name\n",
      "    formatted_name = get_formatted_name('janis', 'joplin')\n",
      "                     ^^^^^^^^^^^^^^^^^^^^^^^^^^^^^^^^^^^^^\n",
      "TypeError: get_formatted_name() missing 1 required positional argument: 'last'\n",
      "\n",
      "----------------------------------------------------------------------\n",
      "Ran 1 test in 0.001s\n",
      "\n",
      "FAILED (errors=1)\n"
     ]
    }
   ],
   "source": [
    "import unittest\n",
    "\n",
    "def get_formatted_name(first, middle, last):\n",
    "    \"\"\"Generate a neatly formatted full name\"\"\"\n",
    "    full_name = first + ' ' + middle + ' ' + last\n",
    "    return full_name.title()\n",
    "\n",
    "class NamesTestCase(unittest.TestCase):\n",
    "    \"\"\"测试get_formatted_name()\"\"\"\n",
    "    \n",
    "    def test_first_last_name(self):\n",
    "        \"\"\"能够正确的处理像Janis Joplin这样的姓名吗？\"\"\"\n",
    "        formatted_name = get_formatted_name('janis', 'joplin')\n",
    "        self.assertEqual(formatted_name, 'Janis Joplin')\n",
    "        \n",
    "if __name__ == '__main__':\n",
    "    unittest.main(argv=['first-arg-is-ignored'], exit=False)"
   ]
  },
  {
   "cell_type": "code",
   "execution_count": null,
   "id": "0a532248",
   "metadata": {},
   "outputs": [],
   "source": []
  }
 ],
 "metadata": {
  "kernelspec": {
   "display_name": "Python 3 (ipykernel)",
   "language": "python",
   "name": "python3"
  },
  "language_info": {
   "codemirror_mode": {
    "name": "ipython",
    "version": 3
   },
   "file_extension": ".py",
   "mimetype": "text/x-python",
   "name": "python",
   "nbconvert_exporter": "python",
   "pygments_lexer": "ipython3",
   "version": "3.11.4"
  }
 },
 "nbformat": 4,
 "nbformat_minor": 5
}
