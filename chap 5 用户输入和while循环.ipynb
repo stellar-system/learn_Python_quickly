{
 "cells": [
  {
   "cell_type": "markdown",
   "id": "33130d5c",
   "metadata": {},
   "source": [
    "# 1 函数input()工作原理\n",
    "\n",
    "函数input()让程序停止运行，等待用户输入一些文本，获取用户输入后，python将其存储在一个变量中方便调用"
   ]
  },
  {
   "cell_type": "code",
   "execution_count": 1,
   "id": "1de22c57",
   "metadata": {},
   "outputs": [
    {
     "name": "stdout",
     "output_type": "stream",
     "text": [
      "Tell me something, and I will repeat it back to you: mesg\n",
      "mesg\n"
     ]
    }
   ],
   "source": [
    "msg = input(\"Tell me something, and I will repeat it back to you: \")\n",
    "print(msg)"
   ]
  },
  {
   "cell_type": "markdown",
   "id": "97fbefce",
   "metadata": {},
   "source": [
    "注意点：input()方法会默认将用户输入存储为str格式，若需要的变量为int或其他类型，需要进行类型转换"
   ]
  },
  {
   "cell_type": "code",
   "execution_count": 2,
   "id": "39355596",
   "metadata": {},
   "outputs": [
    {
     "name": "stdout",
     "output_type": "stream",
     "text": [
      "tell me a number: 11111\n",
      "11111\n",
      "<class 'int'>\n"
     ]
    }
   ],
   "source": [
    "num = int(input('tell me a number: '))\n",
    "print(num)\n",
    "print(type(num))"
   ]
  },
  {
   "cell_type": "markdown",
   "id": "793e7872",
   "metadata": {},
   "source": [
    "# 2 while循环\n",
    "\n",
    "for循环用于针对集合中的每个元素的一个代码块，而while循环不断地运行，直到指定的条件不满足为止"
   ]
  },
  {
   "cell_type": "code",
   "execution_count": 3,
   "id": "fe1acd99",
   "metadata": {},
   "outputs": [
    {
     "name": "stdout",
     "output_type": "stream",
     "text": [
      "1\n",
      "2\n",
      "3\n",
      "4\n",
      "5\n"
     ]
    }
   ],
   "source": [
    "current_number = 1\n",
    "while current_number <= 5:\n",
    "    print(current_number)\n",
    "    current_number += 1"
   ]
  },
  {
   "cell_type": "code",
   "execution_count": 4,
   "id": "1800af99",
   "metadata": {},
   "outputs": [
    {
     "name": "stdout",
     "output_type": "stream",
     "text": [
      "2\n",
      "3\n",
      "4\n",
      "5\n",
      "6\n"
     ]
    }
   ],
   "source": [
    "current_number = 1\n",
    "while current_number <= 5:\n",
    "    current_number += 1\n",
    "    print(current_number)"
   ]
  },
  {
   "cell_type": "code",
   "execution_count": 5,
   "id": "0954ad97",
   "metadata": {},
   "outputs": [
    {
     "name": "stdout",
     "output_type": "stream",
     "text": [
      "tell me something, and I will repeat it back to you； \n",
      "Enter 'quit' to end the programquit\n",
      "quit\n"
     ]
    }
   ],
   "source": [
    "# 让用户选择何时推出循环体\n",
    "prompt = \"tell me something, and I will repeat it back to you； \"\n",
    "prompt += \"\\nEnter 'quit' to end the program\"\n",
    "message = ''\n",
    "while message != 'quit':\n",
    "    message = input(prompt)\n",
    "    print(message)"
   ]
  },
  {
   "cell_type": "markdown",
   "id": "f6ca2050",
   "metadata": {},
   "source": [
    "while循环体中的几个重要概念和保留字：\n",
    "\n",
    "- **标志**：在要求很多条件都要满足才继续运行的程序中，可定义一个变量，用于判断整个程序是否处于活动状态，这个变量被称为标志，标志很有用，在其中的任何一个事件导致活动的标志位变成False时，主游戏循环将推出，此时可显示一条游戏结束消息，并让用户选择是否要重新玩。"
   ]
  },
  {
   "cell_type": "code",
   "execution_count": 6,
   "id": "63747612",
   "metadata": {},
   "outputs": [
    {
     "name": "stdout",
     "output_type": "stream",
     "text": [
      "what: heelll\n",
      "heelll\n",
      "what: 你好\n",
      "你好\n",
      "what: hi\n",
      "hi\n",
      "what: \n",
      "\n",
      "what: quit\n"
     ]
    }
   ],
   "source": [
    "active = True\n",
    "while active:\n",
    "    message = input('what: ')\n",
    "    \n",
    "    if message == 'quit':\n",
    "        active = False\n",
    "    else:\n",
    "        print(message)"
   ]
  },
  {
   "cell_type": "markdown",
   "id": "2a142d4c",
   "metadata": {},
   "source": [
    "- break: 要立即退出循环体而不执行剩下的代码，也不管条件测试的结果如何，可使用break语句"
   ]
  },
  {
   "cell_type": "code",
   "execution_count": 7,
   "id": "d49dc1c4",
   "metadata": {},
   "outputs": [
    {
     "name": "stdout",
     "output_type": "stream",
     "text": [
      "quit\n"
     ]
    }
   ],
   "source": [
    "active = True\n",
    "while active:\n",
    "    message = input()\n",
    "    \n",
    "    if message == 'quit':\n",
    "        break\n",
    "    else:\n",
    "        print(message)"
   ]
  },
  {
   "cell_type": "markdown",
   "id": "b637da6d",
   "metadata": {},
   "source": [
    "- continue： 若要返回循环开头，并根据条件测试的结果决定是否继续执行循环，可使用continue语句，让python忽略continue语句后的代码"
   ]
  },
  {
   "cell_type": "code",
   "execution_count": 8,
   "id": "bd68b0d6",
   "metadata": {},
   "outputs": [
    {
     "name": "stdout",
     "output_type": "stream",
     "text": [
      "2\n",
      "4\n",
      "6\n",
      "8\n",
      "10\n"
     ]
    }
   ],
   "source": [
    "# 打印1~10之间的偶数\n",
    "current_number = 0\n",
    "while current_number <= 10:\n",
    "    current_number += 1\n",
    "    if current_number % 2 == 0:\n",
    "        print(current_number)\n",
    "    else:\n",
    "        continue"
   ]
  },
  {
   "cell_type": "markdown",
   "id": "74350ebf",
   "metadata": {},
   "source": [
    "- 无限循环：关于无限循环，有时我们需要代码一直运行下去，有时我们又希望代码能在限定的条件下停止，因此在设计代码时应对每个循环体进行测试，确保它保持我们需要的运行状态"
   ]
  },
  {
   "cell_type": "markdown",
   "id": "964496b8",
   "metadata": {},
   "source": [
    "# 3 使用while循环处理列表和字典"
   ]
  },
  {
   "cell_type": "markdown",
   "id": "167f82d6",
   "metadata": {},
   "source": [
    "## 3.1 在列表之间移动元素"
   ]
  },
  {
   "cell_type": "code",
   "execution_count": 11,
   "id": "b7de4dc6",
   "metadata": {},
   "outputs": [
    {
     "name": "stdout",
     "output_type": "stream",
     "text": [
      "Verifying user: Candace\n",
      "Verifying user: Brian\n",
      "Verifying user: Alice\n",
      "\n",
      "The following users have been confirmed:\n",
      "Candace\n",
      "Brian\n",
      "Alice\n"
     ]
    }
   ],
   "source": [
    "# 首先创建一个待验证用户列表\n",
    "# 和 一个用于储存已验证用户的列表\n",
    "unconfirmed_users = ['alice', 'brian', 'candace']\n",
    "confirmed_users = []\n",
    "\n",
    "# 验证每个用户，知道没有未验证的用户为止\n",
    "# 将每个经过验证的用户都移到已验证的用户列表中\n",
    "while unconfirmed_users:\n",
    "    current_user = unconfirmed_users.pop()\n",
    "    print(\"Verifying user: \" + current_user.title())\n",
    "    confirmed_users.append(current_user)\n",
    "    \n",
    "# 显示所有已验证的用户\n",
    "print('\\nThe following users have been confirmed:')\n",
    "for confirmed_user in confirmed_users:\n",
    "    print(confirmed_user.title())"
   ]
  },
  {
   "cell_type": "markdown",
   "id": "00f1a382",
   "metadata": {},
   "source": [
    "## 3.2 删除包含特定值的所有列表元素"
   ]
  },
  {
   "cell_type": "code",
   "execution_count": 12,
   "id": "6261358e",
   "metadata": {},
   "outputs": [
    {
     "name": "stdout",
     "output_type": "stream",
     "text": [
      "['dog', 'cat', 'dog', 'goldfish', 'cat', 'rabbit', 'cat']\n",
      "['dog', 'dog', 'goldfish', 'rabbit']\n"
     ]
    }
   ],
   "source": [
    "# remove()方法只能删除列表中出现的第一个目标元素\n",
    "pets = ['dog', 'cat', 'dog', 'goldfish', 'cat', 'rabbit', 'cat']\n",
    "print(pets)\n",
    "\n",
    "while 'cat' in pets:\n",
    "    pets.remove('cat')\n",
    "    \n",
    "print(pets)"
   ]
  },
  {
   "cell_type": "markdown",
   "id": "681843c0",
   "metadata": {},
   "source": [
    "##  3.3 使用用户输入来填充字典"
   ]
  },
  {
   "cell_type": "code",
   "execution_count": 2,
   "id": "06c668db",
   "metadata": {},
   "outputs": [
    {
     "name": "stdout",
     "output_type": "stream",
     "text": [
      "\n",
      "What is your name? Liu Haoran\n",
      "Which moutain would you like to climb someday? 喜马拉雅\n",
      "Would you like to let another person respond?(yes/no) yes\n",
      "\n",
      "What is your name? Fei ang\n",
      "Which moutain would you like to climb someday? 富士\n",
      "Would you like to let another person respond?(yes/no) no\n",
      "\n",
      "---polling results---\n",
      "Liu Haoran would like to climb 喜马拉雅.\n",
      "Fei ang would like to climb 富士.\n"
     ]
    }
   ],
   "source": [
    "# 可使用while循环提示用户输入任意熟练的信息\n",
    "responses = {}\n",
    "\n",
    "# 设置一个标志，指出调查是否继续\n",
    "polling_active = True\n",
    "\n",
    "while polling_active:\n",
    "    # 提示输入被调查者的名字和回答\n",
    "    name = input('\\nWhat is your name? ')\n",
    "    response = input('Which moutain would you like to climb someday? ')\n",
    "    \n",
    "    # 将答案存储在字典中\n",
    "    responses[name] = response\n",
    "    \n",
    "    # 看看是否还有人要参与调查\n",
    "    repeat = input('Would you like to let another person respond?(yes/no) ')\n",
    "    if repeat == 'no':\n",
    "        polling_active = False\n",
    "        \n",
    "# 调查结束，显示结果\n",
    "print('\\n---polling results---')\n",
    "for name,response in responses.items():\n",
    "    print(name + \" would like to climb \" + response + '.')"
   ]
  }
 ],
 "metadata": {
  "kernelspec": {
   "display_name": "Python 3 (ipykernel)",
   "language": "python",
   "name": "python3"
  },
  "language_info": {
   "codemirror_mode": {
    "name": "ipython",
    "version": 3
   },
   "file_extension": ".py",
   "mimetype": "text/x-python",
   "name": "python",
   "nbconvert_exporter": "python",
   "pygments_lexer": "ipython3",
   "version": "3.11.4"
  }
 },
 "nbformat": 4,
 "nbformat_minor": 5
}
