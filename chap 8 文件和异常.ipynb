{
 "cells": [
  {
   "cell_type": "markdown",
   "id": "65d15657",
   "metadata": {},
   "source": [
    "# 1 从文件中读取数据"
   ]
  },
  {
   "cell_type": "markdown",
   "id": "67ac5eea",
   "metadata": {},
   "source": [
    "## 1.1 读取整个文件"
   ]
  },
  {
   "cell_type": "code",
   "execution_count": 35,
   "id": "cdf2f5fd",
   "metadata": {},
   "outputs": [
    {
     "name": "stdout",
     "output_type": "stream",
     "text": [
      "3.1415926535\n",
      "  8979323846\n",
      "  2643383279\n",
      "<class '_io.TextIOWrapper'>\n"
     ]
    }
   ],
   "source": [
    "with open('.\\doc\\pi_digits.txt') as file_object:\n",
    "    contents = file_object.read()\n",
    "    print(contents)\n",
    "    print(type(file_object))"
   ]
  },
  {
   "cell_type": "markdown",
   "id": "2e640868",
   "metadata": {},
   "source": [
    "要点解析：\n",
    "\n",
    "1. 看函数open(),要以任何方式使用文件，首先得**打开文件**并访问它。函数open()接收一个参数，即要打开的文件的名称，并返回一个表示文件的对象。Python将这个对象存储在as后的变量(即file_object)中。\n",
    "\n",
    "2. 关键字with在不需要访问文件后将其关闭。（使用close()方法关闭文件也可，但可能会导致不必要的bug如close()语句未执行或过早执行等。\n",
    "\n",
    "3. read()方法读取文件内容，并将其作为字符串保存在变量contents中。在read()到达文件末尾时返回一个空字符串，而将这个空字符串显示时出来就是一个空行，可通过rstrip()将其去掉。"
   ]
  },
  {
   "cell_type": "markdown",
   "id": "07090830",
   "metadata": {},
   "source": [
    "文件路径：\n",
    "\n",
    "1. 相对文件路径：Linux和macOS test_files//filename.txt\n",
    "                 windows text_files\\filename.txt\n",
    "    相对路径是指相对于当前执行的文件（即.py程序文件）所在的目录\n",
    "2. 绝对文件路径：即完整的文件路径，其比相对路径长，因此将其存储在一个变量中，再将该变量传递给open()"
   ]
  },
  {
   "cell_type": "code",
   "execution_count": 36,
   "id": "a0c0c937",
   "metadata": {},
   "outputs": [
    {
     "name": "stdout",
     "output_type": "stream",
     "text": [
      "3.1415926535\n",
      "\n",
      "  8979323846\n",
      "\n",
      "  2643383279\n"
     ]
    }
   ],
   "source": [
    "# 要逐行读取文件，可对文件对象使用for循环\n",
    "filename = '.\\doc\\pi_digits.txt'\n",
    "\n",
    "with open(filename) as file_object:\n",
    "    for line in file_object:\n",
    "        print(line)"
   ]
  },
  {
   "cell_type": "markdown",
   "id": "96444d45",
   "metadata": {},
   "source": [
    "在这个文件中，每行末尾都有一个换行符，而print语句也会加上一个换行符，因此每行末尾都有两个换行符，一个来自文件，一个来自print语句，要消除这些多余的换行符，可在print()语句中使用.rstrip()方法"
   ]
  },
  {
   "cell_type": "code",
   "execution_count": 37,
   "id": "cec8a3c4",
   "metadata": {},
   "outputs": [
    {
     "name": "stdout",
     "output_type": "stream",
     "text": [
      "3.1415926535\n",
      "  8979323846\n",
      "  2643383279\n"
     ]
    }
   ],
   "source": [
    "with open(filename) as file_object:\n",
    "    for line in file_object:\n",
    "        print(line.rstrip())"
   ]
  },
  {
   "cell_type": "code",
   "execution_count": 38,
   "id": "1735819f",
   "metadata": {},
   "outputs": [
    {
     "name": "stdout",
     "output_type": "stream",
     "text": [
      "3.1415926535\n",
      "  8979323846\n",
      "  2643383279\n",
      "12\n",
      "10\n",
      "10\n",
      "3.141592653589793238462643383279\n",
      "32\n"
     ]
    }
   ],
   "source": [
    "# 创建一个包含文件各行内容的列表\n",
    "\n",
    "with open(filename) as file_object:\n",
    "    lines = file_object.readlines()\n",
    "    \n",
    "for line in lines:\n",
    "    print(line.rstrip())\n",
    "    \n",
    "pi_string = ''\n",
    "for line in lines:\n",
    "    pi_string += line.strip()\n",
    "    print(len(line.strip()))\n",
    "    \n",
    "print(pi_string)\n",
    "print(len(pi_string))"
   ]
  },
  {
   "cell_type": "markdown",
   "id": "33638b72",
   "metadata": {},
   "source": [
    "方法readlines()从文件中读取每一行，并将其存储在一个列表中，接下来，该列表被存储到变量lines中，在with代码块之外，我们依然可以使用这个变量。\n",
    "注意，方法readline()与readlines()仅仅一个字母只差，但后者会返回文件第一行中每个字符为元素的列表。"
   ]
  },
  {
   "cell_type": "code",
   "execution_count": 39,
   "id": "debbf0a0",
   "metadata": {},
   "outputs": [
    {
     "name": "stdout",
     "output_type": "stream",
     "text": [
      "3\n",
      ".\n",
      "1\n",
      "4\n",
      "1\n",
      "5\n",
      "9\n",
      "2\n",
      "6\n",
      "5\n",
      "3\n",
      "5\n",
      "\n"
     ]
    }
   ],
   "source": [
    "with open(filename) as file_object:\n",
    "    lines = file_object.readline()\n",
    "    \n",
    "for line in lines:\n",
    "    print(line.rstrip())"
   ]
  },
  {
   "cell_type": "markdown",
   "id": "5c45d959",
   "metadata": {},
   "source": [
    "# 2 写入文件"
   ]
  },
  {
   "cell_type": "code",
   "execution_count": 40,
   "id": "4849f489",
   "metadata": {},
   "outputs": [],
   "source": [
    "# 写入空文件\n",
    "filename = '.\\doc\\programming.txt'\n",
    "\n",
    "with open(filename, 'w') as file_object:\n",
    "    file_object.write('I love programming.')"
   ]
  },
  {
   "cell_type": "markdown",
   "id": "9f27fc6c",
   "metadata": {},
   "source": [
    "上例中，调用open()时提供了两个实参：\n",
    "\n",
    "①是要打开的文件的名称，如果要写入的文件不存在，函数open()将自动创建它。\n",
    "\n",
    "②第二个实参'w'告诉python，我们要以**写入模式**打开这个文件，打开文件时，可指定**读取模式('r')、写入模式('w')、附加模式('a')和同时支持读取和写入的模式('r+')**，如果忽略了**模式实参**，python将默认以只读模式代开文件。**以写入模式打开文件时，如果该文件已存在，python将在返回文件对象前清空该文件**\n",
    "\n",
    "**python只能将字符串写入文本文件，要将数值数据存储到文本文件中，必须先使用函数str()将其转换为字符串格式**\n"
   ]
  },
  {
   "cell_type": "code",
   "execution_count": 42,
   "id": "fd0f3f46",
   "metadata": {},
   "outputs": [],
   "source": [
    "# 写入多行文件\n",
    "filename = '.\\doc\\programming.txt'\n",
    "\n",
    "with open(filename,'w') as file_object:\n",
    "    file_object.write('I love programming.\\n') # 若要文本文件显示为多行，则字符串末尾的换行符不可省略\n",
    "    file_object.write('I love creating new games.\\n')"
   ]
  },
  {
   "cell_type": "code",
   "execution_count": 43,
   "id": "674b34f3",
   "metadata": {},
   "outputs": [],
   "source": [
    "# 附加到文件\n",
    "with open(filename,'a') as file_object:\n",
    "    file_object.write('I also love finding meaning in large datasets.\\n')\n",
    "    file_object.write('I love creating apps that can run in a browser.\\n')"
   ]
  },
  {
   "cell_type": "markdown",
   "id": "5dfdb5f5",
   "metadata": {},
   "source": [
    "# 3 异常\n",
    "\n",
    "python使用被称为**异常**的特殊对象来管理程序执行期间发生的错误。每当发生让python不知所措的错误时，它都会创建一个**异常对象**，如果你编写了处理该异常的相关代码，程序将继续运行；否则程序将停止，并显示一个**traceback**，其中包含有关异常的报告。\n",
    "\n",
    "异常是使用**try-except**代码块处理的，try-except代码块让python执行指定的操作，同时告诉python发生异常时该怎么办，使用该代码块时，即便出现异常，程序也将继续运行，显示你编写的友好的错误信息。"
   ]
  },
  {
   "cell_type": "markdown",
   "id": "19dd420f",
   "metadata": {},
   "source": [
    "## 3.1 处理ZeroDivisionError异常"
   ]
  },
  {
   "cell_type": "code",
   "execution_count": 44,
   "id": "0f6382b0",
   "metadata": {},
   "outputs": [
    {
     "ename": "ZeroDivisionError",
     "evalue": "division by zero",
     "output_type": "error",
     "traceback": [
      "\u001b[1;31m---------------------------------------------------------------------------\u001b[0m",
      "\u001b[1;31mZeroDivisionError\u001b[0m                         Traceback (most recent call last)",
      "Cell \u001b[1;32mIn[44], line 1\u001b[0m\n\u001b[1;32m----> 1\u001b[0m \u001b[38;5;28mprint\u001b[39m(\u001b[38;5;241m5\u001b[39m\u001b[38;5;241m/\u001b[39m\u001b[38;5;241m0\u001b[39m)\n",
      "\u001b[1;31mZeroDivisionError\u001b[0m: division by zero"
     ]
    }
   ],
   "source": [
    "print(5/0)"
   ]
  },
  {
   "cell_type": "code",
   "execution_count": 45,
   "id": "7f4a603c",
   "metadata": {},
   "outputs": [
    {
     "name": "stdout",
     "output_type": "stream",
     "text": [
      "You can't divide by zero!\n"
     ]
    }
   ],
   "source": [
    "try:\n",
    "    print(5/0)\n",
    "except ZeroDivisionError:\n",
    "    print(\"You can't divide by zero!\")"
   ]
  },
  {
   "cell_type": "markdown",
   "id": "33f03a87",
   "metadata": {},
   "source": [
    "依赖于try代码块成功执行的代码都应放到else代码块中："
   ]
  },
  {
   "cell_type": "code",
   "execution_count": 1,
   "id": "227c9880",
   "metadata": {},
   "outputs": [
    {
     "name": "stdout",
     "output_type": "stream",
     "text": [
      "Give me two numbers, and I'll divide them.\n",
      "Enter 'q' to quit\n",
      "First number: 1\n",
      "Second number: 2\n",
      "0.5\n"
     ]
    }
   ],
   "source": [
    "print(\"Give me two numbers, and I'll divide them.\")\n",
    "print(\"Enter 'q' to quit\")\n",
    "\n",
    "while True:\n",
    "    first_number = input('First number: ')\n",
    "    if first_number == 'q':\n",
    "        break\n",
    "    second_number = input('Second number: ')\n",
    "    if second_number == 'q':\n",
    "        break\n",
    "    try:\n",
    "        answer = int(first_number) / int(second_number)\n",
    "    except ZeroDivisionError:\n",
    "        print(\"You can't divede by 0!\")\n",
    "    else:\n",
    "        print(answer)\n",
    "        break"
   ]
  },
  {
   "cell_type": "markdown",
   "id": "ab9e1890",
   "metadata": {},
   "source": [
    "try-except代码块结构：\n",
    "\n",
    "```\n",
    "try:\n",
    "    （可能报错的代码）\n",
    "except （可能出现的错误种类）：\n",
    "    （出现错误后的操作）\n",
    "else:\n",
    "    （未出错时的操作）\n",
    "```\n",
    "\n",
    "在程序出现异常时，可将出现错误后的操作设置为pass，这样程序将不会有任何反应"
   ]
  },
  {
   "cell_type": "markdown",
   "id": "62350fd6",
   "metadata": {},
   "source": [
    "## 3.2 处理FileNotFoundError异常"
   ]
  },
  {
   "cell_type": "code",
   "execution_count": 5,
   "id": "f4eb6cf1",
   "metadata": {},
   "outputs": [
    {
     "ename": "FileNotFoundError",
     "evalue": "[Errno 2] No such file or directory: '.\\\\doc\\\\alice.txt'",
     "output_type": "error",
     "traceback": [
      "\u001b[1;31m---------------------------------------------------------------------------\u001b[0m",
      "\u001b[1;31mFileNotFoundError\u001b[0m                         Traceback (most recent call last)",
      "Cell \u001b[1;32mIn[5], line 3\u001b[0m\n\u001b[0;32m      1\u001b[0m filename \u001b[38;5;241m=\u001b[39m \u001b[38;5;124m'\u001b[39m\u001b[38;5;124m.\u001b[39m\u001b[38;5;130;01m\\\\\u001b[39;00m\u001b[38;5;124mdoc\u001b[39m\u001b[38;5;130;01m\\\\\u001b[39;00m\u001b[38;5;124malice.txt\u001b[39m\u001b[38;5;124m'\u001b[39m\n\u001b[1;32m----> 3\u001b[0m \u001b[38;5;28;01mwith\u001b[39;00m \u001b[38;5;28mopen\u001b[39m(filename) \u001b[38;5;28;01mas\u001b[39;00m file_object:\n\u001b[0;32m      4\u001b[0m     contents \u001b[38;5;241m=\u001b[39m file_object\u001b[38;5;241m.\u001b[39mread()\n\u001b[0;32m      5\u001b[0m     \u001b[38;5;28mprint\u001b[39m(contents)\n",
      "File \u001b[1;32mD:\\anaconda\\anaconda\\Lib\\site-packages\\IPython\\core\\interactiveshell.py:284\u001b[0m, in \u001b[0;36m_modified_open\u001b[1;34m(file, *args, **kwargs)\u001b[0m\n\u001b[0;32m    277\u001b[0m \u001b[38;5;28;01mif\u001b[39;00m file \u001b[38;5;129;01min\u001b[39;00m {\u001b[38;5;241m0\u001b[39m, \u001b[38;5;241m1\u001b[39m, \u001b[38;5;241m2\u001b[39m}:\n\u001b[0;32m    278\u001b[0m     \u001b[38;5;28;01mraise\u001b[39;00m \u001b[38;5;167;01mValueError\u001b[39;00m(\n\u001b[0;32m    279\u001b[0m         \u001b[38;5;124mf\u001b[39m\u001b[38;5;124m\"\u001b[39m\u001b[38;5;124mIPython won\u001b[39m\u001b[38;5;124m'\u001b[39m\u001b[38;5;124mt let you open fd=\u001b[39m\u001b[38;5;132;01m{\u001b[39;00mfile\u001b[38;5;132;01m}\u001b[39;00m\u001b[38;5;124m by default \u001b[39m\u001b[38;5;124m\"\u001b[39m\n\u001b[0;32m    280\u001b[0m         \u001b[38;5;124m\"\u001b[39m\u001b[38;5;124mas it is likely to crash IPython. If you know what you are doing, \u001b[39m\u001b[38;5;124m\"\u001b[39m\n\u001b[0;32m    281\u001b[0m         \u001b[38;5;124m\"\u001b[39m\u001b[38;5;124myou can use builtins\u001b[39m\u001b[38;5;124m'\u001b[39m\u001b[38;5;124m open.\u001b[39m\u001b[38;5;124m\"\u001b[39m\n\u001b[0;32m    282\u001b[0m     )\n\u001b[1;32m--> 284\u001b[0m \u001b[38;5;28;01mreturn\u001b[39;00m io_open(file, \u001b[38;5;241m*\u001b[39margs, \u001b[38;5;241m*\u001b[39m\u001b[38;5;241m*\u001b[39mkwargs)\n",
      "\u001b[1;31mFileNotFoundError\u001b[0m: [Errno 2] No such file or directory: '.\\\\doc\\\\alice.txt'"
     ]
    }
   ],
   "source": [
    "filename = '.\\\\doc\\\\alice.txt'\n",
    "\n",
    "with open(filename) as file_object:\n",
    "    contents = file_object.read()\n",
    "    print(contents)"
   ]
  },
  {
   "cell_type": "code",
   "execution_count": 7,
   "id": "f01efa9e",
   "metadata": {},
   "outputs": [
    {
     "name": "stdout",
     "output_type": "stream",
     "text": [
      "No such file named .\\doc\\alice.txt.\n"
     ]
    }
   ],
   "source": [
    "try:\n",
    "    with open(filename) as file_object:\n",
    "        contents = file_object.read()\n",
    "        print(contents)\n",
    "except FileNotFoundError:\n",
    "    print(\"No such file named \" + filename + '.')"
   ]
  },
  {
   "cell_type": "markdown",
   "id": "4df87aaa",
   "metadata": {},
   "source": [
    "# 4 使用json存储数据 \n",
    "\n",
    "json(JavaScript Object Notation)格式最初是为JavaScript开发的，但随后成为了一种常见格式，被包括Python在内的众多语言采用。"
   ]
  },
  {
   "cell_type": "code",
   "execution_count": 3,
   "id": "37b93f72",
   "metadata": {},
   "outputs": [],
   "source": [
    "# 使用json.dump()和json.load()\n",
    "# json.load()接收两个实参：要存储的数据以及可用于存储数据的文件对象。\n",
    "\n",
    "import json\n",
    "\n",
    "numbers = [2, 3, 5, 7, 11, 13]\n",
    "\n",
    "filename = '.\\\\doc\\\\numbers.json'\n",
    "with open(filename, 'w') as f_obj:\n",
    "    json.dump(numbers, f_obj)"
   ]
  },
  {
   "cell_type": "code",
   "execution_count": 5,
   "id": "6d2c77c4",
   "metadata": {},
   "outputs": [
    {
     "name": "stdout",
     "output_type": "stream",
     "text": [
      "[2, 3, 5, 7, 11, 13]\n"
     ]
    }
   ],
   "source": [
    "# json.load()\n",
    "with open(filename) as f_obj:\n",
    "    numbers = json.load(f_obj)\n",
    "    \n",
    "print(numbers)"
   ]
  },
  {
   "cell_type": "code",
   "execution_count": 6,
   "id": "eefb73cc",
   "metadata": {},
   "outputs": [
    {
     "name": "stdout",
     "output_type": "stream",
     "text": [
      "What's your name?Eric\n",
      "We'll remember you when you come back, Eric!\n"
     ]
    }
   ],
   "source": [
    "# remember_me.py\n",
    "import json\n",
    "\n",
    "username = input(\"What's your name?\")\n",
    "\n",
    "filename = '.\\\\doc\\\\username.json'\n",
    "with open(filename, 'w') as f_obj:\n",
    "    json.dump(username, f_obj)\n",
    "    print(\"We'll remember you when you come back, \" + username + \"!\")"
   ]
  },
  {
   "cell_type": "code",
   "execution_count": 7,
   "id": "6041763e",
   "metadata": {},
   "outputs": [
    {
     "name": "stdout",
     "output_type": "stream",
     "text": [
      "Welcome back Eric!\n"
     ]
    }
   ],
   "source": [
    "# greet_user.py\n",
    "with open(filename) as f_obj:\n",
    "    username = json.load(f_obj)\n",
    "    print(\"Welcome back \" + username + \"!\")"
   ]
  },
  {
   "cell_type": "code",
   "execution_count": 9,
   "id": "6ebdc286",
   "metadata": {},
   "outputs": [
    {
     "name": "stdout",
     "output_type": "stream",
     "text": [
      "Welcome back Eric!\n"
     ]
    }
   ],
   "source": [
    "import json\n",
    "\n",
    "# 如果以前存储了用户名，就加载它\n",
    "# 否则，就提示用户输入用户名并存储它\n",
    "filename = '.\\\\doc\\\\username.json'\n",
    "try:\n",
    "    with open(filename) as f_obj:\n",
    "        username = json.load(f_obj)\n",
    "except FileNotFoundError:\n",
    "    username = input(\"What's your name?\")\n",
    "    with open(filename, 'w') as f_obj:\n",
    "        json.dump(username, f_obj)\n",
    "        print(\"We'll remember you when you come back, \" + username + \"!\")\n",
    "else:\n",
    "    print(\"Welcome back \" + username + \"!\")"
   ]
  },
  {
   "cell_type": "code",
   "execution_count": 14,
   "id": "44648900",
   "metadata": {},
   "outputs": [
    {
     "name": "stdout",
     "output_type": "stream",
     "text": [
      "Welcome back Liu Haoran!\n"
     ]
    }
   ],
   "source": [
    "# 尝试重构以上代码\n",
    "\n",
    "def get_stored_username(filename):\n",
    "    \"\"\"如果存储了用户名，就获取它\"\"\"\n",
    "    try:\n",
    "        with open(filename) as f_obj:\n",
    "            username = json.load(f_obj)\n",
    "    except FileNotFoundError:\n",
    "        return None\n",
    "    else:\n",
    "        return username\n",
    "    \n",
    "def get_new_username(filename):\n",
    "    \"\"\"提示用户输入用户名\"\"\"\n",
    "    username = input(\"What's your name?\")\n",
    "    with open(filename, 'w') as f_obj:\n",
    "        json.dump(username, f_obj)\n",
    "    return username\n",
    "\n",
    "def greet_user(filename):\n",
    "    \"\"\"问候用户，并指出其名字\"\"\"\n",
    "    username = get_stored_username(filename)\n",
    "    if username:\n",
    "        print(\"Welcome back \" + username + \"!\")\n",
    "    else:\n",
    "        username = get_new_username(filename)\n",
    "        print(\"We'll remember you when you come back, \" + username + \"!\")\n",
    "\n",
    "filename = '.\\\\doc\\\\username.json'\n",
    "greet_user(filename)"
   ]
  }
 ],
 "metadata": {
  "kernelspec": {
   "display_name": "Python 3 (ipykernel)",
   "language": "python",
   "name": "python3"
  },
  "language_info": {
   "codemirror_mode": {
    "name": "ipython",
    "version": 3
   },
   "file_extension": ".py",
   "mimetype": "text/x-python",
   "name": "python",
   "nbconvert_exporter": "python",
   "pygments_lexer": "ipython3",
   "version": "3.11.4"
  }
 },
 "nbformat": 4,
 "nbformat_minor": 5
}
