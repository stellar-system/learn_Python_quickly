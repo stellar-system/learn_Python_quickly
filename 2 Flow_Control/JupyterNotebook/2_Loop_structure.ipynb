{
 "cells": [
  {
   "cell_type": "markdown",
   "metadata": {},
   "source": [
    "# 1 for循环\n",
    "\n",
    "------------\n",
    "\n",
    "for循环可以遍历任何序列的项目，如列表或字符串（字符串可以看作字符列表，同样可以进行索引、切片等操作）"
   ]
  },
  {
   "cell_type": "markdown",
   "metadata": {},
   "source": [
    "## 1.1 for循环语法：\n",
    "```\n",
    "for 变量名 in 序列：\n",
    "    函数（变量名） # 后续操作\n",
    "```\n",
    "for循环每次从序列中取一个值放入变量中，变量名是自定义的，常常取用i或其他方便理解代码的名称，变量通常会直接在循环体内进行调用\n"
   ]
  },
  {
   "cell_type": "markdown",
   "metadata": {},
   "source": [
    "# 2 while循环\n",
    "\n",
    "--------------\n",
    "\n",
    "for循环用于针对集合中的每个元素的一个代码块，而while循环不断地运行，直到指定的条件不满足为止"
   ]
  },
  {
   "cell_type": "markdown",
   "metadata": {},
   "source": [
    "## 2.1 while循环语法：\n",
    "```\n",
    "while 条件判断：\n",
    "    循环体\n",
    "```"
   ]
  },
  {
   "cell_type": "code",
   "execution_count": 1,
   "metadata": {},
   "outputs": [
    {
     "name": "stdout",
     "output_type": "stream",
     "text": [
      "1\n",
      "2\n",
      "3\n",
      "4\n",
      "5\n"
     ]
    }
   ],
   "source": [
    "current_number = 1\n",
    "while current_number <= 5:\n",
    "    print(current_number)\n",
    "    current_number += 1"
   ]
  },
  {
   "cell_type": "code",
   "execution_count": 2,
   "metadata": {},
   "outputs": [
    {
     "name": "stdout",
     "output_type": "stream",
     "text": [
      "quit\n"
     ]
    }
   ],
   "source": [
    "# 让用户选择何时推出循环体\n",
    "prompt = \"tell me something, and I will repeat it back to you； \"\n",
    "prompt += \"\\nEnter 'quit' to end the program\"\n",
    "message = ''\n",
    "while message != 'quit':\n",
    "    message = input(prompt)\n",
    "    print(message)"
   ]
  },
  {
   "cell_type": "markdown",
   "metadata": {},
   "source": [
    "## 2.3 使用while循环处理列表和字典"
   ]
  },
  {
   "cell_type": "markdown",
   "metadata": {},
   "source": [
    "- 1 在列表之间移动元素"
   ]
  },
  {
   "cell_type": "code",
   "execution_count": 6,
   "metadata": {},
   "outputs": [
    {
     "name": "stdout",
     "output_type": "stream",
     "text": [
      "Verifying user: Candace\n",
      "Verifying user: Brian\n",
      "Verifying user: Alice\n",
      "\n",
      "The following users have been confirmed:\n",
      "Candace\n",
      "Brian\n",
      "Alice\n"
     ]
    }
   ],
   "source": [
    "# 首先创建一个待验证用户列表\n",
    "# 和 一个用于储存已验证用户的列表\n",
    "unconfirmed_users = ['alice', 'brian', 'candace']\n",
    "confirmed_users = []\n",
    "\n",
    "# 验证每个用户，知道没有未验证的用户为止\n",
    "# 将每个经过验证的用户都移到已验证的用户列表中\n",
    "while unconfirmed_users:\n",
    "    current_user = unconfirmed_users.pop()\n",
    "    print(\"Verifying user: \" + current_user.title())\n",
    "    confirmed_users.append(current_user)\n",
    "    \n",
    "# 显示所有已验证的用户\n",
    "print('\\nThe following users have been confirmed:')\n",
    "for confirmed_user in confirmed_users:\n",
    "    print(confirmed_user.title())"
   ]
  },
  {
   "cell_type": "markdown",
   "metadata": {},
   "source": [
    "- 2 删除包含特定值的所有列表元素"
   ]
  },
  {
   "cell_type": "code",
   "execution_count": 7,
   "metadata": {},
   "outputs": [
    {
     "name": "stdout",
     "output_type": "stream",
     "text": [
      "['dog', 'cat', 'dog', 'goldfish', 'cat', 'rabbit', 'cat']\n",
      "['dog', 'dog', 'goldfish', 'rabbit']\n"
     ]
    }
   ],
   "source": [
    "# remove()方法只能删除列表中出现的第一个目标元素\n",
    "pets = ['dog', 'cat', 'dog', 'goldfish', 'cat', 'rabbit', 'cat']\n",
    "print(pets)\n",
    "\n",
    "while 'cat' in pets:\n",
    "    pets.remove('cat')\n",
    "    \n",
    "print(pets)"
   ]
  },
  {
   "cell_type": "markdown",
   "metadata": {},
   "source": [
    "- 3 使用用户输入来填充字典"
   ]
  },
  {
   "cell_type": "code",
   "execution_count": 8,
   "metadata": {},
   "outputs": [
    {
     "name": "stdout",
     "output_type": "stream",
     "text": [
      "\n",
      "---polling results---\n",
      " would like to climb .\n",
      "lhr would like to climb abc.\n"
     ]
    }
   ],
   "source": [
    "# 可使用while循环提示用户输入任意熟练的信息\n",
    "responses = {}\n",
    "\n",
    "# 设置一个标志，指出调查是否继续\n",
    "polling_active = True\n",
    "\n",
    "while polling_active:\n",
    "    # 提示输入被调查者的名字和回答\n",
    "    name = input('\\nWhat is your name? ')\n",
    "    response = input('Which moutain would you like to climb someday? ')\n",
    "    \n",
    "    # 将答案存储在字典中\n",
    "    responses[name] = response\n",
    "    \n",
    "    # 看看是否还有人要参与调查\n",
    "    repeat = input('Would you like to let another person respond?(yes/no) ')\n",
    "    if repeat == 'no':\n",
    "        polling_active = False\n",
    "        \n",
    "# 调查结束，显示结果\n",
    "print('\\n---polling results---')\n",
    "for name,response in responses.items():\n",
    "    print(name + \" would like to climb \" + response + '.')"
   ]
  },
  {
   "cell_type": "markdown",
   "metadata": {},
   "source": [
    "# 3 循环体中的几个重要概念和保留字：\n",
    "\n",
    "------------------------------\n",
    "\n",
    "###  3.1 **标志**：\n",
    "    在要求很多条件都要满足才继续运行的程序中，可定义一个变量，用于判断整个程序是否处于活动状态，这个变量被称为标志，标志很有用，在其中的任何一个事件导致活动的标志位变成False时，主游戏循环将推出，此时可显示一条游戏结束消息，并让用户选择是否要重新玩。"
   ]
  },
  {
   "cell_type": "code",
   "execution_count": 3,
   "metadata": {},
   "outputs": [],
   "source": [
    "active = True\n",
    "while active:\n",
    "    message = input('what: ')\n",
    "    \n",
    "    if message == 'quit':\n",
    "        active = False\n",
    "    else:\n",
    "        print(message)"
   ]
  },
  {
   "cell_type": "markdown",
   "metadata": {},
   "source": [
    "### 3.2 **break**: \n",
    "    要立即退出**最近的**一层循环体而不执行剩下的代码，也不管条件测试的结果如何，可使用break语句"
   ]
  },
  {
   "cell_type": "code",
   "execution_count": 4,
   "metadata": {},
   "outputs": [],
   "source": [
    "active = True\n",
    "while active:\n",
    "    message = input()\n",
    "    \n",
    "    if message == 'quit':\n",
    "        break\n",
    "    else:\n",
    "        print(message)"
   ]
  },
  {
   "cell_type": "markdown",
   "metadata": {},
   "source": [
    "### 3.3 **continue**： \n",
    "    若要返回循环开头，并根据条件测试的结果决定是否继续执行循环，可使用continue语句，让python忽略continue语句后的代码"
   ]
  },
  {
   "cell_type": "code",
   "execution_count": 5,
   "metadata": {},
   "outputs": [
    {
     "name": "stdout",
     "output_type": "stream",
     "text": [
      "2\n",
      "4\n",
      "6\n",
      "8\n",
      "10\n"
     ]
    }
   ],
   "source": [
    "# 打印1~10之间的偶数\n",
    "current_number = 0\n",
    "while current_number <= 10:\n",
    "    current_number += 1\n",
    "    if current_number % 2 == 0:\n",
    "        print(current_number)\n",
    "    else:\n",
    "        continue"
   ]
  },
  {
   "cell_type": "markdown",
   "metadata": {},
   "source": [
    "### 3.4 **无限循环**：\n",
    "    关于无限循环，有时我们需要代码一直运行下去，有时我们又希望代码能在限定的条件下停止，因此在设计代码时应对每个循环体进行测试，确保它保持我们需要的运行状态"
   ]
  },
  {
   "cell_type": "markdown",
   "metadata": {},
   "source": [
    "### 3.5 **pass语句**：\n",
    "    pass语句是一个空语句，python在遇到pass语句时会什么都不做，我们常常用来在编写或测试代码时将循环体内写为pass以验证代码的条件测试逻辑"
   ]
  },
  {
   "cell_type": "code",
   "execution_count": null,
   "metadata": {},
   "outputs": [],
   "source": [
    "while True:\n",
    "    pass   # 程序运行直至键盘打断(ctrl + c)\n",
    "\n",
    "class Emptyclass():\n",
    "    pass\n",
    "\n",
    "def initlog():\n",
    "    pass"
   ]
  },
  {
   "cell_type": "markdown",
   "metadata": {},
   "source": [
    "### 3.6 **循环体中的else子句**：\n",
    "\n",
    "    ❗没错，for、while循环节结构都可以包含else子句。\n",
    "\n",
    "    在for循环中，else子句会在循环**成功结束最后一次迭代之后**执行\n",
    "\n",
    "    在while循环中，else子句会在循环条件变为假值后执行"
   ]
  },
  {
   "cell_type": "code",
   "execution_count": 2,
   "metadata": {},
   "outputs": [
    {
     "name": "stdout",
     "output_type": "stream",
     "text": [
      "2 is a prime number\n",
      "3 is a prime number\n",
      "4 equals 2 * 2\n",
      "5 is a prime number\n",
      "6 equals 2 * 3\n",
      "7 is a prime number\n",
      "8 equals 2 * 4\n",
      "9 equals 3 * 3\n"
     ]
    }
   ],
   "source": [
    "# 找素数\n",
    "for n in range(2,10):\n",
    "    for x in range(2,n):\n",
    "        if n % x == 0:\n",
    "            print(n, 'equals', x, '*', n // x)\n",
    "            break\n",
    "    else:\n",
    "        # 循环在没有找到因数的情况下结束\n",
    "        print(n, 'is a prime number')"
   ]
  },
  {
   "cell_type": "markdown",
   "metadata": {},
   "source": [
    "else子句用于此循环时比起if语句的else子句，更像try语句的。try语句的子句else在未发生异常时执行，循环的else子句则在未发生break时执行。"
   ]
  },
  {
   "cell_type": "markdown",
   "metadata": {},
   "source": [
    "[上一篇(1_If_statements)](./1_If_statements.ipynb) \\| [下一篇(3_Match_statements)](./3_Match_statements.ipynb)"
   ]
  }
 ],
 "metadata": {
  "kernelspec": {
   "display_name": "Python 3 (ipykernel)",
   "language": "python",
   "name": "python3"
  },
  "language_info": {
   "codemirror_mode": {
    "name": "ipython",
    "version": 3
   },
   "file_extension": ".py",
   "mimetype": "text/x-python",
   "name": "python",
   "nbconvert_exporter": "python",
   "pygments_lexer": "ipython3",
   "version": "3.11.4"
  }
 },
 "nbformat": 4,
 "nbformat_minor": 2
}
