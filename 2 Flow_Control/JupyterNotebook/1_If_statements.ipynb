{
 "cells": [
  {
   "cell_type": "markdown",
   "metadata": {},
   "source": [
    "# IF语句\n",
    "\n",
    "if语句用于检查程序的当前状态"
   ]
  },
  {
   "cell_type": "markdown",
   "metadata": {},
   "source": [
    "# 1 条件测试\n",
    "\n",
    "每条if语句的核心都是一个值为True或False的表达式，这种表达式被称为**条件测试**，Python根据条件测试的值为True还是False来决定是否执行if语句中的代码。如果条件测试的值为True，Python就执行紧跟在if语句后面的代码；否则忽略这些代码。"
   ]
  },
  {
   "cell_type": "code",
   "execution_count": 1,
   "metadata": {},
   "outputs": [
    {
     "data": {
      "text/plain": [
       "False"
      ]
     },
     "execution_count": 1,
     "metadata": {},
     "output_type": "execute_result"
    }
   ],
   "source": [
    "# 1. 检查是否相等： a == b ? 若元素类型为字符串，那么python在检测是否相等时区分大小写。\n",
    "# 2. 检测是否不相等： 若要判断两个值是否不等，可使用 ！= 符号判断， a ！= b\n",
    "# 3. 比较数字\n",
    "# 4. 检查多个条件：\n",
    "#     4.1 使用and检查多个条件\n",
    "age = 18 \n",
    "age >= 20 and age <= 24\n",
    "#     4.2 使用or检查多个条件\n",
    "age <= 20 or age >= 24\n",
    "# 5. 检查特定值\n",
    "#     5.1 检查特定值是否包含在列表中可使用关键字in：if a in list(a):\n",
    "3 in [1, 2, 3]\n",
    "#     5.2 检查特定值是否不包含在列表中可使用关键字not in： if a not in list(a)\n",
    "3 not in [1, 2, 3]\n",
    "# 6. 布尔表达式：条件测试的别名，与条件表达式一样，布尔表达式的结果要么为True，要么为False"
   ]
  },
  {
   "cell_type": "markdown",
   "metadata": {},
   "source": [
    "# 2 简单的if语句\n",
    "\n",
    "- 最简单的if语句："
   ]
  },
  {
   "cell_type": "code",
   "execution_count": 2,
   "metadata": {},
   "outputs": [],
   "source": [
    "# 最简单的if语句只有一个测试和一个操作：\n",
    "#if conditional_tset:\n",
    "#    do something"
   ]
  },
  {
   "cell_type": "markdown",
   "metadata": {},
   "source": [
    "- if-else语句："
   ]
  },
  {
   "cell_type": "code",
   "execution_count": 3,
   "metadata": {},
   "outputs": [],
   "source": [
    "# 在条件测试通过了时执行一个操作，并在没有通过时执行另一个操作\n",
    "# if conditional_test:\n",
    "#    do something\n",
    "# else:\n",
    "#    do other thing"
   ]
  },
  {
   "cell_type": "markdown",
   "metadata": {},
   "source": [
    "- if-elif-else语句："
   ]
  },
  {
   "cell_type": "code",
   "execution_count": 4,
   "metadata": {},
   "outputs": [
    {
     "name": "stdout",
     "output_type": "stream",
     "text": [
      "Your admission cost is $5.\n"
     ]
    }
   ],
   "source": [
    "# 需要检查的超过两个情形时，python只执行if-elif-else结构中的一个代码块\n",
    "age = 12\n",
    "if age < 4:\n",
    "    price = 0\n",
    "elif age < 18:\n",
    "    price = 5\n",
    "else:\n",
    "    price = 10\n",
    "    \n",
    "print(\"Your admission cost is $\" + str(price) + '.')"
   ]
  },
  {
   "cell_type": "markdown",
   "metadata": {},
   "source": [
    "- 使用多个elif代码块："
   ]
  },
  {
   "cell_type": "code",
   "execution_count": 6,
   "metadata": {},
   "outputs": [],
   "source": [
    "# 可根据需要使用任意数量的if-elif-else代码块，这取决于可能出现的分支情形数量"
   ]
  },
  {
   "cell_type": "markdown",
   "metadata": {},
   "source": [
    "- **省略else代码块**\n",
    "\n",
    "    Python并不要求if-elif结构后面必须有else代码块，else是一条包罗万象的语句，只要不满足任何if或elif中的条件测试，其中的代码就会执行这可能会引入无效甚至恶意的数据。如果知道最终要测试的条件，应该考虑使用一个elif代码块来代替else代码块，以肯定当且仅当满足相应的条件时，代码才会执行。"
   ]
  },
  {
   "cell_type": "markdown",
   "metadata": {},
   "source": [
    "- **测试多个条件**\n",
    "\n",
    "    if-elif-else结构的缺陷在于仅适用于只有一种情形能被继续执行的情况，遇到了通过的测试后python会跳过余下的测试。然而，有时候必须检查所有关心的条件，在这种情况下，应该考虑使用一系列不包含elif和else代码块的简单if语句，即if语句的串联而非并联："
   ]
  },
  {
   "cell_type": "code",
   "execution_count": 5,
   "metadata": {},
   "outputs": [],
   "source": [
    "# if conditional_test1:\n",
    "#    do something\n",
    "# if conditional_test2:\n",
    "#    do something\n",
    "# ....."
   ]
  }
 ],
 "metadata": {
  "kernelspec": {
   "display_name": "Python 3 (ipykernel)",
   "language": "python",
   "name": "python3"
  },
  "language_info": {
   "codemirror_mode": {
    "name": "ipython",
    "version": 3
   },
   "file_extension": ".py",
   "mimetype": "text/x-python",
   "name": "python",
   "nbconvert_exporter": "python",
   "pygments_lexer": "ipython3",
   "version": "3.11.4"
  }
 },
 "nbformat": 4,
 "nbformat_minor": 2
}
