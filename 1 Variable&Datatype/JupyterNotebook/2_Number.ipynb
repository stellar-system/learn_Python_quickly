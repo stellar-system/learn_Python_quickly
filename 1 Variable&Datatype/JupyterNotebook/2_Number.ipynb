{
 "cells": [
  {
   "attachments": {},
   "cell_type": "markdown",
   "id": "b585b0d0",
   "metadata": {},
   "source": [
    "# Number 数字"
   ]
  },
  {
   "attachments": {},
   "cell_type": "markdown",
   "id": "6255b19e",
   "metadata": {},
   "source": [
    "-------------------------------------------------------------------"
   ]
  },
  {
   "attachments": {},
   "cell_type": "markdown",
   "id": "d1359352",
   "metadata": {},
   "source": [
    "在编程中，常使用数字来记录游戏得分、表示可视化数据、存储Web应用信息等。Python根据数字的用法以不同的方式处理它们。"
   ]
  },
  {
   "attachments": {},
   "cell_type": "markdown",
   "id": "edd3a9b9",
   "metadata": {},
   "source": [
    "Python支持四种不同的数字类型：\n",
    "- int 有符号整型\n",
    "- long 长整型，也可代表八进制和十六进制\n",
    "- float 浮点型\n",
    "- complex 复数"
   ]
  },
  {
   "attachments": {},
   "cell_type": "markdown",
   "id": "1e010dfc",
   "metadata": {},
   "source": [
    "一些数值类型的实例：\n",
    "| int | long | float | complex |\n",
    "| :--- | :--- | :--- | :--- |\n",
    "| 10 | 515924361L | 0.0 | 3.14j|\n",
    "| 100 | -0x19323L | 15.20 | 45.j |\n",
    "| -786 | 0122L | -21.9 | 9.322e-36j |\n",
    "| 080 | 0xDEFABCECBDAECBFBAEl | 32.3e+18 | .876j |\n",
    "| -0490 | 535633629843L | -90. | -.6545+0J |\n",
    "| -0x260 | \t-052318172735L | -32.54e100 | 3e+26J |\n",
    "| 0x69 | -4721885298529L | 70.2E-12 | 4.53e-7j |\n",
    "\n",
    "- Python复数除了a+bj的形式，也可使用complex(a,b)来表示\n",
    "- Python3.x版本中移除了long类型，使用int替代\n",
    "- 进制前缀：\n",
    "\n",
    "| 进制 | 英文 | 范围 | 前缀 | 后缀 |\n",
    "| :--| :-- | :-- | :-- | :-- |\n",
    "|二进制 | Binary | 0-1 | 0B | B |\n",
    "|八进制 | Octal | 0-7 | 0O,也可以使用空格加上0 即:\" 0\" | O |\n",
    "|十进制 | Decimal | 0-9 | 无 | D |\n",
    "|十六进制 | Hexadecimal | 0-9,A-F | 0x | H |\n",
    "\n",
    "- e或E(exponent)为科学计数法表示，其表示以10为底的底数，aeb中a为float类型，b为int类型，如3.2e+2表示' 3.2 x 10^2 '\n",
    "- 复数的实部和虚部都是浮点型"
   ]
  },
  {
   "cell_type": "code",
   "execution_count": 9,
   "id": "0d795cb7",
   "metadata": {},
   "outputs": [
    {
     "name": "stdout",
     "output_type": "stream",
     "text": [
      "277\n"
     ]
    }
   ],
   "source": [
    "print(0B0100010101)"
   ]
  },
  {
   "cell_type": "code",
   "execution_count": 12,
   "id": "988349c8",
   "metadata": {},
   "outputs": [
    {
     "name": "stdout",
     "output_type": "stream",
     "text": [
      "62\n"
     ]
    }
   ],
   "source": [
    "print(0O76)"
   ]
  },
  {
   "cell_type": "code",
   "execution_count": 14,
   "id": "28bac952",
   "metadata": {},
   "outputs": [
    {
     "name": "stdout",
     "output_type": "stream",
     "text": [
      "1e-12\n"
     ]
    }
   ],
   "source": [
    "print(1E-12)"
   ]
  },
  {
   "attachments": {},
   "cell_type": "markdown",
   "id": "820a4b35",
   "metadata": {},
   "source": [
    "## 1 int 整型"
   ]
  },
  {
   "attachments": {},
   "cell_type": "markdown",
   "id": "9d980b32",
   "metadata": {},
   "source": [
    "-------------------------------------------------------------------"
   ]
  },
  {
   "attachments": {},
   "cell_type": "markdown",
   "id": "7f978409",
   "metadata": {},
   "source": [
    "指定一个值时，Number对象被创建"
   ]
  },
  {
   "cell_type": "code",
   "execution_count": 2,
   "id": "b7c310a4",
   "metadata": {},
   "outputs": [
    {
     "name": "stdout",
     "output_type": "stream",
     "text": [
      "1 2\n"
     ]
    }
   ],
   "source": [
    "var1 = 1\n",
    "var2 = 2\n",
    "print(var1,var2)"
   ]
  },
  {
   "attachments": {},
   "cell_type": "markdown",
   "id": "898e423b",
   "metadata": {},
   "source": [
    "可以使用del语句删除一些对象的引用，其基本语法为：\n",
    "```python\n",
    "    del var1\n",
    "    del var1, var2\n",
    "```"
   ]
  },
  {
   "cell_type": "code",
   "execution_count": 6,
   "id": "3567d228",
   "metadata": {},
   "outputs": [
    {
     "ename": "NameError",
     "evalue": "name 'var1' is not defined",
     "output_type": "error",
     "traceback": [
      "\u001b[1;31m---------------------------------------------------------------------------\u001b[0m",
      "\u001b[1;31mNameError\u001b[0m                                 Traceback (most recent call last)",
      "Cell \u001b[1;32mIn[6], line 1\u001b[0m\n\u001b[1;32m----> 1\u001b[0m \u001b[38;5;28;01mdel\u001b[39;00m var1\n\u001b[0;32m      2\u001b[0m var1\n",
      "\u001b[1;31mNameError\u001b[0m: name 'var1' is not defined"
     ]
    }
   ],
   "source": [
    "del var1\n",
    "var1"
   ]
  },
  {
   "attachments": {},
   "cell_type": "markdown",
   "id": "9a01271e",
   "metadata": {},
   "source": [
    "## 2 浮点数"
   ]
  },
  {
   "attachments": {},
   "cell_type": "markdown",
   "id": "7b72eb96",
   "metadata": {},
   "source": [
    "-------------------------------------------------------------------"
   ]
  },
  {
   "attachments": {},
   "cell_type": "markdown",
   "id": "7d46d427",
   "metadata": {},
   "source": [
    "Python将带小数点的数字都称为**浮点数**，小数点可出现在数字的任何位置，包括首位数字前，整数部分默认为0。"
   ]
  },
  {
   "cell_type": "code",
   "execution_count": 9,
   "id": "8cda9641",
   "metadata": {},
   "outputs": [
    {
     "data": {
      "text/plain": [
       "0.30000000000000004"
      ]
     },
     "execution_count": 9,
     "metadata": {},
     "output_type": "execute_result"
    }
   ],
   "source": [
    "0.2 + 0.1"
   ]
  },
  {
   "cell_type": "code",
   "execution_count": 10,
   "id": "9805fd11",
   "metadata": {},
   "outputs": [
    {
     "data": {
      "text/plain": [
       "0.30000000000000004"
      ]
     },
     "execution_count": 10,
     "metadata": {},
     "output_type": "execute_result"
    }
   ],
   "source": [
    "3 * 0.1"
   ]
  },
  {
   "attachments": {},
   "cell_type": "markdown",
   "id": "a642f95b",
   "metadata": {},
   "source": [
    "出现这一现象的原因与计算机内部存储浮点数的方式有关：\n",
    "- 计算机将所有数据以二进制的形式存储\n",
    "- 计算机用有限的大小来存储数据（因为现实生活中不存在无限大的内存或硬盘）\n",
    "\n",
    "计算机如何存储0.1和0.2？\n",
    "\n",
    "![示例图片](..\\images\\二进制数据存储.png)\n",
    "\n",
    "十进制的 0.1 转为二进制，得到一个无限循环小数：0.00011…。\n",
    "也就是说，二进制无法「用有限的位数」来表示 0.1。对于 0.2 也是一样的，不赘述。二进制能「用有限的位数」表示的有：0.5、0.25、0.125 等（可以由2的负整数幂直接相加得到的数）。\n",
    "\n",
    "**所以当我们计算 0.1 + 0.2 时，实际上算的是两个近似值相加，得到的值当然也是近似等于 0.3。**"
   ]
  },
  {
   "attachments": {},
   "cell_type": "markdown",
   "id": "95d0bfb0",
   "metadata": {},
   "source": [
    "# 3 数值计算"
   ]
  },
  {
   "attachments": {},
   "cell_type": "markdown",
   "id": "b9a88a90",
   "metadata": {},
   "source": [
    "----------------"
   ]
  },
  {
   "attachments": {},
   "cell_type": "markdown",
   "id": "608a8ba6",
   "metadata": {},
   "source": [
    "在Python中可以对数值对象进行各类运算："
   ]
  },
  {
   "attachments": {},
   "cell_type": "markdown",
   "id": "f87cdf3e",
   "metadata": {},
   "source": [
    "```\n",
    "print (5 + 4)  # 加法   输出 9\n",
    "print (4.3 - 2) # 减法   输出 2.3\n",
    "print (3 * 7)  # 乘法  输出 21\n",
    "print (2 / 4)  # 除法，得到一个浮点数    输出 0.5\n",
    "print (2 // 4) # 除法，得到一个整数 输出 0\n",
    "print (17 % 3) # 取余   输出 2\n",
    "print (2 ** 5) # 乘方  输出 32\n",
    "```"
   ]
  },
  {
   "attachments": {},
   "cell_type": "markdown",
   "id": "c262b433",
   "metadata": {},
   "source": [
    "需要更多数值运算方法时，可以使用math模块，其中提供了许多浮点数的运算函数"
   ]
  },
  {
   "attachments": {},
   "cell_type": "markdown",
   "id": "8b0a3ece",
   "metadata": {},
   "source": []
  }
 ],
 "metadata": {
  "kernelspec": {
   "display_name": "Python 3 (ipykernel)",
   "language": "python",
   "name": "python3"
  },
  "language_info": {
   "codemirror_mode": {
    "name": "ipython",
    "version": 3
   },
   "file_extension": ".py",
   "mimetype": "text/x-python",
   "name": "python",
   "nbconvert_exporter": "python",
   "pygments_lexer": "ipython3",
   "version": "3.11.4"
  }
 },
 "nbformat": 4,
 "nbformat_minor": 5
}
