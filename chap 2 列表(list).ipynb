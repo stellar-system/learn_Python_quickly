{
 "cells": [
  {
   "cell_type": "markdown",
   "id": "76d54f06",
   "metadata": {},
   "source": [
    "# 1 列表定义（List definition）\n",
    "**列表由一系列按特定顺序排列的元素组成**且列表元素可以是任何类型，在python中，通常用方括号（[]）来表示列表，并用逗号（，）来分隔其中的元素\n",
    "\n",
    "bicycles.py"
   ]
  },
  {
   "cell_type": "code",
   "execution_count": 47,
   "id": "6e0e3de1",
   "metadata": {},
   "outputs": [
    {
     "name": "stdout",
     "output_type": "stream",
     "text": [
      "['trek', 'cannondale', 'redline', 'specialized']\n"
     ]
    }
   ],
   "source": [
    "bicycles = ['trek', 'cannondale', 'redline', 'specialized']\n",
    "print(bicycles)"
   ]
  },
  {
   "cell_type": "markdown",
   "id": "83dd1613",
   "metadata": {},
   "source": [
    "## 1.1 访问列表\n",
    "列表是有序集合，因此要访问列表中的任何元素，只需将该元素的位置或索引（index）告诉Python即可。**列表的索引值是从0开始而非从1开始**\n",
    "Python为访问列表的靠后元素提供了一种特殊语法，通过将索引指定为负值，可让Python返回倒数某位的元素值。**仅当列表为空时，这种访问最后一个元素的方式才会导致错误**"
   ]
  },
  {
   "cell_type": "code",
   "execution_count": 48,
   "id": "9aaf497a",
   "metadata": {},
   "outputs": [
    {
     "ename": "IndexError",
     "evalue": "list index out of range",
     "output_type": "error",
     "traceback": [
      "\u001b[1;31m---------------------------------------------------------------------------\u001b[0m",
      "\u001b[1;31mIndexError\u001b[0m                                Traceback (most recent call last)",
      "Cell \u001b[1;32mIn[48], line 2\u001b[0m\n\u001b[0;32m      1\u001b[0m a \u001b[38;5;241m=\u001b[39m []\n\u001b[1;32m----> 2\u001b[0m \u001b[38;5;28mprint\u001b[39m(a[\u001b[38;5;241m-\u001b[39m\u001b[38;5;241m1\u001b[39m])\n",
      "\u001b[1;31mIndexError\u001b[0m: list index out of range"
     ]
    }
   ],
   "source": [
    "a = []\n",
    "print(a[-1])"
   ]
  },
  {
   "cell_type": "code",
   "execution_count": 49,
   "id": "21e64403",
   "metadata": {},
   "outputs": [
    {
     "name": "stdout",
     "output_type": "stream",
     "text": [
      "trek\n"
     ]
    }
   ],
   "source": [
    "print(bicycles[0])"
   ]
  },
  {
   "cell_type": "code",
   "execution_count": 50,
   "id": "e00ea457",
   "metadata": {},
   "outputs": [
    {
     "name": "stdout",
     "output_type": "stream",
     "text": [
      "specialized\n"
     ]
    }
   ],
   "source": [
    "print(bicycles[-1])"
   ]
  },
  {
   "cell_type": "markdown",
   "id": "38913c08",
   "metadata": {},
   "source": [
    "## 1.2 列表的增删改"
   ]
  },
  {
   "cell_type": "code",
   "execution_count": 51,
   "id": "fe36c364",
   "metadata": {},
   "outputs": [
    {
     "name": "stdout",
     "output_type": "stream",
     "text": [
      "['honda', 'yamaha', 'suzuki']\n",
      "['ducati', 'yamaha', 'suzuki']\n"
     ]
    }
   ],
   "source": [
    "## 修改列表元素\n",
    "motorcycles = ['honda', 'yamaha', 'suzuki']\n",
    "print(motorcycles)\n",
    "\n",
    "motorcycles[0] = 'ducati'\n",
    "print(motorcycles)"
   ]
  },
  {
   "cell_type": "code",
   "execution_count": 52,
   "id": "60bd84a5",
   "metadata": {},
   "outputs": [
    {
     "name": "stdout",
     "output_type": "stream",
     "text": [
      "['honda', 'yamaha', 'suzuki', 'ducati']\n",
      "['ducati', 'honda', 'yamaha', 'suzuki', 'ducati']\n"
     ]
    }
   ],
   "source": [
    "## 在列表中添加元素\n",
    "motorcycles = ['honda', 'yamaha', 'suzuki']\n",
    "# 1.在列表末尾添加元素append()\n",
    "motorcycles.append('ducati')\n",
    "print(motorcycles)\n",
    "\n",
    "# 2.在列表中插入元素insert(index, 元素)，这种操作将列表中所有在index及其之后的元素向右移一个位置\n",
    "motorcycles.insert(0, 'ducati')\n",
    "print(motorcycles)"
   ]
  },
  {
   "cell_type": "code",
   "execution_count": 53,
   "id": "1f27cae9",
   "metadata": {},
   "outputs": [
    {
     "name": "stdout",
     "output_type": "stream",
     "text": [
      "['honda', 'yamaha', 'suzuki']\n",
      "['honda', 'suzuki']\n",
      "\n",
      "\n",
      "['honda', 'yamaha', 'suzuki']\n",
      "['honda', 'yamaha']\n",
      "suzuki\n",
      "\n",
      "\n",
      "['honda', 'yamaha', 'suzuki']\n",
      "['yamaha', 'suzuki']\n",
      "honda\n",
      "\n",
      "\n",
      "['honda', 'yamaha', 'suzuki']\n",
      "['yamaha', 'suzuki']\n",
      "[1, 2, 1, 1, 1]\n"
     ]
    }
   ],
   "source": [
    "## 在列表中删除元素\n",
    "motorcycles = ['honda', 'yamaha', 'suzuki']\n",
    "# 1.使用del语句删除元素,此操作将列表中所有被删除元素右侧的元素向左移一个位置\n",
    "print(motorcycles)\n",
    "del motorcycles[1]\n",
    "print(motorcycles)\n",
    "print('\\n')\n",
    "\n",
    "# 2.使用方法pop()删除元素，方法pop()删除列表末尾的元素，列表就像一个栈，而删除末尾元素相当于弹出栈顶元素\n",
    "#   此方法将元素从列表中删除，但可以接着使用它\n",
    "motorcycles = ['honda', 'yamaha', 'suzuki']\n",
    "print(motorcycles)\n",
    "popped_motorcycle = motorcycles.pop()\n",
    "print(motorcycles)\n",
    "print(popped_motorcycle)\n",
    "print('\\n')\n",
    "\n",
    "# 3.弹出列表中任何位置的元素，实际上，方法pop()可以用来弹出列表中的任意一个元素，只需要在括号中指定要删除的元素的索引即可\n",
    "motorcycles = ['honda', 'yamaha', 'suzuki']\n",
    "print(motorcycles)\n",
    "firsy_motorcycle = motorcycles.pop(0)\n",
    "print(motorcycles)\n",
    "print(firsy_motorcycle)\n",
    "print('\\n')\n",
    "\n",
    "# 4.根据值删除元素，使用remove()方法可以根据括号中提供的值删除元素,若有多个值相同的元素，该方法只删除索引值最小的那个\n",
    "motorcycles = ['honda', 'yamaha', 'suzuki']\n",
    "print(motorcycles)\n",
    "motorcycles.remove('honda')\n",
    "print(motorcycles)\n",
    "\n",
    "numbers = [1, 1, 2, 1, 1, 1]\n",
    "numbers.remove(1)\n",
    "print(numbers)"
   ]
  },
  {
   "cell_type": "markdown",
   "id": "7cc77b2c",
   "metadata": {},
   "source": [
    "## 1.3 组织列表\n",
    "以特定的顺序显示列表元素"
   ]
  },
  {
   "cell_type": "code",
   "execution_count": 54,
   "id": "e7e25005",
   "metadata": {},
   "outputs": [
    {
     "name": "stdout",
     "output_type": "stream",
     "text": [
      "['bmw', 'audi', 'toyota', 'subaru']\n",
      "['audi', 'bmw', 'subaru', 'toyota']\n",
      "['toyota', 'subaru', 'bmw', 'audi']\n",
      "\n",
      "\n",
      "['bmw', 'audi', 'toyota', 'subaru']\n",
      "['audi', 'bmw', 'subaru', 'toyota']\n",
      "['bmw', 'audi', 'toyota', 'subaru']\n",
      "\n",
      "\n",
      "['bmw', 'audi', 'toyota', 'subaru']\n",
      "['subaru', 'toyota', 'audi', 'bmw']\n"
     ]
    },
    {
     "data": {
      "text/plain": [
       "4"
      ]
     },
     "execution_count": 54,
     "metadata": {},
     "output_type": "execute_result"
    }
   ],
   "source": [
    "## 1.使用方法sort()对列表进行永久性排序\n",
    "cars = ['bmw', 'audi', 'toyota', 'subaru']\n",
    "print(cars)\n",
    "cars.sort()\n",
    "print(cars)\n",
    "cars.sort(reverse=True) # 按照字母反向排列只需要传入参数reverse=True\n",
    "print(cars)\n",
    "print('\\n')\n",
    "\n",
    "## 2.使用函数sorted()对列表进行临时排序，即保留原列表的排序，也接受传入参数reverse\n",
    "cars = ['bmw', 'audi', 'toyota', 'subaru']\n",
    "print(cars)\n",
    "print(sorted(cars))\n",
    "print(cars)\n",
    "print('\\n')\n",
    "\n",
    "## 3.使用方法reverse()永久性的反转列表元素的排列顺序\n",
    "cars = ['bmw', 'audi', 'toyota', 'subaru']\n",
    "print(cars)\n",
    "cars.reverse()\n",
    "print(cars)\n",
    "\n",
    "## 4.确定列表的长度\n",
    "len(cars)"
   ]
  },
  {
   "cell_type": "markdown",
   "id": "5d486428",
   "metadata": {},
   "source": [
    "# 2 操作列表"
   ]
  },
  {
   "cell_type": "markdown",
   "id": "73c331a7",
   "metadata": {},
   "source": [
    "## 2.1 遍历整个列表\n",
    "通过for循环进行遍历"
   ]
  },
  {
   "cell_type": "code",
   "execution_count": 57,
   "id": "bde0df82",
   "metadata": {},
   "outputs": [
    {
     "name": "stdout",
     "output_type": "stream",
     "text": [
      "alice\n",
      "david\n",
      "carolina\n"
     ]
    }
   ],
   "source": [
    "magicians = ['alice', 'david', 'carolina']\n",
    "for magician in magicians: # 临时变量magician可指定任何名称\n",
    "    print(magician) # for循环体内的每行代码，缩进是必要的"
   ]
  },
  {
   "cell_type": "code",
   "execution_count": 58,
   "id": "d900b5aa",
   "metadata": {},
   "outputs": [
    {
     "ename": "IndentationError",
     "evalue": "expected an indented block after 'for' statement on line 1 (2746267705.py, line 2)",
     "output_type": "error",
     "traceback": [
      "\u001b[1;36m  Cell \u001b[1;32mIn[58], line 2\u001b[1;36m\u001b[0m\n\u001b[1;33m    print(magician)\u001b[0m\n\u001b[1;37m    ^\u001b[0m\n\u001b[1;31mIndentationError\u001b[0m\u001b[1;31m:\u001b[0m expected an indented block after 'for' statement on line 1\n"
     ]
    }
   ],
   "source": [
    "for magician in magicians:\n",
    "print(magician)"
   ]
  },
  {
   "cell_type": "markdown",
   "id": "a6631bc7",
   "metadata": {},
   "source": [
    "关于for循环，如何用python自定义一个for循环语法呢？参考https://zhuanlan.zhihu.com/p/57998218"
   ]
  },
  {
   "cell_type": "markdown",
   "id": "9f522350",
   "metadata": {},
   "source": [
    "## 2.2 创建数值列表"
   ]
  },
  {
   "cell_type": "code",
   "execution_count": 65,
   "id": "7ab672ea",
   "metadata": {},
   "outputs": [
    {
     "name": "stdout",
     "output_type": "stream",
     "text": [
      "1\n",
      "2\n",
      "3\n",
      "4\n"
     ]
    }
   ],
   "source": [
    "## 1.使用函数range(a,b,c),数值域为[a,b),其中c为取值的步长\n",
    "for value in range(1,5):\n",
    "    print(value)"
   ]
  },
  {
   "cell_type": "markdown",
   "id": "98fc895d",
   "metadata": {},
   "source": [
    "发现此方法不会打印数字5"
   ]
  },
  {
   "cell_type": "code",
   "execution_count": 66,
   "id": "500fba62",
   "metadata": {},
   "outputs": [
    {
     "name": "stdout",
     "output_type": "stream",
     "text": [
      "<class 'range'>\n",
      "[1, 2, 3, 4]\n",
      "<class 'list'>\n"
     ]
    }
   ],
   "source": [
    "## 2.使用range()创建数字列表\n",
    "print(type(range(1,5)))\n",
    "numbers = list(range(1,5))\n",
    "print(numbers)\n",
    "print(type(numbers))"
   ]
  },
  {
   "cell_type": "code",
   "execution_count": 67,
   "id": "bae29166",
   "metadata": {},
   "outputs": [
    {
     "data": {
      "text/plain": [
       "55"
      ]
     },
     "execution_count": 67,
     "metadata": {},
     "output_type": "execute_result"
    }
   ],
   "source": [
    "## 3.对数字列表执行简单的统计计算\n",
    "digits = list(range(1,11))\n",
    "min(digits) # 取最小值\n",
    "max(digits) # 取最大值\n",
    "sum(digits) # 求和"
   ]
  },
  {
   "cell_type": "markdown",
   "id": "4988094b",
   "metadata": {},
   "source": [
    "**列表解析**\n",
    "\n",
    "思考如何生成一个列表，将前十个整数的平方加入到一个列表中，常规的使用for循环的方法为："
   ]
  },
  {
   "cell_type": "code",
   "execution_count": 68,
   "id": "149d5c23",
   "metadata": {},
   "outputs": [
    {
     "name": "stdout",
     "output_type": "stream",
     "text": [
      "[1, 4, 9, 16, 25, 36, 49, 64, 81, 100]\n"
     ]
    }
   ],
   "source": [
    "squares = []\n",
    "for value in range(1,11):\n",
    "    squares.append(value**2)\n",
    "print(squares)"
   ]
  },
  {
   "cell_type": "markdown",
   "id": "963ccfca",
   "metadata": {},
   "source": [
    "如果使用列表解析，一行代码即可实现："
   ]
  },
  {
   "cell_type": "code",
   "execution_count": 69,
   "id": "8e70d623",
   "metadata": {},
   "outputs": [
    {
     "name": "stdout",
     "output_type": "stream",
     "text": [
      "[1, 4, 9, 16, 25, 36, 49, 64, 81, 100]\n"
     ]
    }
   ],
   "source": [
    "squares = [value**2 for value in range(1,11)]\n",
    "print(squares)"
   ]
  },
  {
   "cell_type": "markdown",
   "id": "656a1e64",
   "metadata": {},
   "source": [
    "# 2.3 列表切片"
   ]
  },
  {
   "cell_type": "markdown",
   "id": "13dd2dac",
   "metadata": {},
   "source": [
    "要创建切片，可指定要使用的第一个元素和最后一个元素的索引。与range()函数一样，python在到达指定的第二个索引前面的元素后停止。"
   ]
  },
  {
   "cell_type": "code",
   "execution_count": 73,
   "id": "935375f8",
   "metadata": {},
   "outputs": [
    {
     "name": "stdout",
     "output_type": "stream",
     "text": [
      "['charles', 'martina', 'michael']\n"
     ]
    }
   ],
   "source": [
    "players = ['charles', 'martina', 'michael', 'florence', 'eli'] \n",
    "print(players[0:3]) # 实际打印索引为0，1，2的元素"
   ]
  },
  {
   "cell_type": "code",
   "execution_count": 75,
   "id": "c64ae0e9",
   "metadata": {},
   "outputs": [
    {
     "name": "stdout",
     "output_type": "stream",
     "text": [
      "['charles', 'martina', 'michael', 'florence']\n"
     ]
    }
   ],
   "source": [
    "# 若不指定第一个索引，切片将从列表开头开始,不指定第二个索引同理\n",
    "print(players[:4])"
   ]
  },
  {
   "cell_type": "code",
   "execution_count": 76,
   "id": "40682967",
   "metadata": {},
   "outputs": [
    {
     "name": "stdout",
     "output_type": "stream",
     "text": [
      "['michael', 'florence', 'eli']\n"
     ]
    }
   ],
   "source": [
    "# 同样，第一个索引可以从负数开始\n",
    "print(players[-3:])"
   ]
  },
  {
   "cell_type": "markdown",
   "id": "40643c8f",
   "metadata": {},
   "source": [
    "- 要遍历列表中的部分元素，可在for循环中使用列表切片：\n",
    "\n",
    "    for player in players[:3]:\n",
    "\n",
    "- 要复制列表，可创建一个包含整个列表的列表切片，方法是同时省略起始索引和终止索引：\n",
    "\n",
    "    old_players = players[:]\n",
    "\n",
    "    倘若我们只是简单的将players赋值给old_players，如 old_players = players 则行不通，在这种方法下，old_players与players指向的实际上是同一个列表"
   ]
  },
  {
   "cell_type": "markdown",
   "id": "e176fd10",
   "metadata": {},
   "source": [
    "# 3 元组（tuple）\n",
    "\n",
    "有时为了满足创建一系列不可修改的元素，元组可以满足这一要求。Python将不能修改的值称为**不可变的**，而不可变的列表被称为元组。"
   ]
  },
  {
   "cell_type": "code",
   "execution_count": 78,
   "id": "b3756c88",
   "metadata": {},
   "outputs": [
    {
     "ename": "TypeError",
     "evalue": "'tuple' object does not support item assignment",
     "output_type": "error",
     "traceback": [
      "\u001b[1;31m---------------------------------------------------------------------------\u001b[0m",
      "\u001b[1;31mTypeError\u001b[0m                                 Traceback (most recent call last)",
      "Cell \u001b[1;32mIn[78], line 4\u001b[0m\n\u001b[0;32m      2\u001b[0m dimensions \u001b[38;5;241m=\u001b[39m (\u001b[38;5;241m50\u001b[39m, \u001b[38;5;241m100\u001b[39m)\n\u001b[0;32m      3\u001b[0m \u001b[38;5;66;03m# 尝试修改元组中的元素\u001b[39;00m\n\u001b[1;32m----> 4\u001b[0m dimensions[\u001b[38;5;241m1\u001b[39m] \u001b[38;5;241m=\u001b[39m \u001b[38;5;241m0\u001b[39m\n",
      "\u001b[1;31mTypeError\u001b[0m: 'tuple' object does not support item assignment"
     ]
    }
   ],
   "source": [
    "# 元组犹如列表，但使用圆括号但不是方括号来标识\n",
    "dimensions = (50, 100)\n",
    "# 尝试修改元组中的元素\n",
    "dimensions[1] = 0"
   ]
  },
  {
   "cell_type": "code",
   "execution_count": 80,
   "id": "95ee898c",
   "metadata": {},
   "outputs": [],
   "source": [
    "# 遍历元组元素，同列表使用for循环结构\n",
    "# 修改元组元素，重新赋值\n",
    "dimensions = (50, 100)\n",
    "dimensions = (400, 100)"
   ]
  },
  {
   "cell_type": "markdown",
   "id": "8d4edf21",
   "metadata": {},
   "source": [
    "# 4 代码格式\n",
    "\n",
    "若要提出Python语言修改建议，需要编写Python改进指南（Python Enhancement Proposal，PEP），PEP8是最古老的PEP之一，它向Python程序员提供了代码格式设置指南。\n",
    "\n",
    "- 缩进：PEP8建议每级缩进都使用四个空格，在程序中混合使用制表符和空格可能会导致极难解决的问题，如果你混合使用了制表符和空格，可将文件中的所有制表符转换为空格。\n",
    "\n",
    "- 行长：建议每行不超过80个字符。\n",
    "\n",
    "一个常用的代码格式化库： YAPF ：https://github.com/google/yapf"
   ]
  }
 ],
 "metadata": {
  "kernelspec": {
   "display_name": "Python 3 (ipykernel)",
   "language": "python",
   "name": "python3"
  },
  "language_info": {
   "codemirror_mode": {
    "name": "ipython",
    "version": 3
   },
   "file_extension": ".py",
   "mimetype": "text/x-python",
   "name": "python",
   "nbconvert_exporter": "python",
   "pygments_lexer": "ipython3",
   "version": "3.11.4"
  }
 },
 "nbformat": 4,
 "nbformat_minor": 5
}
