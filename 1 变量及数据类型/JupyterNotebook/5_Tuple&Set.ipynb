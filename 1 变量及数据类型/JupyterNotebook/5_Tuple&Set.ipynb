{
 "cells": [
  {
   "cell_type": "markdown",
   "metadata": {},
   "source": [
    "# 1 Tuple(元组)\n",
    "\n",
    "---------\n",
    "\n",
    "有时为了满足创建一系列不可修改的元素，元组可以满足这一要求。Python将不能修改的值称为**不可变的**，而不可变的列表被称为元组。\n"
   ]
  },
  {
   "cell_type": "code",
   "execution_count": 1,
   "metadata": {},
   "outputs": [
    {
     "ename": "TypeError",
     "evalue": "'tuple' object does not support item assignment",
     "output_type": "error",
     "traceback": [
      "\u001b[1;31m---------------------------------------------------------------------------\u001b[0m",
      "\u001b[1;31mTypeError\u001b[0m                                 Traceback (most recent call last)",
      "\u001b[1;32md:\\Studying\\python-learning\\learn_Python_quickly\\1 变量及数据类型\\JupyterNotebook\\5_Tuple_Set_Dict.ipynb Cell 3\u001b[0m line \u001b[0;36m4\n\u001b[0;32m      <a href='vscode-notebook-cell:/d%3A/Studying/python-learning/learn_Python_quickly/1%20%E5%8F%98%E9%87%8F%E5%8F%8A%E6%95%B0%E6%8D%AE%E7%B1%BB%E5%9E%8B/JupyterNotebook/5_Tuple_Set_Dict.ipynb#W3sZmlsZQ%3D%3D?line=1'>2</a>\u001b[0m dimensions \u001b[39m=\u001b[39m (\u001b[39m50\u001b[39m, \u001b[39m100\u001b[39m)\n\u001b[0;32m      <a href='vscode-notebook-cell:/d%3A/Studying/python-learning/learn_Python_quickly/1%20%E5%8F%98%E9%87%8F%E5%8F%8A%E6%95%B0%E6%8D%AE%E7%B1%BB%E5%9E%8B/JupyterNotebook/5_Tuple_Set_Dict.ipynb#W3sZmlsZQ%3D%3D?line=2'>3</a>\u001b[0m \u001b[39m# 尝试修改元组中的元素\u001b[39;00m\n\u001b[1;32m----> <a href='vscode-notebook-cell:/d%3A/Studying/python-learning/learn_Python_quickly/1%20%E5%8F%98%E9%87%8F%E5%8F%8A%E6%95%B0%E6%8D%AE%E7%B1%BB%E5%9E%8B/JupyterNotebook/5_Tuple_Set_Dict.ipynb#W3sZmlsZQ%3D%3D?line=3'>4</a>\u001b[0m dimensions[\u001b[39m1\u001b[39m] \u001b[39m=\u001b[39m \u001b[39m0\u001b[39m\n",
      "\u001b[1;31mTypeError\u001b[0m: 'tuple' object does not support item assignment"
     ]
    }
   ],
   "source": [
    "# 元组犹如列表，但使用圆括号但不是方括号来标识\n",
    "dimensions = (50, 100)\n",
    "# 尝试修改元组中的元素\n",
    "dimensions[1] = 0"
   ]
  },
  {
   "cell_type": "code",
   "execution_count": 2,
   "metadata": {},
   "outputs": [],
   "source": [
    "# 遍历元组元素，同列表使用for循环结构\n",
    "# 修改元组元素，重新赋值\n",
    "dimensions = (50, 100)\n",
    "dimensions = (400, 100)"
   ]
  },
  {
   "cell_type": "markdown",
   "metadata": {},
   "source": [
    "# 2 Set(集合)\n",
    "\n",
    "--------------\n",
    "\n",
    "集合(Set)是一个无序不重复元素的序列，使用大括号{}或set{}函数创建集合，需要注意的是，创建一个空集合必须用set{}而不是{}，因为{}用于创建一个空字典。\n",
    "\n",
    "集合不能被切片，也不能被索引，除了做集合运算之外，集合元素可以被添加或删除。"
   ]
  },
  {
   "cell_type": "code",
   "execution_count": 7,
   "metadata": {},
   "outputs": [
    {
     "ename": "TypeError",
     "evalue": "'set' object is not subscriptable",
     "output_type": "error",
     "traceback": [
      "\u001b[1;31m---------------------------------------------------------------------------\u001b[0m",
      "\u001b[1;31mTypeError\u001b[0m                                 Traceback (most recent call last)",
      "\u001b[1;32md:\\Studying\\python-learning\\learn_Python_quickly\\1 变量及数据类型\\JupyterNotebook\\5_Tuple_Set_Dict.ipynb Cell 5\u001b[0m line \u001b[0;36m2\n\u001b[0;32m      <a href='vscode-notebook-cell:/d%3A/Studying/python-learning/learn_Python_quickly/1%20%E5%8F%98%E9%87%8F%E5%8F%8A%E6%95%B0%E6%8D%AE%E7%B1%BB%E5%9E%8B/JupyterNotebook/5_Tuple_Set_Dict.ipynb#X11sZmlsZQ%3D%3D?line=0'>1</a>\u001b[0m a \u001b[39m=\u001b[39m \u001b[39mset\u001b[39m(\u001b[39mrange\u001b[39m(\u001b[39m1\u001b[39m,\u001b[39m5\u001b[39m))\n\u001b[1;32m----> <a href='vscode-notebook-cell:/d%3A/Studying/python-learning/learn_Python_quickly/1%20%E5%8F%98%E9%87%8F%E5%8F%8A%E6%95%B0%E6%8D%AE%E7%B1%BB%E5%9E%8B/JupyterNotebook/5_Tuple_Set_Dict.ipynb#X11sZmlsZQ%3D%3D?line=1'>2</a>\u001b[0m \u001b[39mprint\u001b[39m(a[\u001b[39m0\u001b[39m])\n",
      "\u001b[1;31mTypeError\u001b[0m: 'set' object is not subscriptable"
     ]
    }
   ],
   "source": [
    "a = set(range(1,5))\n",
    "print(a[0])"
   ]
  },
  {
   "cell_type": "code",
   "execution_count": 8,
   "metadata": {},
   "outputs": [
    {
     "name": "stdout",
     "output_type": "stream",
     "text": [
      "{1, 2, 3, 4, 5}\n"
     ]
    }
   ],
   "source": [
    "# 添加集合元素\n",
    "a_set = {1,2,3,4}\n",
    "a_set.add(5)\n",
    "print(a_set)"
   ]
  },
  {
   "cell_type": "code",
   "execution_count": 9,
   "metadata": {},
   "outputs": [
    {
     "name": "stdout",
     "output_type": "stream",
     "text": [
      "{1, 2, 3, 4}\n"
     ]
    }
   ],
   "source": [
    "# 删除集合元素\n",
    "a_set.discard(5)\n",
    "print(a_set)"
   ]
  },
  {
   "cell_type": "markdown",
   "metadata": {},
   "source": [
    "集合还可以用来消除列表或元组中的重复元素："
   ]
  },
  {
   "cell_type": "code",
   "execution_count": 1,
   "metadata": {},
   "outputs": [
    {
     "name": "stdout",
     "output_type": "stream",
     "text": [
      "{1, 2, 3, 132, 4, 5}\n"
     ]
    }
   ],
   "source": [
    "a_list = [1,1,1,1,132,3,3,2,2,4,5]\n",
    "a_set = set(a_list)\n",
    "print(a_set)"
   ]
  },
  {
   "cell_type": "code",
   "execution_count": 16,
   "metadata": {},
   "outputs": [
    {
     "name": "stdout",
     "output_type": "stream",
     "text": [
      "{1, 2, 3}\n"
     ]
    }
   ],
   "source": [
    "a_tuple = (1,1,1,2,2,2,3,3,3)\n",
    "a_set = set(a_tuple)\n",
    "print(a_set)"
   ]
  }
 ],
 "metadata": {
  "kernelspec": {
   "display_name": "Python 3 (ipykernel)",
   "language": "python",
   "name": "python3"
  },
  "language_info": {
   "codemirror_mode": {
    "name": "ipython",
    "version": 3
   },
   "file_extension": ".py",
   "mimetype": "text/x-python",
   "name": "python",
   "nbconvert_exporter": "python",
   "pygments_lexer": "ipython3",
   "version": "3.11.4"
  }
 },
 "nbformat": 4,
 "nbformat_minor": 2
}
