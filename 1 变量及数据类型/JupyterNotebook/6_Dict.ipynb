{
 "cells": [
  {
   "cell_type": "markdown",
   "id": "8eb6e9e7",
   "metadata": {},
   "source": [
    "# Dictionary(字典)\n",
    "\n",
    "--------------------------------\n",
    "\n",
    "在Python中，字典是一系列**键-键值**对，每个键都与一个键值相关联，可以使用键来访问与之相关联的值，这个值可以是任何类型的元素。\n",
    "\n",
    "简言之，字典能够将相关信息关联起来。\n",
    "\n",
    "在Python中，字典用放在花括号{}中的一系列**键-值对**表示。"
   ]
  },
  {
   "cell_type": "code",
   "execution_count": 3,
   "id": "1e29abef",
   "metadata": {},
   "outputs": [],
   "source": [
    "# 一个简单的字典示例,其中，color和points为键，green和5为值：\n",
    "alien_0 = {'color': 'green', 'points': 5} "
   ]
  },
  {
   "cell_type": "markdown",
   "id": "d461ac7d",
   "metadata": {},
   "source": [
    "## 1 使用字典"
   ]
  },
  {
   "cell_type": "code",
   "execution_count": 4,
   "id": "9b3d2570",
   "metadata": {},
   "outputs": [
    {
     "name": "stdout",
     "output_type": "stream",
     "text": [
      "green\n"
     ]
    }
   ],
   "source": [
    "# 访问字典中的值：\n",
    "print(alien_0['color'])"
   ]
  },
  {
   "cell_type": "code",
   "execution_count": 5,
   "id": "d1d46dde",
   "metadata": {},
   "outputs": [
    {
     "name": "stdout",
     "output_type": "stream",
     "text": [
      "{'color': 'green', 'points': 5}\n",
      "{'color': 'green', 'points': 5, 'x_position': 0, 'y_position': 25}\n"
     ]
    }
   ],
   "source": [
    "# 添加键-值对，可依次指定字典名、用方括号括起的键和相关联的值，（字典是一种动态结构）\n",
    "print(alien_0)\n",
    "alien_0['x_position'] = 0\n",
    "alien_0['y_position'] = 25\n",
    "print(alien_0)"
   ]
  },
  {
   "cell_type": "markdown",
   "id": "d4355900",
   "metadata": {},
   "source": [
    "**python不关心键-值对的添加顺序，而只关心键和值之间的关联关系**"
   ]
  },
  {
   "cell_type": "code",
   "execution_count": 6,
   "id": "c41e90ff",
   "metadata": {},
   "outputs": [
    {
     "name": "stdout",
     "output_type": "stream",
     "text": [
      "{'color': 'yellow', 'points': 5, 'x_position': 0, 'y_position': 25}\n"
     ]
    }
   ],
   "source": [
    "# 修改字典中的值,要修改字典中的值，可依次指定字典名、用方括号括起的键以及该键相关联的新值。\n",
    "alien_0['color'] = 'yellow'\n",
    "print(alien_0)"
   ]
  },
  {
   "cell_type": "code",
   "execution_count": 7,
   "id": "c130d347",
   "metadata": {},
   "outputs": [
    {
     "name": "stdout",
     "output_type": "stream",
     "text": [
      "{'color': 'yellow', 'x_position': 0, 'y_position': 25}\n"
     ]
    }
   ],
   "source": [
    "# 删除键值对\n",
    "del alien_0['points']\n",
    "print(alien_0)"
   ]
  },
  {
   "cell_type": "markdown",
   "id": "72e19146",
   "metadata": {},
   "source": [
    "# 2 遍历字典"
   ]
  },
  {
   "cell_type": "code",
   "execution_count": 8,
   "id": "ace0c4c8",
   "metadata": {},
   "outputs": [
    {
     "name": "stdout",
     "output_type": "stream",
     "text": [
      "\n",
      "key:color\n",
      "value:yellow\n",
      "\n",
      "key:x_position\n",
      "value:0\n",
      "\n",
      "key:y_position\n",
      "value:25\n",
      "<class 'dict_items'>\n"
     ]
    }
   ],
   "source": [
    "# 遍历所有键值对,注意要使用方法itenms()，他返回一个键-值对列表\n",
    "for key, value in alien_0.items():\n",
    "    print(\"\\nkey:\" + key)\n",
    "    print(\"value:\" + str(value))\n",
    "print(type(alien_0.items()))"
   ]
  },
  {
   "cell_type": "markdown",
   "id": "b18878f1",
   "metadata": {},
   "source": [
    "**注意：即便遍历字典时，键-值对的返回顺序也与存储顺序不同**"
   ]
  },
  {
   "cell_type": "code",
   "execution_count": 9,
   "id": "d1500c9d",
   "metadata": {},
   "outputs": [
    {
     "name": "stdout",
     "output_type": "stream",
     "text": [
      "color\n",
      "x_position\n",
      "y_position\n"
     ]
    }
   ],
   "source": [
    "# 遍历字典中的所有键，方法keys()可省略\n",
    "for name in alien_0.keys():\n",
    "    print(name)"
   ]
  },
  {
   "cell_type": "code",
   "execution_count": 10,
   "id": "71d1cf46",
   "metadata": {},
   "outputs": [
    {
     "name": "stdout",
     "output_type": "stream",
     "text": [
      "color\n",
      "x_position\n",
      "y_position\n"
     ]
    }
   ],
   "source": [
    "# 按顺序遍历字典中的所有键\n",
    "for name in sorted(alien_0.keys()):\n",
    "    print(name)"
   ]
  },
  {
   "cell_type": "code",
   "execution_count": 11,
   "id": "5008cf9d",
   "metadata": {},
   "outputs": [
    {
     "name": "stdout",
     "output_type": "stream",
     "text": [
      "yellow\n",
      "0\n",
      "25\n"
     ]
    }
   ],
   "source": [
    "# 遍历字典中的所有值，使用方法values()，他返回一个值列表，而不包含任何键\n",
    "for value in alien_0.values():\n",
    "    print(value)"
   ]
  },
  {
   "cell_type": "markdown",
   "id": "f59dba60",
   "metadata": {},
   "source": [
    "**这种做法提取字典中的所有值，而没有考虑是否重复。要去除重复项，可使用集合(set),集合类似于列表，但每个元素都必须是独一无二的**"
   ]
  },
  {
   "cell_type": "markdown",
   "id": "69252932",
   "metadata": {},
   "source": [
    "## 3 嵌套"
   ]
  },
  {
   "cell_type": "markdown",
   "id": "a0294648",
   "metadata": {},
   "source": [
    "有时候需要将一系列字典存储在列表中，或将列表作为值存储在字典中，这称为嵌套。\n",
    "\n",
    "- 字典列表： 元素为字典的列表\n",
    "- 在字典中存储列表\n",
    "- 在字典中存储字典"
   ]
  },
  {
   "cell_type": "markdown",
   "id": "a0d68760",
   "metadata": {},
   "source": [
    "# 4 如何根据值查找对应的键\n",
    "\n",
    "可以使用以下两种方法：\n",
    "\n",
    "1.使用循环遍历字典的键值对，然后通过比较值来找到对应的键："
   ]
  },
  {
   "cell_type": "code",
   "execution_count": 12,
   "id": "dfadd2b1",
   "metadata": {},
   "outputs": [
    {
     "name": "stdout",
     "output_type": "stream",
     "text": [
      "color\n"
     ]
    }
   ],
   "source": [
    "for key, val in alien_0.items():\n",
    "    if val == 'yellow':\n",
    "        print(key)"
   ]
  },
  {
   "cell_type": "markdown",
   "id": "fee09561",
   "metadata": {},
   "source": [
    "2.使用**字典推导式**来创建一个新字典，将原字典的键值对颠倒，然后通过查找新字典的键值对来获取原字典的值："
   ]
  },
  {
   "cell_type": "code",
   "execution_count": 15,
   "id": "231ee65d",
   "metadata": {},
   "outputs": [
    {
     "name": "stdout",
     "output_type": "stream",
     "text": [
      "color\n"
     ]
    }
   ],
   "source": [
    "inverted_dict = {v:k for k,v in alien_0.items()}\n",
    "print(inverted_dict['yellow'])"
   ]
  }
 ],
 "metadata": {
  "kernelspec": {
   "display_name": "Python 3 (ipykernel)",
   "language": "python",
   "name": "python3"
  },
  "language_info": {
   "codemirror_mode": {
    "name": "ipython",
    "version": 3
   },
   "file_extension": ".py",
   "mimetype": "text/x-python",
   "name": "python",
   "nbconvert_exporter": "python",
   "pygments_lexer": "ipython3",
   "version": "3.11.4"
  }
 },
 "nbformat": 4,
 "nbformat_minor": 5
}
