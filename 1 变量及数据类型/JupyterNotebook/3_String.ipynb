{
 "cells": [
  {
   "cell_type": "markdown",
   "metadata": {},
   "source": [
    "# String 字符串"
   ]
  },
  {
   "cell_type": "markdown",
   "metadata": {},
   "source": [
    "--------------"
   ]
  },
  {
   "cell_type": "markdown",
   "metadata": {},
   "source": [
    "字符串就是一系列字符，在Python中，用引号括起的都是字符串，其中引号可以是单引号，可以是双引号。不同于c，Python 不支持单字符类型，单字符也在Python也是作为一个字符串使用。"
   ]
  },
  {
   "cell_type": "markdown",
   "metadata": {},
   "source": [
    "字符串常用操作：\n",
    "\n",
    "1.调整大小写 upper()、lower()、swapcase()、capitalize()、istitle()、isupper()、islower()\n",
    "\n",
    "2.拼接\n",
    "\n",
    "3.添加/删除空白 strip()、lstrip()、rstrip()\n",
    "\n",
    "4.切片、索引\n",
    "\n",
    "5.替换  s.replace('a', 'b')\n",
    "\n",
    "6.查找  find()、index()、rfind()、rindex()\n",
    "\n",
    "7.格式化 \n",
    "\n",
    "- '%s %s' % ('win', '64')\n",
    "\n",
    "- '{}, {}'.format(21, 'win') # 推荐使用format格式化字符串\n",
    "\n",
    "- '{0}, {1}, {0}'.format('Windrivder', 21)\n",
    "\n",
    "- '{name}: {age}'.format(age=21, name='Windrivder')\n",
    "\n",
    "8.连接与分隔"
   ]
  },
  {
   "cell_type": "markdown",
   "metadata": {},
   "source": [
    "## 1.1 调整字符串大小写"
   ]
  },
  {
   "cell_type": "code",
   "execution_count": 34,
   "metadata": {},
   "outputs": [
    {
     "name": "stdout",
     "output_type": "stream",
     "text": [
      "Ada Lovelace\n",
      "ADA LOVELACE\n",
      "ada lovelace\n"
     ]
    }
   ],
   "source": [
    "# 以首字母大写的方式显示每个单词\n",
    "name = 'ada lovelace'\n",
    "print(name.title())\n",
    "\n",
    "# 所有字母大写\n",
    "name = name.upper()\n",
    "print(name)\n",
    "\n",
    "# 所有字母小写\n",
    "name = name.lower()\n",
    "print(name)"
   ]
  },
  {
   "cell_type": "markdown",
   "metadata": {},
   "source": [
    "在print语句中，方法title()出现在变量name后面，**方法**是Python可对数据执行的操作。在name.title()中，name后面的句点(.)让Python对变量name执行方法title()指定的操作。每个方法后面都跟着一对括号，这是因为方法通常需要额外的信息来完成其工作，这种信息实在括号内提供的。函数title()不需要额外的信息，因此括号内是空的。"
   ]
  },
  {
   "cell_type": "markdown",
   "metadata": {},
   "source": [
    "## 1.2 拼接字符串\n",
    "使用'+'拼接字符串，可以使用拼接来创建消息"
   ]
  },
  {
   "cell_type": "code",
   "execution_count": 35,
   "metadata": {},
   "outputs": [
    {
     "name": "stdout",
     "output_type": "stream",
     "text": [
      "Ada Lovelace\n"
     ]
    }
   ],
   "source": [
    "first_name = 'ada'\n",
    "last_name = 'lovelace'\n",
    "full_name = first_name + ' ' +  last_name\n",
    "print(full_name.title())"
   ]
  },
  {
   "cell_type": "markdown",
   "metadata": {},
   "source": [
    "## 1.3 使用制表符或换行符来添加空白、删除空白\n",
    "\n",
    "要确保字符串没有空白，可使用方法strip(),**这种删除只是暂时的，并不会改变变量本身存储的字符串**"
   ]
  },
  {
   "cell_type": "code",
   "execution_count": 36,
   "metadata": {},
   "outputs": [
    {
     "name": "stdout",
     "output_type": "stream",
     "text": [
      "python\n",
      "\tpython\n",
      "languages:\n",
      "python\n",
      "C\n",
      "javascript\n"
     ]
    }
   ],
   "source": [
    "print('python')\n",
    "print('\\tpython')\n",
    "print('languages:\\npython\\nC\\njavascript')"
   ]
  },
  {
   "cell_type": "code",
   "execution_count": 37,
   "metadata": {},
   "outputs": [
    {
     "name": "stdout",
     "output_type": "stream",
     "text": [
      " python \n",
      "python\n",
      " python\n",
      "python \n"
     ]
    }
   ],
   "source": [
    "favorite_language = ' python '\n",
    "print(favorite_language)\n",
    "print(favorite_language.strip())\n",
    "print(favorite_language.rstrip())\n",
    "print(favorite_language.lstrip())"
   ]
  },
  {
   "cell_type": "markdown",
   "metadata": {},
   "source": [
    "## 1.4 切片、索引"
   ]
  },
  {
   "cell_type": "code",
   "execution_count": 38,
   "metadata": {},
   "outputs": [
    {
     "name": "stdout",
     "output_type": "stream",
     "text": [
      "h\n",
      "dlrow olleh\n",
      "lo world\n"
     ]
    }
   ],
   "source": [
    "s = 'hello world'\n",
    "print(s[0])\n",
    "print(s[::-1])\n",
    "print(s[3:])"
   ]
  },
  {
   "cell_type": "markdown",
   "metadata": {},
   "source": [
    "## 1.5 替换 "
   ]
  },
  {
   "cell_type": "code",
   "execution_count": 39,
   "metadata": {},
   "outputs": [
    {
     "data": {
      "text/plain": [
       "'hePPPPo worPPd'"
      ]
     },
     "execution_count": 39,
     "metadata": {},
     "output_type": "execute_result"
    }
   ],
   "source": [
    "s.replace('l', 'PP')"
   ]
  },
  {
   "cell_type": "markdown",
   "metadata": {},
   "source": [
    "## 1.6 查找"
   ]
  },
  {
   "cell_type": "code",
   "execution_count": 40,
   "metadata": {},
   "outputs": [
    {
     "name": "stdout",
     "output_type": "stream",
     "text": [
      "2\n",
      "9\n",
      "9\n"
     ]
    }
   ],
   "source": [
    "# find(a,b)  a为要查找的字符串，b为从下标b开始寻找，找不到返回-1\n",
    "print(s.find('l'))  # 返回第一次出现子串的下标\n",
    "print(s.find('l', 4))  # 设定下标4开始寻找\n",
    "# rfind(a,b) 从右侧开始寻找，返回最右侧出现的子串的索引（正索引），找不到子串返回-1\n",
    "print(s.rfind('l')) "
   ]
  },
  {
   "cell_type": "code",
   "execution_count": 41,
   "metadata": {},
   "outputs": [
    {
     "name": "stdout",
     "output_type": "stream",
     "text": [
      "2\n"
     ]
    }
   ],
   "source": [
    "print(s.index('l')) # 返回第一次出现的子串的下标，找不到会抛出异常"
   ]
  },
  {
   "cell_type": "markdown",
   "metadata": {},
   "source": [
    "## 1.7 格式化"
   ]
  },
  {
   "cell_type": "code",
   "execution_count": 42,
   "metadata": {},
   "outputs": [
    {
     "name": "stdout",
     "output_type": "stream",
     "text": [
      "win 64\n",
      "21, win\n",
      "Windrivder, 21, Windrivder\n",
      "Windrivder: 21\n"
     ]
    }
   ],
   "source": [
    "# 以下方法中连接各元素的符号如逗号，冒号分号等都可以随意改动\n",
    "\n",
    "print('%s %s' % ('win', '64'))\n",
    "\n",
    "print('{}, {}'.format(21, 'win')) # 推荐使用format格式化字符串\n",
    "\n",
    "print('{0}, {1}, {0}'.format('Windrivder', 21)) # 花括号内的数字是format内的元素的索引\n",
    "\n",
    "print('{name}: {age}'.format(age=21, name='Windrivder'))"
   ]
  },
  {
   "cell_type": "markdown",
   "metadata": {},
   "source": [
    "## 1.8 连接与分隔"
   ]
  },
  {
   "cell_type": "code",
   "execution_count": 43,
   "metadata": {},
   "outputs": [
    {
     "name": "stdout",
     "output_type": "stream",
     "text": [
      "2017-03-29-22:00\n"
     ]
    }
   ],
   "source": [
    "# 使用 + 连接字符串，每次操作会重新计算、开辟、释放内存，效率很低，所以推荐使用join\n",
    "l = ['2017', '03', '29', '22:00']\n",
    "string = '-'.join(l)\n",
    "print(string)"
   ]
  },
  {
   "cell_type": "code",
   "execution_count": 44,
   "metadata": {},
   "outputs": [
    {
     "name": "stdout",
     "output_type": "stream",
     "text": [
      "['2017', '03', '29', '22:00']\n"
     ]
    }
   ],
   "source": [
    "# 使用split()按元素分隔字符串,分隔后以列表形式返回\n",
    "print(string.split('-'))\n"
   ]
  },
  {
   "cell_type": "markdown",
   "metadata": {},
   "source": [
    "# 字符串编码\n",
    "\n",
    "------"
   ]
  },
  {
   "cell_type": "markdown",
   "metadata": {},
   "source": [
    "所有的 Python 字符串都是 Unicode 字符串，当需要将文件保存到外设或进行网络传输时，就要进行编码转换，将字符转换为字节，以提高效率。"
   ]
  },
  {
   "cell_type": "code",
   "execution_count": 47,
   "metadata": {},
   "outputs": [
    {
     "name": "stdout",
     "output_type": "stream",
     "text": [
      "b'\\xe4\\xbd\\xa0\\xe5\\xa5\\xbd\\xe4\\xb8\\x96\\xe7\\x95\\x8c\\xef\\xbc\\x8chello world!'\n",
      "b'\\xc4\\xe3\\xba\\xc3\\xca\\xc0\\xbd\\xe7\\xa3\\xachello world!'\n",
      "你好世界，hello world!\n",
      "你好世界，hello world!\n"
     ]
    }
   ],
   "source": [
    "# encode 将字符转换为字节\n",
    "str = '你好世界，hello world!'\n",
    "print (str.encode())\t\t\t# 默认编码是 UTF-8  输出：b'\\xe5\\xad\\xa6\\xe4\\xb9\\xa0Python'\n",
    "print (str.encode('gbk'))      # 输出  b'\\xd1\\xa7\\xcf\\xb0Python'\n",
    "# decode 将字节转换为字符\n",
    "print (str.encode().decode('utf8'))   # 输出 'hello world'\n",
    "print (str.encode('gbk').decode('gbk'))             # 输出 'hello world'"
   ]
  }
 ],
 "metadata": {
  "kernelspec": {
   "display_name": "Python 3 (ipykernel)",
   "language": "python",
   "name": "python3"
  },
  "language_info": {
   "codemirror_mode": {
    "name": "ipython",
    "version": 3
   },
   "file_extension": ".py",
   "mimetype": "text/x-python",
   "name": "python",
   "nbconvert_exporter": "python",
   "pygments_lexer": "ipython3",
   "version": "3.11.4"
  }
 },
 "nbformat": 4,
 "nbformat_minor": 2
}
