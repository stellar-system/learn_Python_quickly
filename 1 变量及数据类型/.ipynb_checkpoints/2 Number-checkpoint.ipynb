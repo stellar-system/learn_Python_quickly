{
 "cells": [
  {
   "cell_type": "markdown",
   "id": "72fa7829",
   "metadata": {},
   "source": [
    "# NUumber 数字"
   ]
  },
  {
   "cell_type": "markdown",
   "id": "11532ae5",
   "metadata": {},
   "source": [
    "在编程中，常使用数字来记录游戏得分、表示可视化数据、存储Web应用信息等。Python根据数字的用法以不同的方式处理它们。"
   ]
  },
  {
   "cell_type": "markdown",
   "id": "ae8fbafa",
   "metadata": {},
   "source": [
    "Python支持四种不同的数字类型：\n",
    "- int 有符号整型\n",
    "- long 长整型，也可代表八进制和十六进制\n",
    "- float 浮点型\n",
    "- complex 复数"
   ]
  },
  {
   "cell_type": "markdown",
   "id": "b099024b",
   "metadata": {},
   "source": [
    "一些数值类型的实例：\n",
    "| int | long | float | complex |\n",
    "| :--- | :--- | :--- | :--- |\n",
    "| 10 | 515924361L | 0.0 | 3.14j|\n",
    "| 100 | -0x19323L | 15.20 | 45.j |\n",
    "| -786 | 0122L | -21.9 | 9.322e-36j |\n",
    "| 080 | 0xDEFABCECBDAECBFBAEl | 32.3e+18 | .876j |\n",
    "| -0490 | 535633629843L | -90. | -.6545+0J |\n",
    "| -0x260 | \t-052318172735L | -32.54e100 | 3e+26J |\n",
    "| 0x69 | -4721885298529L | 70.2E-12 | 4.53e-7j |\n",
    "\n",
    "- Python复数除了a+bj的形式，也可使用complex(a,b)来表示\n",
    "- Python3.x版本中移除了long类型，使用int替代\n",
    "- 进制前缀：    \n",
    "| 进制 | 英文 | 范围 | 前缀 | 后缀 |\n",
    "| :--| :-- | :-- | :-- | :-- |\n",
    "|二进制 | Binary | 0-1 | 0B | B |\n",
    "|八进制 | Octal | 0-7 | 0O,也可以使用空格加上0 即:\" 0\" | O |\n",
    "|十进制 | Decimal | 0-9 | 无 | D |\n",
    "|十六进制 | Hexadecimal | 0-9,A-F | 0x | H |\n",
    "- e或E(exponent)为科学计数法表示，其表示以10为底的底数，aeb中a为float类型，b为int类型，如3.2e+2表示' 3.2 x 10^2 '"
   ]
  },
  {
   "cell_type": "code",
   "execution_count": 9,
   "id": "87ba5b53",
   "metadata": {},
   "outputs": [
    {
     "name": "stdout",
     "output_type": "stream",
     "text": [
      "277\n"
     ]
    }
   ],
   "source": [
    "print(0B0100010101)"
   ]
  },
  {
   "cell_type": "code",
   "execution_count": 12,
   "id": "3d8e830e",
   "metadata": {},
   "outputs": [
    {
     "name": "stdout",
     "output_type": "stream",
     "text": [
      "62\n"
     ]
    }
   ],
   "source": [
    "print(0O76)"
   ]
  },
  {
   "cell_type": "code",
   "execution_count": 14,
   "id": "8dd05820",
   "metadata": {},
   "outputs": [
    {
     "name": "stdout",
     "output_type": "stream",
     "text": [
      "1e-12\n"
     ]
    }
   ],
   "source": [
    "print(1E-12)"
   ]
  },
  {
   "cell_type": "markdown",
   "id": "2a88e456",
   "metadata": {},
   "source": [
    "## 1 int 整型"
   ]
  },
  {
   "cell_type": "markdown",
   "id": "10cbd982",
   "metadata": {},
   "source": [
    "指定一个值时，Number对象被创建"
   ]
  },
  {
   "cell_type": "code",
   "execution_count": 2,
   "id": "5dec98f3",
   "metadata": {},
   "outputs": [
    {
     "name": "stdout",
     "output_type": "stream",
     "text": [
      "1 2\n"
     ]
    }
   ],
   "source": [
    "var1 = 1\n",
    "var2 = 2\n",
    "print(var1,var2)"
   ]
  },
  {
   "cell_type": "markdown",
   "id": "b1da50ba",
   "metadata": {},
   "source": [
    "可以使用del语句删除一些对象的引用，其基本语法为：\n",
    "```python\n",
    "    del var1\n",
    "    del var1, var2\n",
    "```"
   ]
  },
  {
   "cell_type": "code",
   "execution_count": 6,
   "id": "eabe8a64",
   "metadata": {},
   "outputs": [
    {
     "ename": "NameError",
     "evalue": "name 'var1' is not defined",
     "output_type": "error",
     "traceback": [
      "\u001b[1;31m---------------------------------------------------------------------------\u001b[0m",
      "\u001b[1;31mNameError\u001b[0m                                 Traceback (most recent call last)",
      "Cell \u001b[1;32mIn[6], line 1\u001b[0m\n\u001b[1;32m----> 1\u001b[0m \u001b[38;5;28;01mdel\u001b[39;00m var1\n\u001b[0;32m      2\u001b[0m var1\n",
      "\u001b[1;31mNameError\u001b[0m: name 'var1' is not defined"
     ]
    }
   ],
   "source": [
    "del var1\n",
    "var1"
   ]
  },
  {
   "cell_type": "code",
   "execution_count": null,
   "id": "96f4ce0f",
   "metadata": {},
   "outputs": [],
   "source": []
  }
 ],
 "metadata": {
  "kernelspec": {
   "display_name": "Python 3 (ipykernel)",
   "language": "python",
   "name": "python3"
  },
  "language_info": {
   "codemirror_mode": {
    "name": "ipython",
    "version": 3
   },
   "file_extension": ".py",
   "mimetype": "text/x-python",
   "name": "python",
   "nbconvert_exporter": "python",
   "pygments_lexer": "ipython3",
   "version": "3.11.4"
  }
 },
 "nbformat": 4,
 "nbformat_minor": 5
}
