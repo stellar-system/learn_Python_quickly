{
 "cells": [
  {
   "cell_type": "markdown",
   "metadata": {},
   "source": [
    "# List 列表"
   ]
  },
  {
   "cell_type": "markdown",
   "metadata": {},
   "source": [
    "---------------------"
   ]
  },
  {
   "cell_type": "markdown",
   "metadata": {},
   "source": [
    "**列表由一系列按特定顺序排列的元素组成**且列表元素可以是任何类型，在python中，通常用方括号（[]）来表示列表，并用逗号（，）来分隔其中的元素"
   ]
  },
  {
   "cell_type": "code",
   "execution_count": 1,
   "metadata": {},
   "outputs": [
    {
     "name": "stdout",
     "output_type": "stream",
     "text": [
      "['trek', 'cannondale', 'redline', 'specialized']\n"
     ]
    }
   ],
   "source": [
    "# bicycles.py\n",
    "bicycles = ['trek', 'cannondale', 'redline', 'specialized']\n",
    "print(bicycles)"
   ]
  },
  {
   "cell_type": "markdown",
   "metadata": {},
   "source": [
    "## 1 访问列表\n",
    "\n",
    "列表是有序集合，因此要访问列表中的任何元素，只需将该元素的位置或索引（index）告诉Python即可。**列表的索引值是从0开始而非从1开始**\n",
    "Python为访问列表的靠后元素提供了一种特殊语法，通过将索引指定为负值，可让Python返回倒数某位的元素值。**仅当列表为空时，这种访问最后一个元素的方式才会导致错误**"
   ]
  },
  {
   "cell_type": "markdown",
   "metadata": {},
   "source": [
    "若要搜索列表中某一元素，返回其索引值，可使用index()方法："
   ]
  },
  {
   "cell_type": "code",
   "execution_count": 22,
   "metadata": {},
   "outputs": [
    {
     "data": {
      "text/plain": [
       "2"
      ]
     },
     "execution_count": 22,
     "metadata": {},
     "output_type": "execute_result"
    }
   ],
   "source": [
    "week = ['Monday', 'Tuesday', 'Wednesday', 'Thursday', 'Friday', 'Saturday', 'Sunday']\n",
    "week.index('Wednesday')"
   ]
  },
  {
   "cell_type": "markdown",
   "metadata": {},
   "source": [
    "## 2 列表的增删改"
   ]
  },
  {
   "cell_type": "code",
   "execution_count": 2,
   "metadata": {},
   "outputs": [
    {
     "name": "stdout",
     "output_type": "stream",
     "text": [
      "['honda', 'yamaha', 'suzuki']\n",
      "['ducati', 'yamaha', 'suzuki']\n"
     ]
    }
   ],
   "source": [
    "## 修改列表元素\n",
    "motorcycles = ['honda', 'yamaha', 'suzuki']\n",
    "print(motorcycles)\n",
    "\n",
    "motorcycles[0] = 'ducati'\n",
    "print(motorcycles)"
   ]
  },
  {
   "cell_type": "code",
   "execution_count": 3,
   "metadata": {},
   "outputs": [
    {
     "name": "stdout",
     "output_type": "stream",
     "text": [
      "['honda', 'yamaha', 'suzuki', 'ducati']\n",
      "['ducati', 'honda', 'yamaha', 'suzuki', 'ducati']\n"
     ]
    }
   ],
   "source": [
    "## 在列表中添加元素\n",
    "motorcycles = ['honda', 'yamaha', 'suzuki']\n",
    "# 1.在列表末尾添加元素append()\n",
    "motorcycles.append('ducati')\n",
    "print(motorcycles)\n",
    "\n",
    "# 2.在列表中插入元素insert(index, 元素)，这种操作将列表中所有在index及其之后的元素向右移一个位置\n",
    "motorcycles.insert(0, 'ducati')\n",
    "print(motorcycles)"
   ]
  },
  {
   "cell_type": "code",
   "execution_count": 4,
   "metadata": {},
   "outputs": [
    {
     "name": "stdout",
     "output_type": "stream",
     "text": [
      "['honda', 'yamaha', 'suzuki']\n",
      "['honda', 'suzuki']\n",
      "\n",
      "\n",
      "['honda', 'yamaha', 'suzuki']\n",
      "['honda', 'yamaha']\n",
      "suzuki\n",
      "\n",
      "\n",
      "['honda', 'yamaha', 'suzuki']\n",
      "['yamaha', 'suzuki']\n",
      "honda\n",
      "\n",
      "\n",
      "['honda', 'yamaha', 'suzuki']\n",
      "['yamaha', 'suzuki']\n",
      "[1, 2, 1, 1, 1]\n"
     ]
    }
   ],
   "source": [
    "## 在列表中删除元素\n",
    "motorcycles = ['honda', 'yamaha', 'suzuki']\n",
    "# 1.使用del语句删除元素,此操作将列表中所有被删除元素右侧的元素向左移一个位置\n",
    "print(motorcycles)\n",
    "del motorcycles[1]\n",
    "print(motorcycles)\n",
    "print('\\n')\n",
    "\n",
    "# 2.使用方法pop()删除元素，方法pop()删除列表末尾的元素，列表就像一个栈，而删除末尾元素相当于弹出栈顶元素\n",
    "#   此方法将元素从列表中删除，但可以接着使用它\n",
    "motorcycles = ['honda', 'yamaha', 'suzuki']\n",
    "print(motorcycles)\n",
    "popped_motorcycle = motorcycles.pop()\n",
    "print(motorcycles)\n",
    "print(popped_motorcycle)\n",
    "print('\\n')\n",
    "\n",
    "# 3.弹出列表中任何位置的元素，实际上，方法pop()可以用来弹出列表中的任意一个元素，只需要在括号中指定要删除的元素的索引即可\n",
    "motorcycles = ['honda', 'yamaha', 'suzuki']\n",
    "print(motorcycles)\n",
    "firsy_motorcycle = motorcycles.pop(0)\n",
    "print(motorcycles)\n",
    "print(firsy_motorcycle)\n",
    "print('\\n')\n",
    "\n",
    "# 4.根据值删除元素，使用remove()方法可以根据括号中提供的值删除元素,若有多个值相同的元素，该方法只删除索引值最小的那个\n",
    "motorcycles = ['honda', 'yamaha', 'suzuki']\n",
    "print(motorcycles)\n",
    "motorcycles.remove('honda')\n",
    "print(motorcycles)\n",
    "\n",
    "numbers = [1, 1, 2, 1, 1, 1]\n",
    "numbers.remove(1)\n",
    "print(numbers)"
   ]
  },
  {
   "cell_type": "markdown",
   "metadata": {},
   "source": [
    "## 3 组织列表\n",
    "以特定的顺序显示列表元素"
   ]
  },
  {
   "cell_type": "code",
   "execution_count": 8,
   "metadata": {},
   "outputs": [
    {
     "name": "stdout",
     "output_type": "stream",
     "text": [
      "['bmw', 'audi', 'toyota', 'subaru']\n",
      "['audi', 'bmw', 'subaru', 'toyota']\n",
      "['toyota', 'subaru', 'bmw', 'audi']\n",
      "\n",
      "\n",
      "['bmw', 'audi', 'toyota', 'subaru']\n",
      "['audi', 'bmw', 'subaru', 'toyota']\n",
      "['audi', 'bmw', 'subaru', 'toyota']\n",
      "['bmw', 'audi', 'toyota', 'subaru']\n",
      "\n",
      "\n",
      "['bmw', 'audi', 'toyota', 'subaru']\n",
      "['subaru', 'toyota', 'audi', 'bmw']\n",
      "['subaru', 'toyota', 'audi', 'bmw']\n"
     ]
    },
    {
     "data": {
      "text/plain": [
       "4"
      ]
     },
     "execution_count": 8,
     "metadata": {},
     "output_type": "execute_result"
    }
   ],
   "source": [
    "## 1.使用方法sort()对列表进行永久性排序\n",
    "cars = ['bmw', 'audi', 'toyota', 'subaru']\n",
    "print(cars)\n",
    "cars.sort()\n",
    "print(cars)\n",
    "cars.sort(reverse=True) # 按照字母反向排列只需要传入参数reverse=True\n",
    "print(cars)\n",
    "print('\\n')\n",
    "\n",
    "## 2.使用函数sorted()对列表进行临时排序，即保留原列表的排序，也接受传入参数reverse\n",
    "cars = ['bmw', 'audi', 'toyota', 'subaru']\n",
    "print(cars)\n",
    "print(sorted(cars))\n",
    "a = sorted(cars)\n",
    "print(a)\n",
    "print(cars)\n",
    "print('\\n')\n",
    "\n",
    "## 3.使用方法reverse()永久性的反转列表元素的排列顺序\n",
    "cars = ['bmw', 'audi', 'toyota', 'subaru']\n",
    "print(cars)\n",
    "cars.reverse()\n",
    "b = cars[::-1] # 方向切片列表整体可以达到一样的目的\n",
    "print(cars)\n",
    "print(cars)\n",
    "\n",
    "## 4.确定列表的长度\n",
    "len(cars)"
   ]
  },
  {
   "cell_type": "markdown",
   "metadata": {},
   "source": [
    "## 4 遍历整个列表\n",
    "通过for循环进行遍历"
   ]
  },
  {
   "cell_type": "code",
   "execution_count": 9,
   "metadata": {},
   "outputs": [
    {
     "name": "stdout",
     "output_type": "stream",
     "text": [
      "alice\n",
      "david\n",
      "carolina\n"
     ]
    }
   ],
   "source": [
    "magicians = ['alice', 'david', 'carolina']\n",
    "for magician in magicians: # 临时变量magician可指定任何名称\n",
    "    print(magician) # for循环体内的每行代码，缩进是必要的"
   ]
  },
  {
   "cell_type": "markdown",
   "metadata": {},
   "source": [
    "## 5 创建数值列表"
   ]
  },
  {
   "cell_type": "code",
   "execution_count": 10,
   "metadata": {},
   "outputs": [
    {
     "name": "stdout",
     "output_type": "stream",
     "text": [
      "1\n",
      "2\n",
      "3\n",
      "4\n"
     ]
    }
   ],
   "source": [
    "## 1.使用函数range(a,b,c),数值域为[a,b),其中c为取值的步长\n",
    "for value in range(1,5):\n",
    "    print(value)"
   ]
  },
  {
   "cell_type": "code",
   "execution_count": 11,
   "metadata": {},
   "outputs": [
    {
     "name": "stdout",
     "output_type": "stream",
     "text": [
      "<class 'range'>\n",
      "[1, 2, 3, 4]\n",
      "<class 'list'>\n"
     ]
    }
   ],
   "source": [
    "## 2.使用range()创建数字列表\n",
    "print(type(range(1,5)))\n",
    "numbers = list(range(1,5))\n",
    "print(numbers)\n",
    "print(type(numbers))"
   ]
  },
  {
   "cell_type": "code",
   "execution_count": 12,
   "metadata": {},
   "outputs": [
    {
     "data": {
      "text/plain": [
       "55"
      ]
     },
     "execution_count": 12,
     "metadata": {},
     "output_type": "execute_result"
    }
   ],
   "source": [
    "## 3.对数字列表执行简单的统计计算\n",
    "digits = list(range(1,11))\n",
    "min(digits) # 取最小值\n",
    "max(digits) # 取最大值\n",
    "sum(digits) # 求和"
   ]
  },
  {
   "cell_type": "markdown",
   "metadata": {},
   "source": [
    "## 6 列表解析\n",
    "思考如何生成一个列表，将前十个整数的平方加入到一个列表中，常规的使用for循环的方法为："
   ]
  },
  {
   "cell_type": "code",
   "execution_count": 13,
   "metadata": {},
   "outputs": [
    {
     "name": "stdout",
     "output_type": "stream",
     "text": [
      "[1, 4, 9, 16, 25, 36, 49, 64, 81, 100]\n"
     ]
    }
   ],
   "source": [
    "squares = []\n",
    "for value in range(1,11):\n",
    "    squares.append(value**2)\n",
    "print(squares)"
   ]
  },
  {
   "cell_type": "markdown",
   "metadata": {},
   "source": [
    "如果使用列表解析，一行代码即可实现："
   ]
  },
  {
   "cell_type": "code",
   "execution_count": 14,
   "metadata": {},
   "outputs": [
    {
     "name": "stdout",
     "output_type": "stream",
     "text": [
      "[1, 4, 9, 16, 25, 36, 49, 64, 81, 100]\n"
     ]
    }
   ],
   "source": [
    "squares = [value**2 for value in range(1,11)]\n",
    "print(squares)"
   ]
  },
  {
   "cell_type": "markdown",
   "metadata": {},
   "source": [
    "## 7 列表切片\n",
    "要创建切片，可指定要使用的第一个元素和最后一个元素的索引。与range()函数一样，python在到达指定的第二个索引前面的元素后停止。"
   ]
  },
  {
   "cell_type": "code",
   "execution_count": 16,
   "metadata": {},
   "outputs": [
    {
     "name": "stdout",
     "output_type": "stream",
     "text": [
      "['charles', 'martina', 'michael']\n"
     ]
    }
   ],
   "source": [
    "players = ['charles', 'martina', 'michael', 'florence', 'eli'] \n",
    "print(players[0:3]) # 实际打印索引为0，1，2的元素"
   ]
  },
  {
   "cell_type": "code",
   "execution_count": 17,
   "metadata": {},
   "outputs": [
    {
     "name": "stdout",
     "output_type": "stream",
     "text": [
      "['charles', 'martina', 'michael', 'florence']\n"
     ]
    }
   ],
   "source": [
    "# 若不指定第一个索引，切片将从列表开头开始,不指定第二个索引同理\n",
    "print(players[:4])"
   ]
  },
  {
   "cell_type": "code",
   "execution_count": 18,
   "metadata": {},
   "outputs": [
    {
     "name": "stdout",
     "output_type": "stream",
     "text": [
      "['michael', 'florence', 'eli']\n"
     ]
    }
   ],
   "source": [
    "# 同样，第一个索引可以从负数开始\n",
    "print(players[-3:])"
   ]
  },
  {
   "cell_type": "markdown",
   "metadata": {},
   "source": [
    "- 要遍历列表中的部分元素，可在for循环中使用列表切片：\n",
    "\n",
    "    for player in players[:3]:\n",
    "\n",
    "- 要复制列表，可创建一个包含整个列表的列表切片，方法是同时省略起始索引和终止索引：\n",
    "\n",
    "    old_players = players[:]\n",
    "\n",
    "    倘若我们只是简单的将players赋值给old_players，如 old_players = players 则行不通，在这种方法下，old_players与players指向的实际上是同一个列表"
   ]
  }
 ],
 "metadata": {
  "kernelspec": {
   "display_name": "Python 3 (ipykernel)",
   "language": "python",
   "name": "python3"
  },
  "language_info": {
   "codemirror_mode": {
    "name": "ipython",
    "version": 3
   },
   "file_extension": ".py",
   "mimetype": "text/x-python",
   "name": "python",
   "nbconvert_exporter": "python",
   "pygments_lexer": "ipython3",
   "version": "3.11.4"
  }
 },
 "nbformat": 4,
 "nbformat_minor": 2
}
