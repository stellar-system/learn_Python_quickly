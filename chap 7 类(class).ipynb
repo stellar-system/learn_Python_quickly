{
 "cells": [
  {
   "cell_type": "markdown",
   "id": "4b071652",
   "metadata": {},
   "source": [
    "# 1 类(class)"
   ]
  },
  {
   "cell_type": "markdown",
   "id": "aacfddcb",
   "metadata": {},
   "source": [
    "## 1.1 创建和使用类"
   ]
  },
  {
   "cell_type": "code",
   "execution_count": 3,
   "id": "8c3bce4d",
   "metadata": {},
   "outputs": [],
   "source": [
    "# 例1 创建Dog类\n",
    "class Dog(): # ①\n",
    "    \"\"\"一次模拟小狗的简单尝试\"\"\" # ②\n",
    "    \n",
    "    def __init__(self, name, age): # ③\n",
    "        \"\"\"初始化属性name和age\"\"\"\n",
    "        self.name = name # ④\n",
    "        self.age = age\n",
    "        \n",
    "    def sit(self): # ⑤\n",
    "        \"\"\"模拟小狗被命令时蹲下\"\"\"\n",
    "        print(self.name.title() + \" is now sitting.\")\n",
    "        \n",
    "    def roll_over(self):\n",
    "        \"\"\"模拟小狗被命令时打滚\"\"\"\n",
    "        print(self.name.title() + \" rolled over!\")"
   ]
  },
  {
   "cell_type": "markdown",
   "id": "b5029fd5",
   "metadata": {},
   "source": [
    "详解：\n",
    "① 根据约定，在Python中，首字母大写的名称指的是**类**。这个定义的括号中是空的，因为我们要从空白创建这个类。\n",
    "\n",
    "② 我们编写了一个文档字符串，对这个类的功能做了描述\n",
    "\n",
    "③ 方法__init__():**类中的函数称为方法，有关函数的一切都适用于方法，目前而言唯一的差别是调用方式**。方法__init__()是一个特殊的方法，每当程序根据Dog类创建实例时，都会自动运行它。此方法前后的下划线是一种约定，旨在避免Python默认方法与普通方法发生名称冲突。在方法的定义中，形参**self**必不可少，还必须位于其他形参的前面。因为Python在运行方法__init__()来创建实例时，将自动传入实参self，**每个与类相关联的方法调用都自动传递实参self，他是一个指向实例本身的引用，让实例能够访问类中的属性和方法**，此例中，每当我们根据Dog类创建实例时，都只需给最后两个形参（name和age）提供值。**方法__init__()并未显式地包含return语句，但Python自动返回一个表示这条小狗的实例**\n",
    "\n",
    "④该处定义的两个变量都有前缀self，以self为前缀的变量都可供类中的所有方法使用，我们还可以通过类的任何实例来访问这些变量。像这样可通过实例访问的变量被称为属性。"
   ]
  },
  {
   "cell_type": "code",
   "execution_count": 4,
   "id": "d8c1bfc5",
   "metadata": {},
   "outputs": [
    {
     "name": "stdout",
     "output_type": "stream",
     "text": [
      "My dog's name is Willie.\n",
      "My dog's age is 6 years old.\n"
     ]
    }
   ],
   "source": [
    "# 根据类创建实例\n",
    "my_dog = Dog('willie', 6)\n",
    "\n",
    "print(\"My dog's name is \" + my_dog.name.title() + \".\")\n",
    "print(\"My dog's age is \" + str(my_dog.age) + \" years old.\")"
   ]
  },
  {
   "cell_type": "markdown",
   "id": "b45b47ae",
   "metadata": {},
   "source": [
    "1. 访问属性，可使用句点表示法"
   ]
  },
  {
   "cell_type": "code",
   "execution_count": 5,
   "id": "79f577df",
   "metadata": {},
   "outputs": [
    {
     "data": {
      "text/plain": [
       "'willie'"
      ]
     },
     "execution_count": 5,
     "metadata": {},
     "output_type": "execute_result"
    }
   ],
   "source": [
    "my_dog.name"
   ]
  },
  {
   "cell_type": "markdown",
   "id": "055d328b",
   "metadata": {},
   "source": [
    "2. 调用方法，根据Dog类创建实例后，就可以使用句点表示法来调用Dog类中定义的任何方法，来让小狗蹲下和打滚。"
   ]
  },
  {
   "cell_type": "code",
   "execution_count": 6,
   "id": "849969cf",
   "metadata": {},
   "outputs": [
    {
     "name": "stdout",
     "output_type": "stream",
     "text": [
      "Willie is now sitting.\n"
     ]
    }
   ],
   "source": [
    "my_dog.sit()"
   ]
  },
  {
   "cell_type": "code",
   "execution_count": 8,
   "id": "c4064100",
   "metadata": {},
   "outputs": [
    {
     "name": "stdout",
     "output_type": "stream",
     "text": [
      "Willie rolled over!\n"
     ]
    }
   ],
   "source": [
    "my_dog.roll_over()"
   ]
  },
  {
   "cell_type": "markdown",
   "id": "f9d3e694",
   "metadata": {},
   "source": [
    "3. 创建多个实例"
   ]
  },
  {
   "cell_type": "code",
   "execution_count": 11,
   "id": "8d9b8134",
   "metadata": {},
   "outputs": [
    {
     "name": "stdout",
     "output_type": "stream",
     "text": [
      "My dog's name is Willie.\n",
      "My dog's age is 6 years old.\n",
      "Willie is now sitting.\n",
      "\n",
      "Your dog's name is Lucy.\n",
      "Your dog's age is 3 years old.\n",
      "Lucy is now sitting.\n"
     ]
    }
   ],
   "source": [
    "my_dog = Dog('willie', 6)\n",
    "your_dog = Dog('lucy', 3)\n",
    "\n",
    "print(\"My dog's name is \" + my_dog.name.title() + \".\")\n",
    "print(\"My dog's age is \" + str(my_dog.age) + \" years old.\")\n",
    "my_dog.sit()\n",
    "\n",
    "print(\"\\nYour dog's name is \" + your_dog.name.title() + \".\")\n",
    "print(\"Your dog's age is \" + str(your_dog.age) + \" years old.\")\n",
    "your_dog.sit()"
   ]
  },
  {
   "cell_type": "markdown",
   "id": "3965b510",
   "metadata": {},
   "source": [
    "## 1.2 使用类和实例"
   ]
  },
  {
   "cell_type": "code",
   "execution_count": 13,
   "id": "61452d21",
   "metadata": {},
   "outputs": [
    {
     "name": "stdout",
     "output_type": "stream",
     "text": [
      "2016 Audi A4\n"
     ]
    }
   ],
   "source": [
    "# 例2 创建Car类\n",
    "class Car():\n",
    "    \"\"\"一次模拟汽车的尝试\"\"\"\n",
    "    \n",
    "    def __init__(self, make, model, year):\n",
    "        \"\"\"初始化描述汽车的属性\"\"\"\n",
    "        self.make = make\n",
    "        self.model = model\n",
    "        self.year = year\n",
    "        \n",
    "    def get_descriptive_name(self):\n",
    "        \"\"\"返回整洁的描述性信息\"\"\"\n",
    "        long_name = str(self.year) + ' ' + self.make + ' ' + self.model\n",
    "        return long_name.title()\n",
    "    \n",
    "my_new_car = Car('audi', 'a4', '2016')\n",
    "print(my_new_car.get_descriptive_name())"
   ]
  },
  {
   "cell_type": "code",
   "execution_count": 14,
   "id": "222b0820",
   "metadata": {},
   "outputs": [
    {
     "name": "stdout",
     "output_type": "stream",
     "text": [
      "2016 Audi A4\n",
      "This car has 0 miles on it.\n"
     ]
    }
   ],
   "source": [
    "# 为了让这个类更有趣，下面给他添加一个随时间变化的属性，它存储汽车的总里程\n",
    "# 如设置默认值时，在方法__init__()内指定这种初始值是可行的，如果你对某个属性这样做了，就无需包含为它提供初始值的形参\n",
    "class Car():\n",
    "    \"\"\"一次模拟汽车的尝试\"\"\"\n",
    "    \n",
    "    def __init__(self, make, model, year):\n",
    "        \"\"\"初始化描述汽车的属性\"\"\"\n",
    "        self.make = make\n",
    "        self.model = model\n",
    "        self.year = year\n",
    "        self.odometer_reading = 0\n",
    "        \n",
    "    def get_descriptive_name(self):\n",
    "        \"\"\"返回整洁的描述性信息\"\"\"\n",
    "        long_name = str(self.year) + ' ' + self.make + ' ' + self.model\n",
    "        return long_name.title()\n",
    "    \n",
    "    def read_odometer(self):\n",
    "        \"\"\"打印一条指出汽车里程的消息\"\"\"\n",
    "        print(\"This car has \" + str(self.odometer_reading) + \" miles on it.\")\n",
    "    \n",
    "my_new_car = Car('audi', 'a4', '2016')\n",
    "print(my_new_car.get_descriptive_name())\n",
    "my_new_car.read_odometer()"
   ]
  },
  {
   "cell_type": "markdown",
   "id": "c2e2c528",
   "metadata": {},
   "source": [
    "若要修改属性的值，以下提供三种方法：\n",
    "\n",
    "- 1. 直接通过实例进行修改，即直接修改属性值"
   ]
  },
  {
   "cell_type": "code",
   "execution_count": 15,
   "id": "4152b0b5",
   "metadata": {},
   "outputs": [
    {
     "name": "stdout",
     "output_type": "stream",
     "text": [
      "This car has 23 miles on it.\n"
     ]
    }
   ],
   "source": [
    "my_new_car.odometer_reading = 23\n",
    "my_new_car.read_odometer()"
   ]
  },
  {
   "cell_type": "markdown",
   "id": "47ea6cb2",
   "metadata": {},
   "source": [
    "- 2. 通过方法修改属性值"
   ]
  },
  {
   "cell_type": "code",
   "execution_count": 17,
   "id": "4a387f40",
   "metadata": {},
   "outputs": [
    {
     "name": "stdout",
     "output_type": "stream",
     "text": [
      "This car has 23 miles on it.\n"
     ]
    }
   ],
   "source": [
    "class Car():\n",
    "    \"\"\"一次模拟汽车的尝试\"\"\"\n",
    "    \n",
    "    def __init__(self, make, model, year):\n",
    "        \"\"\"初始化描述汽车的属性\"\"\"\n",
    "        self.make = make\n",
    "        self.model = model\n",
    "        self.year = year\n",
    "        self.odometer_reading = 0\n",
    "        \n",
    "    def get_descriptive_name(self):\n",
    "        \"\"\"返回整洁的描述性信息\"\"\"\n",
    "        long_name = str(self.year) + ' ' + self.make + ' ' + self.model\n",
    "        return long_name.title()\n",
    "    \n",
    "    def read_odometer(self):\n",
    "        \"\"\"打印一条指出汽车里程的消息\"\"\"\n",
    "        print(\"This car has \" + str(self.odometer_reading) + \" miles on it.\")\n",
    "        \n",
    "    def update_odometer(self, mileage):\n",
    "        \"\"\"将里程表读数设置为指定的值\"\"\"\n",
    "        self.odometer_reading = mileage\n",
    "        \n",
    "my_new_car = Car('audi', 'a4', '2016')\n",
    "my_new_car.update_odometer(23)\n",
    "my_new_car.read_odometer()"
   ]
  },
  {
   "cell_type": "markdown",
   "id": "0aebf0fd",
   "metadata": {},
   "source": [
    "- 3. 通过方法对属性的值进行递增"
   ]
  },
  {
   "cell_type": "code",
   "execution_count": 20,
   "id": "1369e06a",
   "metadata": {},
   "outputs": [
    {
     "name": "stdout",
     "output_type": "stream",
     "text": [
      "2016 Audi A4\n",
      "This car has 23500 miles on it.\n",
      "This car has 23600 miles on it.\n"
     ]
    }
   ],
   "source": [
    "class Car():\n",
    "    \"\"\"一次模拟汽车的尝试\"\"\"\n",
    "    \n",
    "    def __init__(self, make, model, year):\n",
    "        \"\"\"初始化描述汽车的属性\"\"\"\n",
    "        self.make = make\n",
    "        self.model = model\n",
    "        self.year = year\n",
    "        self.odometer_reading = 0\n",
    "        \n",
    "    def get_descriptive_name(self):\n",
    "        \"\"\"返回整洁的描述性信息\"\"\"\n",
    "        long_name = str(self.year) + ' ' + self.make + ' ' + self.model\n",
    "        return long_name.title()\n",
    "    \n",
    "    def read_odometer(self):\n",
    "        \"\"\"打印一条指出汽车里程的消息\"\"\"\n",
    "        print(\"This car has \" + str(self.odometer_reading) + \" miles on it.\")\n",
    "        \n",
    "    def update_odometer(self, mileage):\n",
    "        \"\"\"将里程表读数设置为指定的值\"\"\"\n",
    "        self.odometer_reading = mileage\n",
    "        \n",
    "    def increment_odometer(self, miles):\n",
    "        \"\"\"将里程表的读书增加指定的量\"\"\"\n",
    "        self.odometer_reading += miles\n",
    "        \n",
    "my_new_car = Car('audi', 'a4', '2016')\n",
    "print(my_new_car.get_descriptive_name())\n",
    "\n",
    "my_new_car.update_odometer(23500)\n",
    "my_new_car.read_odometer()\n",
    "\n",
    "my_new_car.increment_odometer(100)\n",
    "my_new_car.read_odometer()"
   ]
  },
  {
   "cell_type": "markdown",
   "id": "f1bc6b38",
   "metadata": {},
   "source": [
    "## 1.3 继承\n",
    "\n",
    "编写类时，并非总是要从空白开始，如果你要编写的类是另一个现成类的特殊版本，可使用**继承**。一个类继承另一个类时，它将自动获得另一个类的所有属性和方法；原有的类称为**父类**，而新的类称为**子类**。子类继承其父类的所有属性和方法，同时还可以定义自己的属性和方法。"
   ]
  },
  {
   "cell_type": "code",
   "execution_count": 22,
   "id": "a9464e1a",
   "metadata": {},
   "outputs": [
    {
     "name": "stdout",
     "output_type": "stream",
     "text": [
      "2016 Tesla Model S\n"
     ]
    }
   ],
   "source": [
    "# 一次建立Car()类的子类ElectricCar()的尝试\n",
    "class ElectricCar(Car):\n",
    "    \"\"\"电动汽车的独特之处\"\"\"\n",
    "    \n",
    "    def __init__(self, make, model, year):\n",
    "        \"\"\"初始化父类的属性\"\"\"\n",
    "        super().__init__(make, model, year)\n",
    "        self.battery_size = 70\n",
    "        \n",
    "    def desctibe_battery(self):\n",
    "        \"\"\"打印一条描述电瓶容量的消息\"\"\"\n",
    "        print(\"This car has a \" + str(self.battery_size) + \"-kwh battery.\")\n",
    "        \n",
    "my_tesla = ElectricCar('tesla', 'model s', '2016')\n",
    "print(my_tesla.get_descriptive_name())"
   ]
  },
  {
   "cell_type": "markdown",
   "id": "438edd42",
   "metadata": {},
   "source": [
    "注意点：\n",
    "\n",
    "1. 创建子类时，父类必须包含在当前文件中，且位于子类前面。\n",
    "\n",
    "2. 定义子类时，必须在括号内指定父类的名称。，\n",
    "\n",
    "3. super()是一个特殊函数，帮助PYthon将父类和子类关联起来，这行代码让Python调用父类的__init__()方法，让ElectricCar实例包含弗雷德而所有属性，父类也成为**超类(superclass)**\n",
    "\n",
    "4. 重写父类的方法，对于父类的方法，只要他不符合子类模拟的实物的行为，都可对其进行重写。为此，可在子类中定义一个这样的方法，即它与要写的父类方法同名，这样，Python不会考虑这个父类方法，而只关注你在子类中定义的相应方法。\n",
    "\n",
    "5. 将实例用作属性：在使用代码模拟实物时，你可能会发现自己给类添加的细节越来越多，属性和方法清单以及文件都越来越长。在这种情况下，可能需要将类的一部分作为一个独立的类提取出来，放到另一个类中，并将该类实例用作前一类的属性。"
   ]
  },
  {
   "cell_type": "markdown",
   "id": "23f48299",
   "metadata": {},
   "source": [
    "## 1.4 导入类"
   ]
  },
  {
   "cell_type": "markdown",
   "id": "d174274f",
   "metadata": {},
   "source": [
    "1. 导入单个类：car.py只包含一个类Car()，from car import Car\n",
    "\n",
    "2. 在一个模块中存储多个类：可根据需要在一个模块中存储任意数量的类，car.py中包含Car(),ElectricCar(),Battery()等多个类\n",
    "\n",
    "3. 从一个模块中导入多个类：可根据需要在程序文件中导入任意数量的类，from car import Car, ElectricCar\n",
    "\n",
    "4. 导入整个模块：可以先导入模块，再用句点表示法访问需要的类，import car, 调用时car.Car()\n",
    "\n",
    "5. 导入模块中的所有类：from module_name import * (不推荐使用，1.没有明确指明使用了哪些类，2.可能引发名称方面的错误，因为这种导入方法在调用时无需使用句点表示法)"
   ]
  }
 ],
 "metadata": {
  "kernelspec": {
   "display_name": "Python 3 (ipykernel)",
   "language": "python",
   "name": "python3"
  },
  "language_info": {
   "codemirror_mode": {
    "name": "ipython",
    "version": 3
   },
   "file_extension": ".py",
   "mimetype": "text/x-python",
   "name": "python",
   "nbconvert_exporter": "python",
   "pygments_lexer": "ipython3",
   "version": "3.11.4"
  }
 },
 "nbformat": 4,
 "nbformat_minor": 5
}
