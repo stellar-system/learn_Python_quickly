{
 "cells": [
  {
   "cell_type": "markdown",
   "id": "4fb699b8",
   "metadata": {},
   "source": [
    "# 1 函数定义"
   ]
  },
  {
   "cell_type": "code",
   "execution_count": 1,
   "id": "a9c3f51a",
   "metadata": {},
   "outputs": [
    {
     "name": "stdout",
     "output_type": "stream",
     "text": [
      "Hello!\n"
     ]
    }
   ],
   "source": [
    "# 一个简单的实例\n",
    "def greet_user():\n",
    "    \"\"\"显示简单的问候语\"\"\"\n",
    "    print(\"Hello!\")\n",
    "    \n",
    "greet_user()"
   ]
  },
  {
   "cell_type": "markdown",
   "id": "1818d97b",
   "metadata": {},
   "source": [
    "函数定义的基本结构：\n",
    "\n",
    "**函数定义:**  def function_name(): 使用关键字**def**开始，以冒号结尾，括号是不可省略的\n",
    "\n",
    "**文档字符串** 描述了函数是做什么的\n",
    "    \n",
    "**函数体** \n",
    "    \n",
    "    \n",
    "**函数调用** 通过调用函数名让Python执行函数体中的代码"
   ]
  },
  {
   "cell_type": "code",
   "execution_count": 4,
   "id": "95ea5bfd",
   "metadata": {},
   "outputs": [
    {
     "name": "stdout",
     "output_type": "stream",
     "text": [
      "Hello! Jessica.\n"
     ]
    }
   ],
   "source": [
    "# 向函数传递信息\n",
    "def greet_user(username):\n",
    "    \"\"\"显示简单的问候语\"\"\"\n",
    "    print(\"Hello! \" + username.title() + '.')\n",
    "    \n",
    "greet_user('jessica')"
   ]
  },
  {
   "cell_type": "markdown",
   "id": "8bc43d2e",
   "metadata": {},
   "source": [
    "# 2 实参和形参\n",
    "\n",
    "在函数greet_user()中，变量username是一个**形参**----函数完成其工作所需要的一项信息。在代码\n",
    "\n",
    "```\n",
    "greeet_user('jessica')\n",
    "```\n",
    "中，值'jessica'是一个**实参**，实参是调用函数时传递给函数的信息。"
   ]
  },
  {
   "cell_type": "markdown",
   "id": "146b7bbe",
   "metadata": {},
   "source": [
    "## 2.1 传递实参\n",
    "\n",
    "函数定义中可能包含多个形参，因此函数调用时也可能包含多个实参，向函数传递实参的方式很多：\n",
    "\n",
    "- 位置实参：要求实参的顺序与形参的顺序相同\n",
    "\n",
    "- 关键字实参：其中的每个实参都由变量名和值组成\n",
    "\n",
    "- 列表和字典"
   ]
  },
  {
   "cell_type": "code",
   "execution_count": 3,
   "id": "102dbbf4",
   "metadata": {},
   "outputs": [
    {
     "name": "stdout",
     "output_type": "stream",
     "text": [
      "\n",
      "I have a hamster.\n",
      "My hamster's name is Harry.\n",
      "\n",
      "I have a dog.\n",
      "My dog's name is Peter.\n"
     ]
    }
   ],
   "source": [
    "# 位置实参\n",
    "def describe_pet(animal_type, pet_name): # 注意形参的顺序\n",
    "    \"\"\"显示宠物的信息\"\"\"\n",
    "    print(\"\\nI have a \" + animal_type + \".\")\n",
    "    print(\"My \" + animal_type + \"'s name is \" + pet_name.title() + \".\")\n",
    "    \n",
    "describe_pet('hamster', 'harry') # 调用时按照形参的顺序\n",
    "describe_pet('dog', 'Peter')"
   ]
  },
  {
   "cell_type": "code",
   "execution_count": 5,
   "id": "f96e4d6b",
   "metadata": {},
   "outputs": [
    {
     "name": "stdout",
     "output_type": "stream",
     "text": [
      "\n",
      "I have a dog.\n",
      "My dog's name is Peter.\n",
      "\n",
      "I have a dog.\n",
      "My dog's name is Peter.\n"
     ]
    }
   ],
   "source": [
    "# 关键字实参\n",
    "describe_pet(animal_type='dog', pet_name='peter') # 实参的顺序不影响函数的调用结果\n",
    "describe_pet(pet_name='peter', animal_type='dog')"
   ]
  },
  {
   "cell_type": "code",
   "execution_count": 11,
   "id": "e2d98faf",
   "metadata": {},
   "outputs": [
    {
     "name": "stdout",
     "output_type": "stream",
     "text": [
      "\n",
      "I have a dog.\n",
      "My dog's name is Whille.\n"
     ]
    }
   ],
   "source": [
    "# 在函数定义时，可给每个形参指定默认值，在调用函数时提供了实参时，将使用指定的实参值，\n",
    "# 否则将使用默认值\n",
    "def describe_pet(pet_name, animal_type='dog'):\n",
    "    \"\"\"显示宠物信息\"\"\"\n",
    "    print(\"\\nI have a \" + animal_type + \".\")\n",
    "    print(\"My \" + animal_type + \"'s name is \" + pet_name.title() + \".\")\n",
    "    \n",
    "describe_pet('whille')"
   ]
  },
  {
   "cell_type": "markdown",
   "id": "f2991f5d",
   "metadata": {},
   "source": [
    "**使用默认值时，必须在形参列表中先列出没有默认值的形参，再列出有默认值的形参，保证Python能正确的读取位置实参**"
   ]
  },
  {
   "cell_type": "markdown",
   "id": "551d736f",
   "metadata": {},
   "source": [
    "## 2.2 函数调用\n",
    "\n",
    "1. 等效的函数调用：鉴于可混合使用位置实参、关键字实参和默认值，通常有多种等效的函数调用方式；\n",
    "\n",
    "2. 避免实参错误：警惕出现实参不匹配的错误！"
   ]
  },
  {
   "cell_type": "markdown",
   "id": "fae76dd3",
   "metadata": {},
   "source": [
    "# 3 返回值\n",
    "\n",
    "函数并非总是直接显示输出，相反，它可以处理一些数据，返回一个或一组值。函数返回的值被称为**返回值**，在函数中，可使用return语句将值返回到调用函数的代码行。返回值能够让你将程序的大部分繁重工作移到函数中去完成，从而简化主程序。"
   ]
  },
  {
   "cell_type": "code",
   "execution_count": 13,
   "id": "ba5ee1ad",
   "metadata": {},
   "outputs": [
    {
     "name": "stdout",
     "output_type": "stream",
     "text": [
      "Liu Haoran\n"
     ]
    }
   ],
   "source": [
    "# 返回简单值\n",
    "def get_formatted_name(first_name, last_name):\n",
    "    \"\"\"返回整洁的姓名\"\"\"\n",
    "    full_name = first_name + ' ' + last_name\n",
    "    return full_name.title()\n",
    "\n",
    "name = get_formatted_name('liu', 'haoran')\n",
    "print(name)"
   ]
  },
  {
   "cell_type": "code",
   "execution_count": 15,
   "id": "a31038d0",
   "metadata": {},
   "outputs": [
    {
     "name": "stdout",
     "output_type": "stream",
     "text": [
      "jimi hendrix\n",
      "john lee hooker\n"
     ]
    }
   ],
   "source": [
    "# 让实参变成可选的\n",
    "def get_formatted_name(first_name, last_name, middle_name=''):\n",
    "    \"\"\"返回整洁的姓名\"\"\"\n",
    "    if middle_name: # python将非空字符串解读为True\n",
    "        full_name = first_name + ' ' + middle_name + ' ' + last_name\n",
    "    else:\n",
    "        full_name = first_name + ' ' + last_name\n",
    "        \n",
    "    return full_name\n",
    "\n",
    "musician = get_formatted_name('jimi', 'hendrix')\n",
    "print(musician)\n",
    "\n",
    "musician = get_formatted_name('john', 'hooker', 'lee')\n",
    "print(musician)"
   ]
  },
  {
   "cell_type": "code",
   "execution_count": 19,
   "id": "4ca4d0a2",
   "metadata": {},
   "outputs": [
    {
     "name": "stdout",
     "output_type": "stream",
     "text": [
      "{'first_name': 'jimi', 'last_name': 'hendrix', 'age': 27}\n"
     ]
    }
   ],
   "source": [
    "# 返回字典\n",
    "def build_person(first_name, last_name, age=''):\n",
    "    \"\"\"返回一个字典，其中包含一个人的信息\"\"\"\n",
    "    person = {'first_name':first_name, 'last_name':last_name}\n",
    "    if age:\n",
    "        person['age'] = age\n",
    "    return person\n",
    "        \n",
    "musician = build_person('jimi', 'hendrix', 27)\n",
    "print(musician)"
   ]
  },
  {
   "cell_type": "code",
   "execution_count": 2,
   "id": "67bed4df",
   "metadata": {},
   "outputs": [
    {
     "name": "stdout",
     "output_type": "stream",
     "text": [
      "\n",
      "Please tell me your name:\n",
      "(enter 'q' at any time to quit)\n",
      "First name: liu\n",
      "Last name: haoran\n",
      "\n",
      "Hello, Liu Haoran!\n",
      "\n",
      "Please tell me your name:\n",
      "(enter 'q' at any time to quit)\n",
      "First name: q\n"
     ]
    }
   ],
   "source": [
    "# 结合使用函数和while循环\n",
    "def get_formatted_name(first_name, last_name):\n",
    "    \"\"\"返回整洁的姓名\"\"\"\n",
    "    full_name = first_name + ' ' + last_name\n",
    "    return full_name\n",
    "\n",
    "while True:\n",
    "    print(\"\\nPlease tell me your name:\")\n",
    "    print(\"(enter 'q' at any time to quit)\")\n",
    "    \n",
    "    f_name = input('First name: ')\n",
    "    if f_name == 'q':\n",
    "        break\n",
    "        \n",
    "    l_name = input('Last name: ')\n",
    "    if l_name == 'q':\n",
    "        break\n",
    "        \n",
    "    formatted_name = get_formatted_name(f_name,l_name)\n",
    "    print('\\nHello, ' + formatted_name.title() + \"!\")"
   ]
  },
  {
   "cell_type": "markdown",
   "id": "1e2569db",
   "metadata": {},
   "source": [
    "# 4 传递任意数量的实参\n",
    "\n",
    "Python允许函数从调用语句中收集任意数量的实参"
   ]
  },
  {
   "cell_type": "code",
   "execution_count": 3,
   "id": "d79e85db",
   "metadata": {},
   "outputs": [
    {
     "name": "stdout",
     "output_type": "stream",
     "text": [
      "('mushrooms', 'greeen peppers', 'extra cheese')\n"
     ]
    }
   ],
   "source": [
    "def make_pizza(*tippings):\n",
    "    print(tippings)\n",
    "    \n",
    "make_pizza('mushrooms', 'greeen peppers', 'extra cheese')"
   ]
  },
  {
   "cell_type": "markdown",
   "id": "e939dc1d",
   "metadata": {},
   "source": [
    "形参名*tippings中的星号让python创建一个名为tippings的空元组，并将所有收到的值都存入这个空元组中。在结合使用位置实参和任意数量实参时，必须在函数定义中将接纳任意数量的实参的形参放在位置形参之后，python先匹配位置实参和关键字实参，再将余下的实参都收集到最后一个形参中。"
   ]
  },
  {
   "cell_type": "markdown",
   "id": "e479a249",
   "metadata": {},
   "source": [
    "使用任意数量的关键字实参时，可将函数编写成能接收任意数量的键-值对---调用语句提供了多少就接受多少。"
   ]
  },
  {
   "cell_type": "code",
   "execution_count": 5,
   "id": "cd870f61",
   "metadata": {},
   "outputs": [
    {
     "name": "stdout",
     "output_type": "stream",
     "text": [
      "{'first_name': 'albert', 'last_name': 'einstein', 'location': 'princeton', 'field': 'physics'}\n"
     ]
    }
   ],
   "source": [
    "def build_profile(first, last, **user_info):\n",
    "    \"\"\"创建一个字典，其中包含我们知道的有关用户的一切\"\"\"\n",
    "    profile = {}\n",
    "    profile['first_name'] = first\n",
    "    profile['last_name'] = last\n",
    "    for key,value in user_info.items():\n",
    "        profile[key] = value\n",
    "    return profile\n",
    "\n",
    "user_profile = build_profile('albert', 'einstein',location='princeton', field='physics')\n",
    "print(user_profile)"
   ]
  },
  {
   "cell_type": "markdown",
   "id": "78363878",
   "metadata": {},
   "source": [
    "形参**user_info中的两个星号让Python创建一个名为user_info的空字典，并将收到的所有名称-值对都封装到这个字典中。"
   ]
  },
  {
   "cell_type": "markdown",
   "id": "d6d38573",
   "metadata": {},
   "source": [
    "# 5 将函数存储在模块中\n",
    "\n",
    "函数的优点之一：可以使用他们将代码块与主程序分离；通过给函数指定描述性名称，可让主程序容易理解得多。更进一步，将函数存储在被称为**模块**（模块是拓展名为.py的文件）的独立文件中，再将模块导入到主程序中。import语句允许在当前运行的程序文件中使用模块中的代码。"
   ]
  },
  {
   "cell_type": "markdown",
   "id": "dbca6d6a",
   "metadata": {},
   "source": [
    "导入方法1： 只需编写一条import语句并在其中指定模块名，就可在程序中使用该模块中的所有函数，使用时需要将模块名和函数名用.连接"
   ]
  },
  {
   "cell_type": "markdown",
   "id": "32caa777",
   "metadata": {},
   "source": [
    "导入方法2： 导入特定的函数语法： from module_name import function_1, function_2, function_3，若使用这种方法，调用函数时就无需使用句点"
   ]
  },
  {
   "cell_type": "markdown",
   "id": "81bf13c8",
   "metadata": {},
   "source": [
    "导入时as的用法：\n",
    "\n",
    "- 使用as给函数指定别名： from pizza import make_pizza as mp\n",
    "- 使用as给模块指定别名： import pizza as p\n",
    "- 导入模块中的所有函数： from pizza import *， 然而在使用并非自己编写的大型模块时，最好不用这种方法，如果模块中有函数的名称与你的项目中使用的名称相同，可能导致意想不到的结果，python可能遇到多个名称相同的函数或变量，进而覆盖函数，而不是分别导入所有函数"
   ]
  }
 ],
 "metadata": {
  "kernelspec": {
   "display_name": "Python 3 (ipykernel)",
   "language": "python",
   "name": "python3"
  },
  "language_info": {
   "codemirror_mode": {
    "name": "ipython",
    "version": 3
   },
   "file_extension": ".py",
   "mimetype": "text/x-python",
   "name": "python",
   "nbconvert_exporter": "python",
   "pygments_lexer": "ipython3",
   "version": "3.11.4"
  }
 },
 "nbformat": 4,
 "nbformat_minor": 5
}
