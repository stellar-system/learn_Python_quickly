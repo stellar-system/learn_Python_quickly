{
 "cells": [
  {
   "cell_type": "markdown",
   "id": "c53ffc98",
   "metadata": {},
   "source": [
    "# 1 变量"
   ]
  },
  {
   "cell_type": "markdown",
   "id": "cb8a535f",
   "metadata": {},
   "source": [
    "变量是计算机存储在内存中的值，变量名是该值的抽象表述，在创建变量时，会在内存中开辟一个空间，基于变量的数据类型，解释器会分配指定内存，并决定存储什么样的数据在内存中。变量可以指定不同的数据类型，包括整数、浮点数及字符。"
   ]
  },
  {
   "cell_type": "markdown",
   "id": "81fb7d47",
   "metadata": {},
   "source": [
    "## 1.1 变量的命名和使用规范：\n",
    "- 1.变量名只能包含字母、数字和下划线。变量名可以字母或下划线打头，但不能以数字打头；\n",
    "- 2.变量名不能包含空格，但可使用下划线来分隔其中的单词；\n",
    "- 3.不可将Python关键字和函数名作变量名，即不要使用Python的保留字；\n",
    "- 4.变量名应既简短又具有描述性；\n",
    "- 5.慎用小写字母l和大写字母O，可能被误读为数字1和0；"
   ]
  },
  {
   "cell_type": "markdown",
   "id": "833c39e0",
   "metadata": {},
   "source": [
    "## 1.2 变量赋值"
   ]
  },
  {
   "cell_type": "markdown",
   "id": "365f1af8",
   "metadata": {},
   "source": [
    "python属于强类型语言，即需要显式的转换变量类型(如a = 1, b = str(a))，否则该变量将保持其原本的类型。但python变量在创建时并不需要指定类型，其类型取决于赋给它的值是何种类型。"
   ]
  },
  {
   "cell_type": "markdown",
   "id": "d6cd4678",
   "metadata": {},
   "source": [
    "python中，等号“=”是赋值语句，可以把任意类型的数据赋值给变量，同一个变量可以反复赋值，而且可以是不同类型的变量。"
   ]
  },
  {
   "cell_type": "code",
   "execution_count": 3,
   "id": "aae84583",
   "metadata": {},
   "outputs": [],
   "source": [
    "# 单变量赋值\n",
    "\n",
    "a = 123 # a 为整型数据\n",
    "b = 'abc' # b 为字符串数据"
   ]
  },
  {
   "cell_type": "code",
   "execution_count": 4,
   "id": "992a4e00",
   "metadata": {},
   "outputs": [],
   "source": [
    "# 多变量赋值\n",
    "\n",
    "a = b = c = 1"
   ]
  },
  {
   "cell_type": "code",
   "execution_count": 5,
   "id": "a861b6b4",
   "metadata": {},
   "outputs": [],
   "source": [
    "# 为多个变量指定多个值\n",
    "\n",
    "a, b, c = 1, 2, 3"
   ]
  },
  {
   "cell_type": "code",
   "execution_count": 6,
   "id": "9ac63fe2",
   "metadata": {},
   "outputs": [],
   "source": [
    "# 常量，常常将认为固定不变的量（如数学中的Π）用大写的变量名表示\n",
    "\n",
    "PI = 3.14"
   ]
  },
  {
   "cell_type": "markdown",
   "id": "be4a83ef",
   "metadata": {},
   "source": [
    "## 1.3 变量使用错误"
   ]
  },
  {
   "cell_type": "markdown",
   "id": "c5a16914",
   "metadata": {},
   "source": [
    "使用变量时需要注意的常见错误：\n",
    "\n",
    "- 使用变量前忘记给它赋值（NameError: name 'xxx' is not defined）\n",
    "\n",
    "- 输入变量名时拼写不正确（善用自动补全）"
   ]
  },
  {
   "cell_type": "markdown",
   "id": "4dbd537d",
   "metadata": {},
   "source": [
    "--------------------------------------------------"
   ]
  },
  {
   "cell_type": "markdown",
   "id": "a39b82bb",
   "metadata": {},
   "source": [
    "# 2 数据类型简述"
   ]
  },
  {
   "cell_type": "markdown",
   "id": "157d9351",
   "metadata": {},
   "source": [
    "python包含6种标准的数字类型:\n",
    "\n",
    "    不可变数据：Number（数字）、String（字符串）、Tuple（元组）\n",
    "    \n",
    "    可变数据：List（列表）、Sets（集合）、Dictionary（字典）"
   ]
  }
 ],
 "metadata": {
  "kernelspec": {
   "display_name": "Python 3 (ipykernel)",
   "language": "python",
   "name": "python3"
  },
  "language_info": {
   "codemirror_mode": {
    "name": "ipython",
    "version": 3
   },
   "file_extension": ".py",
   "mimetype": "text/x-python",
   "name": "python",
   "nbconvert_exporter": "python",
   "pygments_lexer": "ipython3",
   "version": "3.11.4"
  }
 },
 "nbformat": 4,
 "nbformat_minor": 5
}
