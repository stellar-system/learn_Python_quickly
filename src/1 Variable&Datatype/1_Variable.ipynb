{
 "cells": [
  {
   "attachments": {},
   "cell_type": "markdown",
   "id": "c53ffc98",
   "metadata": {},
   "source": [
    "# 1 变量"
   ]
  },
  {
   "attachments": {},
   "cell_type": "markdown",
   "id": "aeac5a64",
   "metadata": {},
   "source": [
    "--------------------------------------------------"
   ]
  },
  {
   "attachments": {},
   "cell_type": "markdown",
   "id": "cb8a535f",
   "metadata": {},
   "source": [
    "变量是计算机存储在内存中的值，变量名是该值的抽象表述，在创建变量时，会在内存中开辟一个空间，基于变量的数据类型，解释器会分配指定内存，并决定存储什么样的数据在内存中。变量可以指定不同的数据类型，包括整数、浮点数及字符。"
   ]
  },
  {
   "attachments": {},
   "cell_type": "markdown",
   "id": "81fb7d47",
   "metadata": {},
   "source": [
    "## 1.1 变量的命名和使用规范：\n",
    "- 1.变量名只能包含字母、数字和下划线。变量名可以字母或下划线打头，但不能以数字打头；\n",
    "- 2.变量名不能包含空格，但可使用下划线来分隔其中的单词；\n",
    "- 3.不可将Python关键字和函数名作变量名，即不要使用Python的保留字；\n",
    "- 4.变量名应既简短又具有描述性；\n",
    "- 5.慎用小写字母l和大写字母O，可能被误读为数字1和0；"
   ]
  },
  {
   "attachments": {},
   "cell_type": "markdown",
   "id": "833c39e0",
   "metadata": {},
   "source": [
    "## 1.2 变量赋值"
   ]
  },
  {
   "attachments": {},
   "cell_type": "markdown",
   "id": "365f1af8",
   "metadata": {},
   "source": [
    "python属于强类型语言，即需要显式的转换变量类型(如a = 1, b = str(a))，否则该变量将保持其原本的类型。但python变量在创建时并不需要指定类型，其类型取决于赋给它的值是何种类型。这种变量本身类型不固定的语言称之为动态语言，与之对应的就是静态语言。静态语言在定义变量时必须指定变量类型，如果赋值的时候类型不匹配，就会报错。"
   ]
  },
  {
   "attachments": {},
   "cell_type": "markdown",
   "id": "d6cd4678",
   "metadata": {},
   "source": [
    "python中，等号“=”是赋值语句，可以把任意类型的数据赋值给变量，同一个变量可以反复赋值，而且可以是不同类型的变量。"
   ]
  },
  {
   "cell_type": "code",
   "execution_count": 3,
   "id": "aae84583",
   "metadata": {},
   "outputs": [],
   "source": [
    "# 单变量赋值\n",
    "\n",
    "a = 123 # a 为整型数据\n",
    "b = 'abc' # b 为字符串数据"
   ]
  },
  {
   "cell_type": "code",
   "execution_count": 4,
   "id": "992a4e00",
   "metadata": {},
   "outputs": [],
   "source": [
    "# 多变量赋值\n",
    "\n",
    "a = b = c = 1"
   ]
  },
  {
   "cell_type": "code",
   "execution_count": 5,
   "id": "a861b6b4",
   "metadata": {},
   "outputs": [],
   "source": [
    "# 为多个变量指定多个值\n",
    "\n",
    "a, b, c = 1, 2, 3"
   ]
  },
  {
   "cell_type": "code",
   "execution_count": 6,
   "id": "9ac63fe2",
   "metadata": {},
   "outputs": [],
   "source": [
    "# 常量，常常将认为固定不变的量（如数学中的Π）用大写的变量名表示\n",
    "\n",
    "PI = 3.14"
   ]
  },
  {
   "attachments": {},
   "cell_type": "markdown",
   "id": "fbf53734",
   "metadata": {},
   "source": [
    "## 1.3 变量关系判断"
   ]
  },
  {
   "attachments": {},
   "cell_type": "markdown",
   "id": "e620990b",
   "metadata": {},
   "source": [
    "如何判断两个变量是否指向同一对象？\n",
    "\n",
    "在Python中，每个对象都有一个唯一的标识符，可以通过内置函数id()来获取。当两个变量使用is运算符进行比较时，实际上是在比较它们的标识符是否相同。\n",
    "\n",
    "如果a is b返回True，表示a和b指向同一个对象；如果返回False，表示a和b指向不同的对象。\n",
    "\n",
    "需要注意的是，is运算符比较的是对象的标识符，而不是对象的值。即使两个对象的值相同，但它们可能是不同的对象，所以a is b可能为False。"
   ]
  },
  {
   "cell_type": "code",
   "execution_count": 5,
   "id": "9ff14f6b",
   "metadata": {},
   "outputs": [
    {
     "name": "stdout",
     "output_type": "stream",
     "text": [
      "2623612757168\n",
      "2623612756944\n",
      "True\n",
      "False\n"
     ]
    }
   ],
   "source": [
    "a = 0.1\n",
    "b = 0.1\n",
    "print(id(a))\n",
    "print(id(b))\n",
    "print(a == b)\n",
    "print(a is b)"
   ]
  },
  {
   "cell_type": "code",
   "execution_count": 3,
   "id": "232fdebc",
   "metadata": {},
   "outputs": [
    {
     "name": "stdout",
     "output_type": "stream",
     "text": [
      "True\n",
      "True\n"
     ]
    }
   ],
   "source": [
    "a = 0.1\n",
    "b = a\n",
    "print(a == b)\n",
    "print(a is b)"
   ]
  },
  {
   "attachments": {},
   "cell_type": "markdown",
   "id": "be4a83ef",
   "metadata": {},
   "source": [
    "## 1.4 变量使用错误"
   ]
  },
  {
   "attachments": {},
   "cell_type": "markdown",
   "id": "c5a16914",
   "metadata": {},
   "source": [
    "使用变量时需要注意的常见错误：\n",
    "\n",
    "- 使用变量前忘记给它赋值（NameError: name 'xxx' is not defined）\n",
    "\n",
    "- 输入变量名时拼写不正确（善用自动补全）"
   ]
  },
  {
   "attachments": {},
   "cell_type": "markdown",
   "id": "a39b82bb",
   "metadata": {},
   "source": [
    "# 2 数据类型简述"
   ]
  },
  {
   "attachments": {},
   "cell_type": "markdown",
   "id": "5776aa78",
   "metadata": {},
   "source": [
    "--------------------------------------------------"
   ]
  },
  {
   "attachments": {},
   "cell_type": "markdown",
   "id": "157d9351",
   "metadata": {},
   "source": [
    "python包含6种标准的数字类型:\n",
    "\n",
    "\n",
    "    不可变数据：Number（数字）、String（字符串）、Tuple（元组）\n",
    "    \n",
    "    可变数据：List（列表）、Sets（集合）、Dictionary（字典）\n",
    "\n",
    "    以及布尔值：Bool"
   ]
  },
  {
   "attachments": {},
   "cell_type": "markdown",
   "id": "da706d04",
   "metadata": {},
   "source": [
    "## 2.1 变量类型判断方式：\n",
    "\n",
    "- type()函数\n",
    "\n",
    "```python\n",
    ">>> a, b, c, d = 11, 3.3, True, 1+2j\n",
    ">>> print(type(a), type(b), type(c), type(d))\n",
    "<class 'int'> <class 'float'> <class 'bool'> <class 'complex'>\n",
    "```\n",
    "\n",
    "- isinstance函数\n",
    "```python\n",
    ">>> a = 111\n",
    ">>> isinstance(a, int)\n",
    "True\n",
    "```\n",
    "\n",
    "isinstance 和 type 的区别在于：\n",
    "\n",
    "    type()不会认为子类是一种父类类型。\n",
    "    isinstance()会认为子类是一种父类类型。"
   ]
  },
  {
   "attachments": {},
   "cell_type": "markdown",
   "id": "38cc2e13",
   "metadata": {},
   "source": [
    "[下一篇(2_Number)](./2_Number.ipynb)"
   ]
  },
  {
   "cell_type": "markdown",
   "id": "f39cdfe6",
   "metadata": {},
   "source": []
  }
 ],
 "metadata": {
  "kernelspec": {
   "display_name": "Python 3 (ipykernel)",
   "language": "python",
   "name": "python3"
  },
  "language_info": {
   "codemirror_mode": {
    "name": "ipython",
    "version": 3
   },
   "file_extension": ".py",
   "mimetype": "text/x-python",
   "name": "python",
   "nbconvert_exporter": "python",
   "pygments_lexer": "ipython3",
   "version": "3.11.4"
  }
 },
 "nbformat": 4,
 "nbformat_minor": 5
}
