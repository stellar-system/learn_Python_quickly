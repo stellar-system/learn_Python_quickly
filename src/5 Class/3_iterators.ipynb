{
 "cells": [
  {
   "cell_type": "markdown",
   "metadata": {},
   "source": [
    "# 迭代器\n",
    "\n",
    "------------------------------\n",
    "\n",
    "到目前位置，你可能已经注意到大多数```容器对象```（在python中，容器对象是可以包含其他对象的对象，这些对象包括：list、tuple、set、dict等）都可以使用```for```语句，也就是说你可以用```for```循环来遍历容器中的每一个元素。\n",
    "\n",
    "这种访问风格清晰简洁且方便。迭代器的使用非常普遍并使得Python成为一个统一的整体，在幕后，```for```语句会在容器对象上调用```iter()```。该函数返回一个定义了```__next__()```方法的迭代器对象，此方法将逐一访问容器中的元素，当元素用尽时，```__next__（）```将引发```StopIteration```异常来终止```for循环```。你可以使用```next()```函数来调用```__next__()```方法："
   ]
  },
  {
   "cell_type": "code",
   "execution_count": 7,
   "metadata": {},
   "outputs": [
    {
     "name": "stdout",
     "output_type": "stream",
     "text": [
      "a\n",
      "b\n",
      "c\n"
     ]
    }
   ],
   "source": [
    "s = 'abc'\n",
    "it = iter(s)\n",
    "it\n",
    "\n",
    "print(next(it)) # 这两种方式都可以\n",
    "print(it.__next__())\n",
    "print(next(it))"
   ]
  },
  {
   "cell_type": "markdown",
   "metadata": {},
   "source": [
    "了解迭代器协议背后的机制后，就可以为你的自定义的类添加迭代器行为了。定义```__iter__()```方法用于返回一个带有```__next__()```方法的对象，如果类已经定义了```__next__()```，那么```__iter__()```可以简单地返回```self```:"
   ]
  },
  {
   "cell_type": "code",
   "execution_count": 9,
   "metadata": {},
   "outputs": [
    {
     "name": "stdout",
     "output_type": "stream",
     "text": [
      "m\n",
      "a\n",
      "p\n",
      "s\n"
     ]
    }
   ],
   "source": [
    "class Reverse():\n",
    "    \"\"\"Iterator for looping over a sequence backwards\n",
    "    \n",
    "    一个用于反向循环序列的迭代器\"\"\"\n",
    "    def __init__(self, data):\n",
    "        self.data = data\n",
    "        self.index = len(data)\n",
    "\n",
    "    def __iter__(self):\n",
    "        return self\n",
    "    \n",
    "    def __next__(self):\n",
    "        if self.index == 0:\n",
    "            raise StopIteration\n",
    "        self.index = self.index - 1\n",
    "        return self.data[self.index]\n",
    "    \n",
    "rev = Reverse('spam')\n",
    "iter(rev)\n",
    "for char in rev:\n",
    "    print(char)"
   ]
  },
  {
   "cell_type": "markdown",
   "metadata": {},
   "source": [
    "因此，如何初步实现一个迭代器的方法就明晰了。首先，我们在类定义中添加```__iter__(self)```方法，使这个方法返回类本身，即```return self```这是因为```for```循环语句会调用类中的该方法。然后我们定义一个```__next__(self)```方法，在该方法下定义对象实例在```for```语句下会进行什么样的动作。"
   ]
  }
 ],
 "metadata": {
  "kernelspec": {
   "display_name": "Python 3 (ipykernel)",
   "language": "python",
   "name": "python3"
  },
  "language_info": {
   "codemirror_mode": {
    "name": "ipython",
    "version": 3
   },
   "file_extension": ".py",
   "mimetype": "text/x-python",
   "name": "python",
   "nbconvert_exporter": "python",
   "pygments_lexer": "ipython3",
   "version": "3.11.4"
  }
 },
 "nbformat": 4,
 "nbformat_minor": 2
}
