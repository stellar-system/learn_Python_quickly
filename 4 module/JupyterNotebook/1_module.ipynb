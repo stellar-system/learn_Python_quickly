{
 "cells": [
  {
   "cell_type": "markdown",
   "metadata": {},
   "source": [
    "# 1 模块\n",
    "\n",
    "------------------------------------"
   ]
  },
  {
   "cell_type": "markdown",
   "metadata": {},
   "source": [
    "## 1.1 什么是模块\n",
    "\n",
    "当我们使用python解释器（即命令行窗口）进行变成时，推出解释器后，再次进入，之前在Python解释器中定义的函数和变量就丢失了。因此，编写较长的程序时，最好用文本编辑器代替解释器，执行文件中的输入内容，这就是编写脚本。随着程序越来越长，为了方便维护，常把脚本拆分成多个文件。此外，编写脚本还有个好处，不同程序调用同一个函数时，不用把函数定义复制到各个程序。\n",
    "\n",
    "为了实现这些需求，Python把各种定义存入一个文件，在脚本或解释器的交互式实例中使用，这个文件就是```模块（module）```。模块中的定义可以```导入```到其他模块或主模块，（在顶层和计算器模式下，执行脚本中可访问的变量集）。\n",
    "\n",
    "模块是包含Python定义和语句的文件。其中间名是模块名加后缀名```.py```。在模块内部，通过全局变量```__name__```可以获取模块名。例如，用文本编辑器在当前路径下创建```fibo.py```文件并导入该模块："
   ]
  },
  {
   "cell_type": "code",
   "execution_count": 1,
   "metadata": {},
   "outputs": [],
   "source": [
    "import fibo"
   ]
  },
  {
   "cell_type": "markdown",
   "metadata": {},
   "source": [
    "此操作不会直接把fibo.py中定义的函数名称添加到当前的```namespace```中，而是添加模块名称```fibo```\n",
    "使用该模块名称可以访问其中的函数："
   ]
  },
  {
   "cell_type": "code",
   "execution_count": 2,
   "metadata": {},
   "outputs": [
    {
     "name": "stdout",
     "output_type": "stream",
     "text": [
      "0 1 1 2 3 5 8 13 21 34 55 89 144 233 377 610 987 \n"
     ]
    }
   ],
   "source": [
    "fibo.fib(1000)"
   ]
  },
  {
   "cell_type": "code",
   "execution_count": 3,
   "metadata": {},
   "outputs": [
    {
     "data": {
      "text/plain": [
       "[0, 1, 1, 2, 3, 5, 8, 13, 21, 34, 55, 89]"
      ]
     },
     "execution_count": 3,
     "metadata": {},
     "output_type": "execute_result"
    }
   ],
   "source": [
    "fibo.fib2(100)"
   ]
  },
  {
   "cell_type": "code",
   "execution_count": 4,
   "metadata": {},
   "outputs": [
    {
     "data": {
      "text/plain": [
       "'fibo'"
      ]
     },
     "execution_count": 4,
     "metadata": {},
     "output_type": "execute_result"
    }
   ],
   "source": [
    "fibo.__name__"
   ]
  },
  {
   "cell_type": "markdown",
   "metadata": {},
   "source": [
    "## 1.2 模块详解"
   ]
  },
  {
   "cell_type": "markdown",
   "metadata": {},
   "source": [
    "模块包含可```执行语句```及```函数定义```。这些语句用于初始化模块，且仅在```import语句```第一次遇到模块名时执行。(文件作为脚本运行时，也会执行这些语句。)\n",
    "\n",
    "每个模块都有自己的私有命名空间，它会被用作模块中定义的所有函数的全局命名空间。 因此，模块作者可以在模块内使用全局变量而不必担心与用户的全局变量发生意外冲突。 另一方面，如果你知道要怎么做就可以通过与引用模块函数一样的标记法 modname.itemname 来访问一个模块的全局变量。\n",
    "\n",
    "模块可以导入其他模块。根据惯例可以将所有```import```语句都放在模块（或者也可以说是脚本）的开头，但这并非强制要求。如果被放置于一个模块的最高层级，则被导入的模块名称会被添加到该模块的全局命名空间。\n",
    "\n",
    "```\n",
    "import语句的四种用法：\n",
    "\n",
    "- import module_name\n",
    "- from module_name import fun_name\n",
    "- from module_name import * (不推荐)\n",
    "- import module_name as mn\n",
    "  from module_name import fun_name as fn\n",
    "```\n",
    "\n",
    "还有一种import语句的变化形式可以将来自某个模块的名称直接导入到导入方模块的命名空间中。 例如:"
   ]
  },
  {
   "cell_type": "code",
   "execution_count": 6,
   "metadata": {},
   "outputs": [],
   "source": [
    "from fibo import fib, fib2"
   ]
  },
  {
   "cell_type": "markdown",
   "metadata": {},
   "source": [
    "这条语句不会将所导入的模块的名称引入到```局部命名空间```中（因此在本示例中，fibo 将是未定义的名称）。\n",
    "\n",
    "还有一种变体可以导入模块内定义的所有名称："
   ]
  },
  {
   "cell_type": "code",
   "execution_count": 7,
   "metadata": {},
   "outputs": [],
   "source": [
    "from fibo import *"
   ]
  },
  {
   "cell_type": "markdown",
   "metadata": {},
   "source": [
    "这种方式会导入所有不以下划线```_```开头的名称。大多数情况下，不要用这个功能，这种方式向解释器导入了一批未知的名称，可能会覆盖已经定义的名称。\n",
    "\n",
    "注意，一般情况下，不建议从模块或包内导入```*```，因为，这项操作经常让代码变得难以理解。不过，为了在交互式编译器中少打几个字，这么用也没问题。"
   ]
  },
  {
   "cell_type": "markdown",
   "metadata": {},
   "source": [
    "模块名后使用 as 时，直接把 as 后的名称与导入模块绑定:"
   ]
  },
  {
   "cell_type": "code",
   "execution_count": 9,
   "metadata": {},
   "outputs": [
    {
     "name": "stdout",
     "output_type": "stream",
     "text": [
      "0 1 1 2 3 5 8 13 21 34 55 89 144 233 377 610 987 \n",
      "0 1 1 2 3 5 8 13 21 34 55 89 144 233 377 610 987 \n"
     ]
    }
   ],
   "source": [
    "import fibo as fib\n",
    "fib.fib(1000)\n",
    "\n",
    "from fibo import fib as fibonacci\n",
    "fibonacci(1000)"
   ]
  },
  {
   "cell_type": "markdown",
   "metadata": {},
   "source": [
    "## 1.3 以脚本方式执行模块"
   ]
  },
  {
   "cell_type": "markdown",
   "metadata": {},
   "source": [
    "可以用以下方式运行python模块：\n",
    "\n",
    "```\n",
    "python fibo.py <arguments>\n",
    "```\n",
    "\n",
    "这项操作将执行模块里的代码，和导入模块一样，但会把```__name__```赋值为```\"__main__\"```。也就是把下列代码添加到模块末尾：\n",
    "\n",
    "```python\n",
    "if __name__ == \"__main__\":\n",
    "    import sys\n",
    "    fib(int(sys.argv[1]))\n",
    "```\n",
    "\n",
    "这个文件既能被用作脚本，又能被用作一个可供导入的模块，因为解析命令行参数的那两行代码只有在模块作为\"main\"文件时才会被执行，当这个模块被导入到其他模块时，那两行代码不执行。\n",
    "\n",
    "这常用于为模块提供一个便捷的用户接口，或用于测试（把模块作为执行测试套件的脚本运行）。"
   ]
  },
  {
   "cell_type": "markdown",
   "metadata": {},
   "source": [
    "## 1.4 模块搜索路径\n",
    "\n",
    "当导入一个名为```spam```的模块时，解释器首先会搜索具有该名称的```内置模块```。 这些模块的名称在```sys.builtin_module_names```中列出。 如果未找到，它将在变量```sys.path```所给出的目录列表中搜索名为```spam.py```的文件。sys.path是从这些位置初始化的:\n",
    "\n",
    "- 被命令行直接运行的脚本所在的目录（或未指定文件时的当前目录）。\n",
    "\n",
    "- PYTHONPATH （目录列表，与 shell 变量 PATH 的语法一样）。\n",
    "\n",
    "- 依赖于安装的默认值（按照惯例包括一个```site-packages```目录，由 site 模块处理）。"
   ]
  },
  {
   "cell_type": "markdown",
   "metadata": {},
   "source": [
    "## 1.5 “已编译的”Python文件\n",
    "\n",
    "为了快速加载模块，Python把模块的编译版本缓存在```__pycache__```目录中，文件名为```module.version.pyc```,```version```对编译文件格式进行编码，一般是Python的版本号。例如，CPython 的3.3发行版中，spam.py的编译版本缓存为```__pycache__/spam.cpython-33.pyc```。这种命名惯例让不同Python版本编译的模块可以共存。\n",
    "\n",
    "Python对比编译版与源码的修改日期，查看编译版是否已过期，是否要重新编译。此进程完全是自动的。此外，编译模块与平台无关，因此，可在不同架构的系统之间共享相同的库。\n",
    "\n",
    "Python在两种情况下不检查缓存。\n",
    "\n",
    "一，从命令行直接载入的模块，每次都会重新编译，且不储存编译结果；\n",
    "\n",
    "二，没有源模块，就不会检查缓存。为了让一个库能以隐藏源代码的形式分发（通过将所有源代码变为编译后的版本），编译后的模块必须放在源目录而非缓存目录中，并且源目录绝不能包含同名的未编译的源模块。\n",
    "\n",
    "给专业人士的一些小建议：\n",
    "\n",
    "- 在Python命令中使用```-O```或```-OO```开关，可以减小编译模块的大小。```-O```去除断言语句，```-OO```去除断言语句和```__doc__```字符串。有些程序可能依赖于这些内容，因此，没有十足的把握，不要使用这两个选项。“优化过的”模块带有```opt-```标签，并且文件通常会一小些。将来的发行版或许会改进优化的效果。\n",
    "\n",
    "- 从```.pyc```文件读取的程序不比从```.py```读取的执行速度快，```.pyc```文件只是加载速度更快。\n",
    "\n",
    "- ```compileall```模块可以为一个目录下的所有模块创建```.pyc```文件。\n",
    "\n",
    "- 本过程的细节及决策流程图，详见```PEP 3147```。"
   ]
  },
  {
   "cell_type": "markdown",
   "metadata": {},
   "source": [
    "## 1.6 标准模块\n",
    "\n",
    "Python自带一个标准模块的库，它在Python库参考（此处以下称为\"库参考\" ）里另外描述。 一些模块是内嵌到编译器里面的， 它们给一些虽并非语言核心但却内嵌的操作提供接口，要么是为了效率，要么是给操作系统基础操作例如系统调入提供接口。 这些模块集是一个配置选项， 并且还依赖于底层的操作系统。 例如，```winreg```模块只在Windows系统上提供。一个特别值得注意的模块```sys```，它被内嵌到每一个Pytho 编译器中。```sys.ps1```和```sys.ps2```变量定义了一些字符，它们可以用作主提示符和辅助提示符(**只有解释器用于交互模式时，才定义这两个变量。**):"
   ]
  },
  {
   "cell_type": "code",
   "execution_count": 18,
   "metadata": {},
   "outputs": [
    {
     "data": {
      "text/plain": [
       "['d:\\\\Studying\\\\python-learning\\\\learn_Python_quickly\\\\4 module\\\\JupyterNotebook',\n",
       " 'd:\\\\anaconda\\\\anaconda\\\\python311.zip',\n",
       " 'd:\\\\anaconda\\\\anaconda\\\\DLLs',\n",
       " 'd:\\\\anaconda\\\\anaconda\\\\Lib',\n",
       " 'd:\\\\anaconda\\\\anaconda',\n",
       " '',\n",
       " 'C:\\\\Users\\\\ASUS\\\\AppData\\\\Roaming\\\\Python\\\\Python311\\\\site-packages',\n",
       " 'd:\\\\anaconda\\\\anaconda\\\\Lib\\\\site-packages',\n",
       " 'd:\\\\anaconda\\\\anaconda\\\\Lib\\\\site-packages\\\\win32',\n",
       " 'd:\\\\anaconda\\\\anaconda\\\\Lib\\\\site-packages\\\\win32\\\\lib',\n",
       " 'd:\\\\anaconda\\\\anaconda\\\\Lib\\\\site-packages\\\\Pythonwin']"
      ]
     },
     "execution_count": 18,
     "metadata": {},
     "output_type": "execute_result"
    }
   ],
   "source": [
    "import sys\n",
    "sys.ps1\n",
    "sys.ps2\n",
    "sys.ps1 = 'c>'\n",
    "sys.path"
   ]
  },
  {
   "cell_type": "markdown",
   "metadata": {},
   "source": [
    "变量```sys.path```是字符串列表，用于确定解释器的模块搜索路径(即解释器要以什么顺序搜索模块)。该变量以环境变量```PYTHONPATH```提取的默认路径进行初始化，如未设置``` PYTHONPATH```，则使用内置的默认路径。"
   ]
  },
  {
   "cell_type": "markdown",
   "metadata": {},
   "source": [
    "# 1.7 dir()函数\n",
    "\n",
    "内置函数```dir()```用于查找模块定义的名称，返回结果是经过排序的字符串列表："
   ]
  },
  {
   "cell_type": "code",
   "execution_count": 24,
   "metadata": {},
   "outputs": [
    {
     "data": {
      "text/plain": [
       "['In',\n",
       " 'Out',\n",
       " '_',\n",
       " '_15',\n",
       " '_16',\n",
       " '_18',\n",
       " '_19',\n",
       " '_20',\n",
       " '_21',\n",
       " '_22',\n",
       " '_23',\n",
       " '_3',\n",
       " '_4',\n",
       " '__',\n",
       " '___',\n",
       " '__builtin__',\n",
       " '__builtins__',\n",
       " '__doc__',\n",
       " '__loader__',\n",
       " '__name__',\n",
       " '__package__',\n",
       " '__spec__',\n",
       " '__vsc_ipynb_file__',\n",
       " '_dh',\n",
       " '_i',\n",
       " '_i1',\n",
       " '_i10',\n",
       " '_i11',\n",
       " '_i12',\n",
       " '_i13',\n",
       " '_i14',\n",
       " '_i15',\n",
       " '_i16',\n",
       " '_i17',\n",
       " '_i18',\n",
       " '_i19',\n",
       " '_i2',\n",
       " '_i20',\n",
       " '_i21',\n",
       " '_i22',\n",
       " '_i23',\n",
       " '_i24',\n",
       " '_i3',\n",
       " '_i4',\n",
       " '_i5',\n",
       " '_i6',\n",
       " '_i7',\n",
       " '_i8',\n",
       " '_i9',\n",
       " '_ih',\n",
       " '_ii',\n",
       " '_iii',\n",
       " '_oh',\n",
       " 'exit',\n",
       " 'fib',\n",
       " 'fib2',\n",
       " 'fibo',\n",
       " 'fibonacci',\n",
       " 'get_ipython',\n",
       " 'open',\n",
       " 'quit',\n",
       " 'sys']"
      ]
     },
     "execution_count": 24,
     "metadata": {},
     "output_type": "execute_result"
    }
   ],
   "source": [
    "import fibo , sys\n",
    "\n",
    "dir(fibo)\n",
    "dir(sys)\n",
    "dir()  # 没有参数时，dir()列出当前已定义的名称"
   ]
  },
  {
   "cell_type": "markdown",
   "metadata": {},
   "source": [
    "```dir()```不会列出内置函数和变量的名称。这些内容的定义在标准模块 ```builtins```中："
   ]
  },
  {
   "cell_type": "code",
   "execution_count": 25,
   "metadata": {},
   "outputs": [
    {
     "data": {
      "text/plain": [
       "['ArithmeticError',\n",
       " 'AssertionError',\n",
       " 'AttributeError',\n",
       " 'BaseException',\n",
       " 'BaseExceptionGroup',\n",
       " 'BlockingIOError',\n",
       " 'BrokenPipeError',\n",
       " 'BufferError',\n",
       " 'BytesWarning',\n",
       " 'ChildProcessError',\n",
       " 'ConnectionAbortedError',\n",
       " 'ConnectionError',\n",
       " 'ConnectionRefusedError',\n",
       " 'ConnectionResetError',\n",
       " 'DeprecationWarning',\n",
       " 'EOFError',\n",
       " 'Ellipsis',\n",
       " 'EncodingWarning',\n",
       " 'EnvironmentError',\n",
       " 'Exception',\n",
       " 'ExceptionGroup',\n",
       " 'False',\n",
       " 'FileExistsError',\n",
       " 'FileNotFoundError',\n",
       " 'FloatingPointError',\n",
       " 'FutureWarning',\n",
       " 'GeneratorExit',\n",
       " 'IOError',\n",
       " 'ImportError',\n",
       " 'ImportWarning',\n",
       " 'IndentationError',\n",
       " 'IndexError',\n",
       " 'InterruptedError',\n",
       " 'IsADirectoryError',\n",
       " 'KeyError',\n",
       " 'KeyboardInterrupt',\n",
       " 'LookupError',\n",
       " 'MemoryError',\n",
       " 'ModuleNotFoundError',\n",
       " 'NameError',\n",
       " 'None',\n",
       " 'NotADirectoryError',\n",
       " 'NotImplemented',\n",
       " 'NotImplementedError',\n",
       " 'OSError',\n",
       " 'OverflowError',\n",
       " 'PendingDeprecationWarning',\n",
       " 'PermissionError',\n",
       " 'ProcessLookupError',\n",
       " 'RecursionError',\n",
       " 'ReferenceError',\n",
       " 'ResourceWarning',\n",
       " 'RuntimeError',\n",
       " 'RuntimeWarning',\n",
       " 'StopAsyncIteration',\n",
       " 'StopIteration',\n",
       " 'SyntaxError',\n",
       " 'SyntaxWarning',\n",
       " 'SystemError',\n",
       " 'SystemExit',\n",
       " 'TabError',\n",
       " 'TimeoutError',\n",
       " 'True',\n",
       " 'TypeError',\n",
       " 'UnboundLocalError',\n",
       " 'UnicodeDecodeError',\n",
       " 'UnicodeEncodeError',\n",
       " 'UnicodeError',\n",
       " 'UnicodeTranslateError',\n",
       " 'UnicodeWarning',\n",
       " 'UserWarning',\n",
       " 'ValueError',\n",
       " 'Warning',\n",
       " 'WindowsError',\n",
       " 'ZeroDivisionError',\n",
       " '__IPYTHON__',\n",
       " '__build_class__',\n",
       " '__debug__',\n",
       " '__doc__',\n",
       " '__import__',\n",
       " '__loader__',\n",
       " '__name__',\n",
       " '__package__',\n",
       " '__spec__',\n",
       " 'abs',\n",
       " 'aiter',\n",
       " 'all',\n",
       " 'anext',\n",
       " 'any',\n",
       " 'ascii',\n",
       " 'bin',\n",
       " 'bool',\n",
       " 'breakpoint',\n",
       " 'bytearray',\n",
       " 'bytes',\n",
       " 'callable',\n",
       " 'chr',\n",
       " 'classmethod',\n",
       " 'compile',\n",
       " 'complex',\n",
       " 'copyright',\n",
       " 'credits',\n",
       " 'delattr',\n",
       " 'dict',\n",
       " 'dir',\n",
       " 'display',\n",
       " 'divmod',\n",
       " 'enumerate',\n",
       " 'eval',\n",
       " 'exec',\n",
       " 'execfile',\n",
       " 'filter',\n",
       " 'float',\n",
       " 'format',\n",
       " 'frozenset',\n",
       " 'get_ipython',\n",
       " 'getattr',\n",
       " 'globals',\n",
       " 'hasattr',\n",
       " 'hash',\n",
       " 'help',\n",
       " 'hex',\n",
       " 'id',\n",
       " 'input',\n",
       " 'int',\n",
       " 'isinstance',\n",
       " 'issubclass',\n",
       " 'iter',\n",
       " 'len',\n",
       " 'license',\n",
       " 'list',\n",
       " 'locals',\n",
       " 'map',\n",
       " 'max',\n",
       " 'memoryview',\n",
       " 'min',\n",
       " 'next',\n",
       " 'object',\n",
       " 'oct',\n",
       " 'open',\n",
       " 'ord',\n",
       " 'pow',\n",
       " 'print',\n",
       " 'property',\n",
       " 'range',\n",
       " 'repr',\n",
       " 'reversed',\n",
       " 'round',\n",
       " 'runfile',\n",
       " 'set',\n",
       " 'setattr',\n",
       " 'slice',\n",
       " 'sorted',\n",
       " 'staticmethod',\n",
       " 'str',\n",
       " 'sum',\n",
       " 'super',\n",
       " 'tuple',\n",
       " 'type',\n",
       " 'vars',\n",
       " 'zip']"
      ]
     },
     "execution_count": 25,
     "metadata": {},
     "output_type": "execute_result"
    }
   ],
   "source": [
    "import builtins\n",
    "dir(builtins)"
   ]
  }
 ],
 "metadata": {
  "kernelspec": {
   "display_name": "Python 3 (ipykernel)",
   "language": "python",
   "name": "python3"
  },
  "language_info": {
   "codemirror_mode": {
    "name": "ipython",
    "version": 3
   },
   "file_extension": ".py",
   "mimetype": "text/x-python",
   "name": "python",
   "nbconvert_exporter": "python",
   "pygments_lexer": "ipython3",
   "version": "3.11.4"
  }
 },
 "nbformat": 4,
 "nbformat_minor": 2
}
