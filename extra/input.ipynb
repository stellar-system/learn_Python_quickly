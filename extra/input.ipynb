{
 "cells": [
  {
   "cell_type": "markdown",
   "id": "33130d5c",
   "metadata": {},
   "source": [
    "#  input()函数\n",
    "\n",
    "-------------------------------\n",
    "\n",
    "函数input()让程序停止运行，等待用户输入一些文本，获取用户输入后，python将其存储在一个变量中方便调用"
   ]
  },
  {
   "cell_type": "markdown",
   "id": "08cf2340",
   "metadata": {},
   "source": [
    "input()函数的定义如下：\n",
    "\n",
    "```python\n",
    "def input(__prompt: object = \"\") -> str: ...\n",
    "```\n",
    "\n",
    "这是Python built-in函数input()的类型注解，它接收一个可选的__prompt参数，该参数的默认值为空字符串。函数返回一个字符串，可以将返回值赋给某一变量。input函数用于从用户获取输入，并将用户输入作为字符串返回。如果提供了__prompt参数，它将作为提示显示给用户。"
   ]
  },
  {
   "cell_type": "markdown",
   "id": "f413294c",
   "metadata": {},
   "source": [
    "input()在help函数中的解释\n",
    "\n",
    "```input(prompt='', /)```\n",
    "\n",
    "Read a string from standard input.  The trailing newline is stripped.\n",
    "\n",
    "The prompt string, if given, is printed to standard output without a\n",
    "trailing newline before reading input.\n",
    "\n",
    "If the user hits EOF (*nix: Ctrl-D, Windows: Ctrl-Z+Return), raise EOFError.\n",
    "On *nix systems, readline is used if available."
   ]
  },
  {
   "cell_type": "code",
   "execution_count": 1,
   "id": "1de22c57",
   "metadata": {},
   "outputs": [
    {
     "name": "stdout",
     "output_type": "stream",
     "text": [
      "Tell me something, and I will repeat it back to you: mesg\n",
      "mesg\n"
     ]
    }
   ],
   "source": [
    "msg = input(\"Tell me something, and I will repeat it back to you: \")\n",
    "print(msg)"
   ]
  },
  {
   "cell_type": "markdown",
   "id": "97fbefce",
   "metadata": {},
   "source": [
    "注意：input()方法会默认将用户输入存储为str格式，若需要的变量为int或其他类型，需要进行类型转换"
   ]
  },
  {
   "cell_type": "code",
   "execution_count": 2,
   "id": "39355596",
   "metadata": {},
   "outputs": [
    {
     "name": "stdout",
     "output_type": "stream",
     "text": [
      "1\n",
      "<class 'str'>\n",
      "<class 'int'>\n"
     ]
    }
   ],
   "source": [
    "num = input('tell me a number: ')\n",
    "print(num)\n",
    "print(type(num))\n",
    "num = int(num)\n",
    "print(type(num))"
   ]
  }
 ],
 "metadata": {
  "kernelspec": {
   "display_name": "Python 3 (ipykernel)",
   "language": "python",
   "name": "python3"
  },
  "language_info": {
   "codemirror_mode": {
    "name": "ipython",
    "version": 3
   },
   "file_extension": ".py",
   "mimetype": "text/x-python",
   "name": "python",
   "nbconvert_exporter": "python",
   "pygments_lexer": "ipython3",
   "version": "3.11.4"
  }
 },
 "nbformat": 4,
 "nbformat_minor": 5
}
