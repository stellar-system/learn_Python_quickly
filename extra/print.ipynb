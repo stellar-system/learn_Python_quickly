{
 "cells": [
  {
   "cell_type": "markdown",
   "metadata": {},
   "source": [
    "# print()函数\n",
    "\n",
    "----------------------------------\n",
    "\n",
    "print函数用于打印或输出给定参数"
   ]
  },
  {
   "cell_type": "markdown",
   "metadata": {},
   "source": [
    "print()函数的定义如下：\n",
    "\n",
    "```python\n",
    "def print(\n",
    "    *values: object,\n",
    "    sep: str | None = \" \",\n",
    "    end: str | None = \"\\n\",\n",
    "    file: SupportsWrite[str] | None = None,\n",
    "    flush: Literal[False] = False,\n",
    ") -> None: ...\n",
    "```\n",
    "\n",
    "这是Python built-in函数print的类型解释，它接收以下参数：\n",
    "- *values: object : 可变数量的参数，表示要打印的值。这意味着，我们在使用print时，不一定只能输出一个变量或字符串。\n",
    "- sep: str | None = \" \" : 表示值之间的分隔值，默认为一个空格。\n",
    "- end: str | None = \"\\n\" : 表示打印结束后要添加的字符，默认为换行符。（因此每次打印结束后，会默认进入下一行）\n",
    "- file: SupportsWrite[str] | None = None : 表示要将输出写入的文件对象，默认为标准输出sys.stdout。通过将一个文件对象传递给file参数，你可以将print函数的输出写入到指定文件中，而不是默认的标准输出（终端）。\n",
    "- flush: Literal[False] = False : 表示是否刷新输出缓冲区，默认为False。\n",
    "- 返回值：函数的返回类型为None，即没有返回值"
   ]
  },
  {
   "cell_type": "code",
   "execution_count": 2,
   "metadata": {},
   "outputs": [
    {
     "name": "stdout",
     "output_type": "stream",
     "text": [
      "aaa bbb\n"
     ]
    }
   ],
   "source": [
    "# 参数1 接收多个传入参数\n",
    "print('aaa', 'bbb')"
   ]
  },
  {
   "cell_type": "code",
   "execution_count": 3,
   "metadata": {},
   "outputs": [
    {
     "name": "stdout",
     "output_type": "stream",
     "text": [
      "aaa and bbb\n"
     ]
    }
   ],
   "source": [
    "# 参数2 修改值之间的分隔值为‘ and ’\n",
    "print('aaa', 'bbb', sep=' and ')"
   ]
  },
  {
   "cell_type": "code",
   "execution_count": 5,
   "metadata": {},
   "outputs": [
    {
     "name": "stdout",
     "output_type": "stream",
     "text": [
      "aaa!"
     ]
    }
   ],
   "source": [
    "# 参数3 修改文件结束字符为' !'\n",
    "print('aaa', end='!')"
   ]
  },
  {
   "cell_type": "code",
   "execution_count": 16,
   "metadata": {},
   "outputs": [],
   "source": [
    "# 参数4 将输出写入到文件\n",
    "with open('test_print.txt', 'a') as f:\n",
    "    print('aa', 'bbb', file=f)"
   ]
  },
  {
   "cell_type": "markdown",
   "metadata": {},
   "source": [
    "👆使用这种方法时，需要注意文件的打开方式为附加模式，否则会覆盖原文件"
   ]
  },
  {
   "cell_type": "code",
   "execution_count": 28,
   "metadata": {},
   "outputs": [
    {
     "name": "stdout",
     "output_type": "stream",
     "text": [
      "Processing step 1...\n",
      "Step completed.\n",
      "Processing step 2...\n",
      "Step completed.\n",
      "Processing step 3...\n",
      "Step completed.\n",
      "Processing step 4...\n",
      "Step completed.\n",
      "Processing step 5...\n",
      "Step completed.\n",
      "Program finished!\n"
     ]
    }
   ],
   "source": [
    "# 参数5 将缓冲区刷新\n",
    "import time\n",
    "\n",
    "for i in range(5):\n",
    "    print(f\"Processing step {i+1}...\")\n",
    "    time.sleep(3)\n",
    "    print(\"Step completed.\", flush=True)\n",
    "\n",
    "print(\"Program finished!\")"
   ]
  },
  {
   "cell_type": "markdown",
   "metadata": {},
   "source": [
    "🛎️刷新缓冲区是指将缓冲区中的数据立即写入到输出设备（终端或文件）中，在Python中，print函数默认情况下不会立即将输出写入到终端，而是先将输出存储在缓冲区中，然后在适当的时机将缓冲区的内容写入到终端。\n",
    "\n",
    "当flush的参数设置为True时，表示要立即刷新缓冲区，即将缓冲区中的内容立即写入到输出设备中，这在某些情况下很有用。例如当你希望立即将输出显示在终端上，而不是等到缓冲区满或程序结束时才显示。"
   ]
  },
  {
   "cell_type": "markdown",
   "metadata": {},
   "source": [
    "以下是一些可能需要使用flush=True的情况：\n",
    "\n",
    "1. 实时日志记录：如果你正在编写一个需要实时记录日志的应用程序，你可能希望将日志消息立即显示在终端或日志文件中。\n",
    "\n",
    "2. 长时间运行的程序：当你有一个长时间运行的程序，需要逐步输出一些信息时。\n",
    "\n",
    "3. 调试和排除故障：在调试和故障排除过程中，你可能希望立即将某些信息显示在终端上，以便更好地理解程序的执行流程和状态。\n",
    "\n",
    "❗使用flush=True会频繁地将输出写入到输出设备，可能会对程序的性能产生影响。因此只在必要时使用，以避免不必要的性能开销。"
   ]
  },
  {
   "cell_type": "markdown",
   "metadata": {},
   "source": []
  }
 ],
 "metadata": {
  "kernelspec": {
   "display_name": "Python 3",
   "language": "python",
   "name": "python3"
  },
  "language_info": {
   "codemirror_mode": {
    "name": "ipython",
    "version": 3
   },
   "file_extension": ".py",
   "mimetype": "text/x-python",
   "name": "python",
   "nbconvert_exporter": "python",
   "pygments_lexer": "ipython3",
   "version": "3.11.4"
  }
 },
 "nbformat": 4,
 "nbformat_minor": 2
}
